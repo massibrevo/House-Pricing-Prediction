{
  "cells": [
    {
      "cell_type": "markdown",
      "metadata": {
        "id": "YbliCzc0Mc_V"
      },
      "source": [
        "1. Get the data \n",
        "2. Divide de data\n",
        "3. Discover\n",
        "4. Prepare Data for the Machine Learning Model\n",
        "5. Select and Train a model(Linear Regression or nearest neighboohood)\n",
        "6. Fine Tuning of the model \n",
        "7. Evaluate the model and launch the model into production\n"
      ]
    },
    {
      "cell_type": "markdown",
      "source": [
        "Data Cleaning\n",
        "\n",
        "**Duplicates & NaNs**: I started by removing duplicates from the data, checked for missing or NaN (not a number) values. It’s important to check for NaNs (and not just because it’s socially moral) because these cause errors in the machine learning models.\n",
        "\n",
        "**Categorical Features**: There are a lot of categorical variables that are marked as N/A when a feature of the house is nonexistent. For example, when no alley is present. I identified all the cases where this was happening across the training and test data and replaced the N/As with something more descriptive.\n",
        "N/As can cause errors with machine learning later down the line so get rid of them.\n",
        "\n",
        "**Date Features**: For this exercise dates would be better used as categories and not integers. After all, it’s not so much the magnitude that we care about but rather that the dates represent different years. Solving this problem is simple, just convert the numeric dates to strings.\n",
        "\n",
        "**Decoded Variables**: Some categorical variables had been number encoded. "
      ],
      "metadata": {
        "id": "drTl2MEMLg8s"
      }
    },
    {
      "cell_type": "code",
      "execution_count": null,
      "metadata": {
        "colab": {
          "base_uri": "https://localhost:8080/",
          "height": 17
        },
        "id": "ph8w-3KsMc_X",
        "outputId": "301408f2-40e7-4789-bfdc-15f9ef508df6"
      },
      "outputs": [
        {
          "output_type": "display_data",
          "data": {
            "text/html": [
              "<style>.container { width:100% !important; }</style>"
            ],
            "text/plain": [
              "<IPython.core.display.HTML object>"
            ]
          },
          "metadata": {}
        }
      ],
      "source": [
        "# some imports\n",
        "from IPython.core.display import display, HTML\n",
        "display(HTML(\"<style>.container { width:100% !important; }</style>\"))\n",
        "\n",
        "# Python ≥3.5 is required\n",
        "import sys\n",
        "assert sys.version_info >= (3, 5)\n",
        "\n",
        "# Scikit-Learn ≥0.20 is required\n",
        "import sklearn\n",
        "assert sklearn.__version__ >= \"0.20\"\n",
        "\n",
        "# Common imports\n",
        "import numpy as np\n",
        "import os\n",
        "\n",
        "# to make this notebook's output stable across runs\n",
        "np.random.seed(42)\n",
        "\n",
        "# To plot pretty figures\n",
        "%matplotlib inline\n",
        "import matplotlib as mpl\n",
        "import matplotlib.pyplot as plt\n",
        "mpl.rc('axes', labelsize=14)\n",
        "mpl.rc('xtick', labelsize=12)\n",
        "mpl.rc('ytick', labelsize=12)\n",
        "plt.rc('font', size=12) \n",
        "plt.rc('figure', figsize = (12, 5))\n",
        "\n",
        "# Settings for the visualizations\n",
        "import seaborn as sns\n",
        "sns.set_style(\"whitegrid\")\n",
        "sns.set_context(\"notebook\", font_scale=1, rc={\"lines.linewidth\": 2,'font.family': [u'times']})\n",
        "\n",
        "import pandas as pd\n",
        "pd.set_option('display.max_rows', 25)\n",
        "pd.set_option('display.max_columns', 500)\n",
        "pd.set_option('display.max_colwidth', 50)\n",
        "\n",
        "# Ignore useless warnings (see SciPy issue #5998)\n",
        "import warnings\n",
        "warnings.filterwarnings(action=\"ignore\", message=\"^internal gelsd\")\n",
        "\n",
        "# create output folder\n",
        "if not os.path.exists('output'):\n",
        "    os.makedirs('output')\n",
        "if not os.path.exists('output/session1'):\n",
        "    os.makedirs('output/session1')\n",
        "\n",
        "import numpy as np # linear algebra\n",
        "import pandas as pd # data processing, CSV file I/O (e.g. pd.read_csv)\n",
        "\n",
        "# Input data files are available in the \"../input/\" directory.\n",
        "# For example, running this (by clicking run or pressing Shift+Enter) will list the files in the input directory\n",
        "import matplotlib.gridspec as gridspec\n",
        "from datetime import datetime\n",
        "from scipy.stats import skew  # for some statistics\n",
        "from scipy.special import boxcox1p\n",
        "from scipy.stats import boxcox_normmax\n",
        "from sklearn.linear_model import ElasticNetCV, LassoCV, RidgeCV\n",
        "from sklearn.ensemble import GradientBoostingRegressor\n",
        "from sklearn.svm import SVR\n",
        "from sklearn.pipeline import make_pipeline\n",
        "from sklearn.preprocessing import RobustScaler\n",
        "from sklearn.model_selection import KFold, cross_val_score\n",
        "from sklearn.metrics import mean_squared_error\n",
        "from mlxtend.regressor import StackingCVRegressor\n",
        "from xgboost import XGBRegressor\n",
        "from lightgbm import LGBMRegressor\n",
        "import matplotlib.pyplot as plt\n",
        "import scipy.stats as stats\n",
        "import sklearn.linear_model as linear_model\n",
        "import matplotlib.style as style\n",
        "import seaborn as sns\n",
        "from sklearn.manifold import TSNE\n",
        "from sklearn.cluster import KMeans\n",
        "from sklearn.decomposition import PCA\n",
        "from sklearn.preprocessing import StandardScaler\n",
        "import missingno as msno\n"
      ]
    },
    {
      "cell_type": "code",
      "execution_count": null,
      "metadata": {
        "id": "wo9DiJOgMc_Z"
      },
      "outputs": [],
      "source": [
        "# to make this notebook's output identical at every run\n",
        "np.random.seed(42)"
      ]
    },
    {
      "cell_type": "markdown",
      "metadata": {
        "id": "EIoJbxgaMc_Z"
      },
      "source": [
        "## Get the data"
      ]
    },
    {
      "cell_type": "code",
      "execution_count": null,
      "metadata": {
        "id": "whNu1t7zMc_a"
      },
      "outputs": [],
      "source": [
        "housing = pd.read_csv('/content/train_set.csv') # change path (Github or similar)"
      ]
    },
    {
      "cell_type": "code",
      "execution_count": null,
      "metadata": {
        "colab": {
          "base_uri": "https://localhost:8080/"
        },
        "id": "C__IrYsfMc_b",
        "outputId": "73a1cf74-415d-4f94-bcdb-83984058aff9"
      },
      "outputs": [
        {
          "output_type": "execute_result",
          "data": {
            "text/plain": [
              "(5432, 22)"
            ]
          },
          "metadata": {},
          "execution_count": 5
        }
      ],
      "source": [
        "housing.shape"
      ]
    },
    {
      "cell_type": "code",
      "execution_count": null,
      "metadata": {
        "colab": {
          "base_uri": "https://localhost:8080/"
        },
        "id": "cQanpFcnMc_c",
        "outputId": "9350ec7a-65ff-4c76-a26f-8069d4798c54"
      },
      "outputs": [
        {
          "output_type": "stream",
          "name": "stdout",
          "text": [
            "<class 'pandas.core.frame.DataFrame'>\n",
            "RangeIndex: 5432 entries, 0 to 5431\n",
            "Data columns (total 22 columns):\n",
            " #   Column         Non-Null Count  Dtype  \n",
            "---  ------         --------------  -----  \n",
            " 0   index          5432 non-null   int64  \n",
            " 1   Suburb         5432 non-null   object \n",
            " 2   Address        5432 non-null   object \n",
            " 3   Rooms          5432 non-null   int64  \n",
            " 4   Type           5432 non-null   object \n",
            " 5   Price          5432 non-null   float64\n",
            " 6   Method         5432 non-null   object \n",
            " 7   SellerG        5432 non-null   object \n",
            " 8   Date           5432 non-null   object \n",
            " 9   Distance       5432 non-null   float64\n",
            " 10  Postcode       5432 non-null   float64\n",
            " 11  Bedroom2       5432 non-null   float64\n",
            " 12  Bathroom       5432 non-null   float64\n",
            " 13  Car            5407 non-null   float64\n",
            " 14  Landsize       5432 non-null   float64\n",
            " 15  BuildingArea   2890 non-null   float64\n",
            " 16  YearBuilt      3302 non-null   float64\n",
            " 17  CouncilArea    4879 non-null   object \n",
            " 18  Lattitude      5432 non-null   float64\n",
            " 19  Longtitude     5432 non-null   float64\n",
            " 20  Regionname     5432 non-null   object \n",
            " 21  Propertycount  5432 non-null   float64\n",
            "dtypes: float64(12), int64(2), object(8)\n",
            "memory usage: 933.8+ KB\n"
          ]
        }
      ],
      "source": [
        "housing.info()"
      ]
    },
    {
      "cell_type": "code",
      "execution_count": null,
      "metadata": {
        "colab": {
          "base_uri": "https://localhost:8080/"
        },
        "id": "UonPfez2Mc_c",
        "outputId": "ead465c4-fb19-43bf-aee2-b01b6a888139"
      },
      "outputs": [
        {
          "output_type": "execute_result",
          "data": {
            "text/plain": [
              "h    3765\n",
              "u    1191\n",
              "t     476\n",
              "Name: Type, dtype: int64"
            ]
          },
          "metadata": {},
          "execution_count": 7
        }
      ],
      "source": [
        "housing[\"Type\"].value_counts()"
      ]
    },
    {
      "cell_type": "code",
      "execution_count": null,
      "metadata": {
        "colab": {
          "base_uri": "https://localhost:8080/",
          "height": 364
        },
        "id": "RLAluTSpMc_c",
        "outputId": "195f5842-edf3-40e3-e9cb-e1eeef6e5fda"
      },
      "outputs": [
        {
          "output_type": "execute_result",
          "data": {
            "text/html": [
              "\n",
              "  <div id=\"df-0ad31f1a-e236-4b89-a311-5f592ef569db\">\n",
              "    <div class=\"colab-df-container\">\n",
              "      <div>\n",
              "<style scoped>\n",
              "    .dataframe tbody tr th:only-of-type {\n",
              "        vertical-align: middle;\n",
              "    }\n",
              "\n",
              "    .dataframe tbody tr th {\n",
              "        vertical-align: top;\n",
              "    }\n",
              "\n",
              "    .dataframe thead th {\n",
              "        text-align: right;\n",
              "    }\n",
              "</style>\n",
              "<table border=\"1\" class=\"dataframe\">\n",
              "  <thead>\n",
              "    <tr style=\"text-align: right;\">\n",
              "      <th></th>\n",
              "      <th>index</th>\n",
              "      <th>Rooms</th>\n",
              "      <th>Price</th>\n",
              "      <th>Distance</th>\n",
              "      <th>Postcode</th>\n",
              "      <th>Bedroom2</th>\n",
              "      <th>Bathroom</th>\n",
              "      <th>Car</th>\n",
              "      <th>Landsize</th>\n",
              "      <th>BuildingArea</th>\n",
              "      <th>YearBuilt</th>\n",
              "      <th>Lattitude</th>\n",
              "      <th>Longtitude</th>\n",
              "      <th>Propertycount</th>\n",
              "    </tr>\n",
              "  </thead>\n",
              "  <tbody>\n",
              "    <tr>\n",
              "      <th>count</th>\n",
              "      <td>5432.000000</td>\n",
              "      <td>5432.000000</td>\n",
              "      <td>5.432000e+03</td>\n",
              "      <td>5432.000000</td>\n",
              "      <td>5432.000000</td>\n",
              "      <td>5432.000000</td>\n",
              "      <td>5432.000000</td>\n",
              "      <td>5407.000000</td>\n",
              "      <td>5432.000000</td>\n",
              "      <td>2890.000000</td>\n",
              "      <td>3302.000000</td>\n",
              "      <td>5432.000000</td>\n",
              "      <td>5432.000000</td>\n",
              "      <td>5432.000000</td>\n",
              "    </tr>\n",
              "    <tr>\n",
              "      <th>mean</th>\n",
              "      <td>2715.500000</td>\n",
              "      <td>2.937224</td>\n",
              "      <td>1.078470e+06</td>\n",
              "      <td>10.220692</td>\n",
              "      <td>3106.552835</td>\n",
              "      <td>2.917342</td>\n",
              "      <td>1.538660</td>\n",
              "      <td>1.630109</td>\n",
              "      <td>537.054676</td>\n",
              "      <td>163.462430</td>\n",
              "      <td>1965.219564</td>\n",
              "      <td>-37.809664</td>\n",
              "      <td>144.995491</td>\n",
              "      <td>7438.537555</td>\n",
              "    </tr>\n",
              "    <tr>\n",
              "      <th>std</th>\n",
              "      <td>1568.227662</td>\n",
              "      <td>0.951947</td>\n",
              "      <td>6.470654e+05</td>\n",
              "      <td>5.996967</td>\n",
              "      <td>95.185290</td>\n",
              "      <td>0.988414</td>\n",
              "      <td>0.704286</td>\n",
              "      <td>0.982855</td>\n",
              "      <td>1550.867601</td>\n",
              "      <td>843.189116</td>\n",
              "      <td>36.244398</td>\n",
              "      <td>0.079365</td>\n",
              "      <td>0.106382</td>\n",
              "      <td>4368.906756</td>\n",
              "    </tr>\n",
              "    <tr>\n",
              "      <th>min</th>\n",
              "      <td>0.000000</td>\n",
              "      <td>1.000000</td>\n",
              "      <td>1.450000e+05</td>\n",
              "      <td>0.000000</td>\n",
              "      <td>3000.000000</td>\n",
              "      <td>0.000000</td>\n",
              "      <td>0.000000</td>\n",
              "      <td>0.000000</td>\n",
              "      <td>0.000000</td>\n",
              "      <td>0.000000</td>\n",
              "      <td>1830.000000</td>\n",
              "      <td>-38.174880</td>\n",
              "      <td>144.542370</td>\n",
              "      <td>389.000000</td>\n",
              "    </tr>\n",
              "    <tr>\n",
              "      <th>25%</th>\n",
              "      <td>1357.750000</td>\n",
              "      <td>2.000000</td>\n",
              "      <td>6.500000e+05</td>\n",
              "      <td>6.200000</td>\n",
              "      <td>3046.000000</td>\n",
              "      <td>2.000000</td>\n",
              "      <td>1.000000</td>\n",
              "      <td>1.000000</td>\n",
              "      <td>182.750000</td>\n",
              "      <td>92.000000</td>\n",
              "      <td>1940.000000</td>\n",
              "      <td>-37.856648</td>\n",
              "      <td>144.930800</td>\n",
              "      <td>4294.000000</td>\n",
              "    </tr>\n",
              "    <tr>\n",
              "      <th>50%</th>\n",
              "      <td>2715.500000</td>\n",
              "      <td>3.000000</td>\n",
              "      <td>9.015000e+05</td>\n",
              "      <td>9.200000</td>\n",
              "      <td>3084.000000</td>\n",
              "      <td>3.000000</td>\n",
              "      <td>1.000000</td>\n",
              "      <td>2.000000</td>\n",
              "      <td>450.000000</td>\n",
              "      <td>125.000000</td>\n",
              "      <td>1970.000000</td>\n",
              "      <td>-37.802635</td>\n",
              "      <td>145.000250</td>\n",
              "      <td>6543.000000</td>\n",
              "    </tr>\n",
              "    <tr>\n",
              "      <th>75%</th>\n",
              "      <td>4073.250000</td>\n",
              "      <td>3.000000</td>\n",
              "      <td>1.330000e+06</td>\n",
              "      <td>13.000000</td>\n",
              "      <td>3148.000000</td>\n",
              "      <td>3.000000</td>\n",
              "      <td>2.000000</td>\n",
              "      <td>2.000000</td>\n",
              "      <td>654.250000</td>\n",
              "      <td>174.750000</td>\n",
              "      <td>1999.000000</td>\n",
              "      <td>-37.757238</td>\n",
              "      <td>145.059225</td>\n",
              "      <td>10331.000000</td>\n",
              "    </tr>\n",
              "    <tr>\n",
              "      <th>max</th>\n",
              "      <td>5431.000000</td>\n",
              "      <td>8.000000</td>\n",
              "      <td>8.000000e+06</td>\n",
              "      <td>48.100000</td>\n",
              "      <td>3977.000000</td>\n",
              "      <td>20.000000</td>\n",
              "      <td>8.000000</td>\n",
              "      <td>10.000000</td>\n",
              "      <td>75100.000000</td>\n",
              "      <td>44515.000000</td>\n",
              "      <td>2018.000000</td>\n",
              "      <td>-37.408530</td>\n",
              "      <td>145.526350</td>\n",
              "      <td>21650.000000</td>\n",
              "    </tr>\n",
              "  </tbody>\n",
              "</table>\n",
              "</div>\n",
              "      <button class=\"colab-df-convert\" onclick=\"convertToInteractive('df-0ad31f1a-e236-4b89-a311-5f592ef569db')\"\n",
              "              title=\"Convert this dataframe to an interactive table.\"\n",
              "              style=\"display:none;\">\n",
              "        \n",
              "  <svg xmlns=\"http://www.w3.org/2000/svg\" height=\"24px\"viewBox=\"0 0 24 24\"\n",
              "       width=\"24px\">\n",
              "    <path d=\"M0 0h24v24H0V0z\" fill=\"none\"/>\n",
              "    <path d=\"M18.56 5.44l.94 2.06.94-2.06 2.06-.94-2.06-.94-.94-2.06-.94 2.06-2.06.94zm-11 1L8.5 8.5l.94-2.06 2.06-.94-2.06-.94L8.5 2.5l-.94 2.06-2.06.94zm10 10l.94 2.06.94-2.06 2.06-.94-2.06-.94-.94-2.06-.94 2.06-2.06.94z\"/><path d=\"M17.41 7.96l-1.37-1.37c-.4-.4-.92-.59-1.43-.59-.52 0-1.04.2-1.43.59L10.3 9.45l-7.72 7.72c-.78.78-.78 2.05 0 2.83L4 21.41c.39.39.9.59 1.41.59.51 0 1.02-.2 1.41-.59l7.78-7.78 2.81-2.81c.8-.78.8-2.07 0-2.86zM5.41 20L4 18.59l7.72-7.72 1.47 1.35L5.41 20z\"/>\n",
              "  </svg>\n",
              "      </button>\n",
              "      \n",
              "  <style>\n",
              "    .colab-df-container {\n",
              "      display:flex;\n",
              "      flex-wrap:wrap;\n",
              "      gap: 12px;\n",
              "    }\n",
              "\n",
              "    .colab-df-convert {\n",
              "      background-color: #E8F0FE;\n",
              "      border: none;\n",
              "      border-radius: 50%;\n",
              "      cursor: pointer;\n",
              "      display: none;\n",
              "      fill: #1967D2;\n",
              "      height: 32px;\n",
              "      padding: 0 0 0 0;\n",
              "      width: 32px;\n",
              "    }\n",
              "\n",
              "    .colab-df-convert:hover {\n",
              "      background-color: #E2EBFA;\n",
              "      box-shadow: 0px 1px 2px rgba(60, 64, 67, 0.3), 0px 1px 3px 1px rgba(60, 64, 67, 0.15);\n",
              "      fill: #174EA6;\n",
              "    }\n",
              "\n",
              "    [theme=dark] .colab-df-convert {\n",
              "      background-color: #3B4455;\n",
              "      fill: #D2E3FC;\n",
              "    }\n",
              "\n",
              "    [theme=dark] .colab-df-convert:hover {\n",
              "      background-color: #434B5C;\n",
              "      box-shadow: 0px 1px 3px 1px rgba(0, 0, 0, 0.15);\n",
              "      filter: drop-shadow(0px 1px 2px rgba(0, 0, 0, 0.3));\n",
              "      fill: #FFFFFF;\n",
              "    }\n",
              "  </style>\n",
              "\n",
              "      <script>\n",
              "        const buttonEl =\n",
              "          document.querySelector('#df-0ad31f1a-e236-4b89-a311-5f592ef569db button.colab-df-convert');\n",
              "        buttonEl.style.display =\n",
              "          google.colab.kernel.accessAllowed ? 'block' : 'none';\n",
              "\n",
              "        async function convertToInteractive(key) {\n",
              "          const element = document.querySelector('#df-0ad31f1a-e236-4b89-a311-5f592ef569db');\n",
              "          const dataTable =\n",
              "            await google.colab.kernel.invokeFunction('convertToInteractive',\n",
              "                                                     [key], {});\n",
              "          if (!dataTable) return;\n",
              "\n",
              "          const docLinkHtml = 'Like what you see? Visit the ' +\n",
              "            '<a target=\"_blank\" href=https://colab.research.google.com/notebooks/data_table.ipynb>data table notebook</a>'\n",
              "            + ' to learn more about interactive tables.';\n",
              "          element.innerHTML = '';\n",
              "          dataTable['output_type'] = 'display_data';\n",
              "          await google.colab.output.renderOutput(dataTable, element);\n",
              "          const docLink = document.createElement('div');\n",
              "          docLink.innerHTML = docLinkHtml;\n",
              "          element.appendChild(docLink);\n",
              "        }\n",
              "      </script>\n",
              "    </div>\n",
              "  </div>\n",
              "  "
            ],
            "text/plain": [
              "             index        Rooms         Price     Distance     Postcode  \\\n",
              "count  5432.000000  5432.000000  5.432000e+03  5432.000000  5432.000000   \n",
              "mean   2715.500000     2.937224  1.078470e+06    10.220692  3106.552835   \n",
              "std    1568.227662     0.951947  6.470654e+05     5.996967    95.185290   \n",
              "min       0.000000     1.000000  1.450000e+05     0.000000  3000.000000   \n",
              "25%    1357.750000     2.000000  6.500000e+05     6.200000  3046.000000   \n",
              "50%    2715.500000     3.000000  9.015000e+05     9.200000  3084.000000   \n",
              "75%    4073.250000     3.000000  1.330000e+06    13.000000  3148.000000   \n",
              "max    5431.000000     8.000000  8.000000e+06    48.100000  3977.000000   \n",
              "\n",
              "          Bedroom2     Bathroom          Car      Landsize  BuildingArea  \\\n",
              "count  5432.000000  5432.000000  5407.000000   5432.000000   2890.000000   \n",
              "mean      2.917342     1.538660     1.630109    537.054676    163.462430   \n",
              "std       0.988414     0.704286     0.982855   1550.867601    843.189116   \n",
              "min       0.000000     0.000000     0.000000      0.000000      0.000000   \n",
              "25%       2.000000     1.000000     1.000000    182.750000     92.000000   \n",
              "50%       3.000000     1.000000     2.000000    450.000000    125.000000   \n",
              "75%       3.000000     2.000000     2.000000    654.250000    174.750000   \n",
              "max      20.000000     8.000000    10.000000  75100.000000  44515.000000   \n",
              "\n",
              "         YearBuilt    Lattitude   Longtitude  Propertycount  \n",
              "count  3302.000000  5432.000000  5432.000000    5432.000000  \n",
              "mean   1965.219564   -37.809664   144.995491    7438.537555  \n",
              "std      36.244398     0.079365     0.106382    4368.906756  \n",
              "min    1830.000000   -38.174880   144.542370     389.000000  \n",
              "25%    1940.000000   -37.856648   144.930800    4294.000000  \n",
              "50%    1970.000000   -37.802635   145.000250    6543.000000  \n",
              "75%    1999.000000   -37.757238   145.059225   10331.000000  \n",
              "max    2018.000000   -37.408530   145.526350   21650.000000  "
            ]
          },
          "metadata": {},
          "execution_count": 8
        }
      ],
      "source": [
        "housing.describe()"
      ]
    },
    {
      "cell_type": "code",
      "execution_count": null,
      "metadata": {
        "id": "u4xCysCiMc_d"
      },
      "outputs": [],
      "source": [
        "## POSTCODE IS NOT NUMERIC, we should change it to categorical\n",
        "housing['Postcode'] = pd.Categorical(housing.Postcode)\n",
        "\n",
        "housing.YearBuilt = housing.YearBuilt.astype(str) # Train \n",
        "# ---- # Test"
      ]
    },
    {
      "cell_type": "code",
      "source": [
        "import missingno as msno\n",
        "msno.matrix(housing);"
      ],
      "metadata": {
        "colab": {
          "base_uri": "https://localhost:8080/",
          "height": 474
        },
        "id": "EFBX6G7SPMoX",
        "outputId": "d9d8352a-8487-4ccb-d85e-10d3d28aeda7"
      },
      "execution_count": null,
      "outputs": [
        {
          "output_type": "display_data",
          "data": {
            "image/png": "[encoded data removed]",
            "text/plain": [
              "<Figure size 1800x720 with 2 Axes>"
            ]
          },
          "metadata": {}
        }
      ]
    },
    {
      "cell_type": "code",
      "source": [
        "def missing_percentage(df):\n",
        "    \"\"\"This function takes a DataFrame(df) as input and returns two columns, total missing values and total missing values percentage\"\"\"\n",
        "    ## the two following line may seem complicated but its actually very simple. \n",
        "    total = df.isnull().sum().sort_values(ascending = False)[df.isnull().sum().sort_values(ascending = False) != 0]\n",
        "    percent = round(df.isnull().sum().sort_values(ascending = False)/len(df)*100,2)[round(df.isnull().sum().sort_values(ascending = False)/len(df)*100,2) != 0]\n",
        "    return pd.concat([total, percent], axis=1, keys=['Total','Percent'])\n",
        "\n",
        "missing_percentage(housing)"
      ],
      "metadata": {
        "colab": {
          "base_uri": "https://localhost:8080/",
          "height": 143
        },
        "id": "yWSa93XLPmyU",
        "outputId": "3d662417-7116-4cc0-9184-2c0daa4ee954"
      },
      "execution_count": null,
      "outputs": [
        {
          "output_type": "execute_result",
          "data": {
            "text/html": [
              "\n",
              "  <div id=\"df-d6ed3f94-5978-4ca6-b471-f948c15ce56e\">\n",
              "    <div class=\"colab-df-container\">\n",
              "      <div>\n",
              "<style scoped>\n",
              "    .dataframe tbody tr th:only-of-type {\n",
              "        vertical-align: middle;\n",
              "    }\n",
              "\n",
              "    .dataframe tbody tr th {\n",
              "        vertical-align: top;\n",
              "    }\n",
              "\n",
              "    .dataframe thead th {\n",
              "        text-align: right;\n",
              "    }\n",
              "</style>\n",
              "<table border=\"1\" class=\"dataframe\">\n",
              "  <thead>\n",
              "    <tr style=\"text-align: right;\">\n",
              "      <th></th>\n",
              "      <th>Total</th>\n",
              "      <th>Percent</th>\n",
              "    </tr>\n",
              "  </thead>\n",
              "  <tbody>\n",
              "    <tr>\n",
              "      <th>BuildingArea</th>\n",
              "      <td>2542</td>\n",
              "      <td>46.80</td>\n",
              "    </tr>\n",
              "    <tr>\n",
              "      <th>CouncilArea</th>\n",
              "      <td>553</td>\n",
              "      <td>10.18</td>\n",
              "    </tr>\n",
              "    <tr>\n",
              "      <th>Car</th>\n",
              "      <td>25</td>\n",
              "      <td>0.46</td>\n",
              "    </tr>\n",
              "  </tbody>\n",
              "</table>\n",
              "</div>\n",
              "      <button class=\"colab-df-convert\" onclick=\"convertToInteractive('df-d6ed3f94-5978-4ca6-b471-f948c15ce56e')\"\n",
              "              title=\"Convert this dataframe to an interactive table.\"\n",
              "              style=\"display:none;\">\n",
              "        \n",
              "  <svg xmlns=\"http://www.w3.org/2000/svg\" height=\"24px\"viewBox=\"0 0 24 24\"\n",
              "       width=\"24px\">\n",
              "    <path d=\"M0 0h24v24H0V0z\" fill=\"none\"/>\n",
              "    <path d=\"M18.56 5.44l.94 2.06.94-2.06 2.06-.94-2.06-.94-.94-2.06-.94 2.06-2.06.94zm-11 1L8.5 8.5l.94-2.06 2.06-.94-2.06-.94L8.5 2.5l-.94 2.06-2.06.94zm10 10l.94 2.06.94-2.06 2.06-.94-2.06-.94-.94-2.06-.94 2.06-2.06.94z\"/><path d=\"M17.41 7.96l-1.37-1.37c-.4-.4-.92-.59-1.43-.59-.52 0-1.04.2-1.43.59L10.3 9.45l-7.72 7.72c-.78.78-.78 2.05 0 2.83L4 21.41c.39.39.9.59 1.41.59.51 0 1.02-.2 1.41-.59l7.78-7.78 2.81-2.81c.8-.78.8-2.07 0-2.86zM5.41 20L4 18.59l7.72-7.72 1.47 1.35L5.41 20z\"/>\n",
              "  </svg>\n",
              "      </button>\n",
              "      \n",
              "  <style>\n",
              "    .colab-df-container {\n",
              "      display:flex;\n",
              "      flex-wrap:wrap;\n",
              "      gap: 12px;\n",
              "    }\n",
              "\n",
              "    .colab-df-convert {\n",
              "      background-color: #E8F0FE;\n",
              "      border: none;\n",
              "      border-radius: 50%;\n",
              "      cursor: pointer;\n",
              "      display: none;\n",
              "      fill: #1967D2;\n",
              "      height: 32px;\n",
              "      padding: 0 0 0 0;\n",
              "      width: 32px;\n",
              "    }\n",
              "\n",
              "    .colab-df-convert:hover {\n",
              "      background-color: #E2EBFA;\n",
              "      box-shadow: 0px 1px 2px rgba(60, 64, 67, 0.3), 0px 1px 3px 1px rgba(60, 64, 67, 0.15);\n",
              "      fill: #174EA6;\n",
              "    }\n",
              "\n",
              "    [theme=dark] .colab-df-convert {\n",
              "      background-color: #3B4455;\n",
              "      fill: #D2E3FC;\n",
              "    }\n",
              "\n",
              "    [theme=dark] .colab-df-convert:hover {\n",
              "      background-color: #434B5C;\n",
              "      box-shadow: 0px 1px 3px 1px rgba(0, 0, 0, 0.15);\n",
              "      filter: drop-shadow(0px 1px 2px rgba(0, 0, 0, 0.3));\n",
              "      fill: #FFFFFF;\n",
              "    }\n",
              "  </style>\n",
              "\n",
              "      <script>\n",
              "        const buttonEl =\n",
              "          document.querySelector('#df-d6ed3f94-5978-4ca6-b471-f948c15ce56e button.colab-df-convert');\n",
              "        buttonEl.style.display =\n",
              "          google.colab.kernel.accessAllowed ? 'block' : 'none';\n",
              "\n",
              "        async function convertToInteractive(key) {\n",
              "          const element = document.querySelector('#df-d6ed3f94-5978-4ca6-b471-f948c15ce56e');\n",
              "          const dataTable =\n",
              "            await google.colab.kernel.invokeFunction('convertToInteractive',\n",
              "                                                     [key], {});\n",
              "          if (!dataTable) return;\n",
              "\n",
              "          const docLinkHtml = 'Like what you see? Visit the ' +\n",
              "            '<a target=\"_blank\" href=https://colab.research.google.com/notebooks/data_table.ipynb>data table notebook</a>'\n",
              "            + ' to learn more about interactive tables.';\n",
              "          element.innerHTML = '';\n",
              "          dataTable['output_type'] = 'display_data';\n",
              "          await google.colab.output.renderOutput(dataTable, element);\n",
              "          const docLink = document.createElement('div');\n",
              "          docLink.innerHTML = docLinkHtml;\n",
              "          element.appendChild(docLink);\n",
              "        }\n",
              "      </script>\n",
              "    </div>\n",
              "  </div>\n",
              "  "
            ],
            "text/plain": [
              "              Total  Percent\n",
              "BuildingArea   2542    46.80\n",
              "CouncilArea     553    10.18\n",
              "Car              25     0.46"
            ]
          },
          "metadata": {},
          "execution_count": 11
        }
      ]
    },
    {
      "cell_type": "markdown",
      "metadata": {
        "id": "B15uqVCRMc_d"
      },
      "source": [
        "## Divide into train - validation\n",
        "\n",
        "There are several ways to divide your training data. Sometimes it is important to create a stratified sampling."
      ]
    },
    {
      "cell_type": "code",
      "execution_count": null,
      "metadata": {
        "id": "77QeeVdZMc_d"
      },
      "outputs": [],
      "source": [
        "# For illustration only. Sklearn has train_test_split()\n",
        "def split_train_test(data, test_ratio):\n",
        "    shuffled_indices = np.random.permutation(len(data))\n",
        "    test_set_size = int(len(data) * test_ratio)\n",
        "    test_indices = shuffled_indices[:test_set_size]\n",
        "    train_indices = shuffled_indices[test_set_size:]\n",
        "    return data.iloc[train_indices], data.iloc[test_indices]"
      ]
    },
    {
      "cell_type": "code",
      "execution_count": null,
      "metadata": {
        "colab": {
          "base_uri": "https://localhost:8080/"
        },
        "id": "dYmgQIxEMc_e",
        "outputId": "04c2350c-6fb1-4acc-831b-ebab9c7a06a7"
      },
      "outputs": [
        {
          "output_type": "execute_result",
          "data": {
            "text/plain": [
              "(4346, 1086)"
            ]
          },
          "metadata": {},
          "execution_count": 13
        }
      ],
      "source": [
        "train_set, test_set = split_train_test(housing, 0.2)\n",
        "len(train_set),len(test_set)"
      ]
    },
    {
      "cell_type": "code",
      "execution_count": null,
      "metadata": {
        "id": "w51gBJyQMc_e"
      },
      "outputs": [],
      "source": [
        "## Create a function that divides the data with an id\n",
        "## checks that id is not train and test set\n",
        "from zlib import crc32\n",
        "\n",
        "def test_set_check(identifier, test_ratio):\n",
        "    return crc32(np.int64(identifier)) & 0xffffffff < test_ratio * 2**32\n",
        "\n",
        "def split_train_test_by_id(data, test_ratio, id_column):\n",
        "    ids = data[id_column]\n",
        "    in_test_set = ids.apply(lambda id_: test_set_check(id_, test_ratio))\n",
        "    return data.loc[~in_test_set], data.loc[in_test_set]"
      ]
    },
    {
      "cell_type": "code",
      "execution_count": null,
      "metadata": {
        "id": "oPYR9wLRMc_e"
      },
      "outputs": [],
      "source": [
        "housing_with_id = housing.reset_index()   # adds an `index` column\n",
        "train_set, test_set = split_train_test_by_id(housing_with_id, 0.2, \"index\")\n",
        "\n",
        "## create an id base on latitude and longitude\n",
        "housing_with_id[\"id\"] = housing[\"Longtitude\"] * 1000 + housing[\"Lattitude\"]\n",
        "train_set, test_set = split_train_test_by_id(housing_with_id, 0.2, \"id\")"
      ]
    },
    {
      "cell_type": "code",
      "execution_count": null,
      "metadata": {
        "colab": {
          "base_uri": "https://localhost:8080/",
          "height": 426
        },
        "id": "uQEwup8aMc_f",
        "outputId": "91d18372-c7b6-4ddd-8a43-557acafc6e5d"
      },
      "outputs": [
        {
          "output_type": "execute_result",
          "data": {
            "text/html": [
              "\n",
              "  <div id=\"df-4db37a01-cd02-42ec-9826-6e3b1eaa392f\">\n",
              "    <div class=\"colab-df-container\">\n",
              "      <div>\n",
              "<style scoped>\n",
              "    .dataframe tbody tr th:only-of-type {\n",
              "        vertical-align: middle;\n",
              "    }\n",
              "\n",
              "    .dataframe tbody tr th {\n",
              "        vertical-align: top;\n",
              "    }\n",
              "\n",
              "    .dataframe thead th {\n",
              "        text-align: right;\n",
              "    }\n",
              "</style>\n",
              "<table border=\"1\" class=\"dataframe\">\n",
              "  <thead>\n",
              "    <tr style=\"text-align: right;\">\n",
              "      <th></th>\n",
              "      <th>level_0</th>\n",
              "      <th>index</th>\n",
              "      <th>Suburb</th>\n",
              "      <th>Address</th>\n",
              "      <th>Rooms</th>\n",
              "      <th>Type</th>\n",
              "      <th>Price</th>\n",
              "      <th>Method</th>\n",
              "      <th>SellerG</th>\n",
              "      <th>Date</th>\n",
              "      <th>Distance</th>\n",
              "      <th>Postcode</th>\n",
              "      <th>Bedroom2</th>\n",
              "      <th>Bathroom</th>\n",
              "      <th>Car</th>\n",
              "      <th>Landsize</th>\n",
              "      <th>BuildingArea</th>\n",
              "      <th>YearBuilt</th>\n",
              "      <th>CouncilArea</th>\n",
              "      <th>Lattitude</th>\n",
              "      <th>Longtitude</th>\n",
              "      <th>Regionname</th>\n",
              "      <th>Propertycount</th>\n",
              "      <th>id</th>\n",
              "    </tr>\n",
              "  </thead>\n",
              "  <tbody>\n",
              "    <tr>\n",
              "      <th>5</th>\n",
              "      <td>5</td>\n",
              "      <td>5</td>\n",
              "      <td>Coburg</td>\n",
              "      <td>4/34 Gladstone St</td>\n",
              "      <td>2</td>\n",
              "      <td>u</td>\n",
              "      <td>650000.0</td>\n",
              "      <td>S</td>\n",
              "      <td>Barry</td>\n",
              "      <td>29/04/2017</td>\n",
              "      <td>7.8</td>\n",
              "      <td>3058.0</td>\n",
              "      <td>2.0</td>\n",
              "      <td>1.0</td>\n",
              "      <td>1.0</td>\n",
              "      <td>136.0</td>\n",
              "      <td>81.0</td>\n",
              "      <td>1975.0</td>\n",
              "      <td>Moreland</td>\n",
              "      <td>-37.74490</td>\n",
              "      <td>144.97540</td>\n",
              "      <td>Northern Metropolitan</td>\n",
              "      <td>11204.0</td>\n",
              "      <td>144937.65510</td>\n",
              "    </tr>\n",
              "    <tr>\n",
              "      <th>11</th>\n",
              "      <td>11</td>\n",
              "      <td>11</td>\n",
              "      <td>Malvern East</td>\n",
              "      <td>2/25 Fisher St</td>\n",
              "      <td>3</td>\n",
              "      <td>t</td>\n",
              "      <td>1135000.0</td>\n",
              "      <td>S</td>\n",
              "      <td>Jellis</td>\n",
              "      <td>17/09/2016</td>\n",
              "      <td>11.2</td>\n",
              "      <td>3145.0</td>\n",
              "      <td>3.0</td>\n",
              "      <td>3.0</td>\n",
              "      <td>2.0</td>\n",
              "      <td>0.0</td>\n",
              "      <td>130.0</td>\n",
              "      <td>1988.0</td>\n",
              "      <td>Stonnington</td>\n",
              "      <td>-37.88120</td>\n",
              "      <td>145.05700</td>\n",
              "      <td>Southern Metropolitan</td>\n",
              "      <td>8801.0</td>\n",
              "      <td>145019.11880</td>\n",
              "    </tr>\n",
              "    <tr>\n",
              "      <th>12</th>\n",
              "      <td>12</td>\n",
              "      <td>12</td>\n",
              "      <td>Coburg North</td>\n",
              "      <td>27 Williams Rd</td>\n",
              "      <td>4</td>\n",
              "      <td>h</td>\n",
              "      <td>770000.0</td>\n",
              "      <td>S</td>\n",
              "      <td>Brad</td>\n",
              "      <td>13/05/2017</td>\n",
              "      <td>9.2</td>\n",
              "      <td>3058.0</td>\n",
              "      <td>4.0</td>\n",
              "      <td>1.0</td>\n",
              "      <td>1.0</td>\n",
              "      <td>545.0</td>\n",
              "      <td>NaN</td>\n",
              "      <td>nan</td>\n",
              "      <td>Moreland</td>\n",
              "      <td>-37.73040</td>\n",
              "      <td>144.96050</td>\n",
              "      <td>Northern Metropolitan</td>\n",
              "      <td>3445.0</td>\n",
              "      <td>144922.76960</td>\n",
              "    </tr>\n",
              "    <tr>\n",
              "      <th>16</th>\n",
              "      <td>16</td>\n",
              "      <td>16</td>\n",
              "      <td>Hawthorn East</td>\n",
              "      <td>1/27 Auburn Gr</td>\n",
              "      <td>3</td>\n",
              "      <td>h</td>\n",
              "      <td>1405000.0</td>\n",
              "      <td>S</td>\n",
              "      <td>Kay</td>\n",
              "      <td>20/05/2017</td>\n",
              "      <td>7.5</td>\n",
              "      <td>3123.0</td>\n",
              "      <td>3.0</td>\n",
              "      <td>2.0</td>\n",
              "      <td>2.0</td>\n",
              "      <td>185.0</td>\n",
              "      <td>185.0</td>\n",
              "      <td>1985.0</td>\n",
              "      <td>Boroondara</td>\n",
              "      <td>-37.82550</td>\n",
              "      <td>145.04810</td>\n",
              "      <td>Southern Metropolitan</td>\n",
              "      <td>6482.0</td>\n",
              "      <td>145010.27450</td>\n",
              "    </tr>\n",
              "    <tr>\n",
              "      <th>24</th>\n",
              "      <td>24</td>\n",
              "      <td>24</td>\n",
              "      <td>Oakleigh South</td>\n",
              "      <td>8 Cedar Ct</td>\n",
              "      <td>3</td>\n",
              "      <td>h</td>\n",
              "      <td>880000.0</td>\n",
              "      <td>S</td>\n",
              "      <td>Buxton</td>\n",
              "      <td>8/07/2017</td>\n",
              "      <td>15.5</td>\n",
              "      <td>3167.0</td>\n",
              "      <td>3.0</td>\n",
              "      <td>2.0</td>\n",
              "      <td>2.0</td>\n",
              "      <td>504.0</td>\n",
              "      <td>NaN</td>\n",
              "      <td>nan</td>\n",
              "      <td>Kingston</td>\n",
              "      <td>-37.94043</td>\n",
              "      <td>145.09314</td>\n",
              "      <td>South-Eastern Metropolitan</td>\n",
              "      <td>3692.0</td>\n",
              "      <td>145055.19957</td>\n",
              "    </tr>\n",
              "  </tbody>\n",
              "</table>\n",
              "</div>\n",
              "      <button class=\"colab-df-convert\" onclick=\"convertToInteractive('df-4db37a01-cd02-42ec-9826-6e3b1eaa392f')\"\n",
              "              title=\"Convert this dataframe to an interactive table.\"\n",
              "              style=\"display:none;\">\n",
              "        \n",
              "  <svg xmlns=\"http://www.w3.org/2000/svg\" height=\"24px\"viewBox=\"0 0 24 24\"\n",
              "       width=\"24px\">\n",
              "    <path d=\"M0 0h24v24H0V0z\" fill=\"none\"/>\n",
              "    <path d=\"M18.56 5.44l.94 2.06.94-2.06 2.06-.94-2.06-.94-.94-2.06-.94 2.06-2.06.94zm-11 1L8.5 8.5l.94-2.06 2.06-.94-2.06-.94L8.5 2.5l-.94 2.06-2.06.94zm10 10l.94 2.06.94-2.06 2.06-.94-2.06-.94-.94-2.06-.94 2.06-2.06.94z\"/><path d=\"M17.41 7.96l-1.37-1.37c-.4-.4-.92-.59-1.43-.59-.52 0-1.04.2-1.43.59L10.3 9.45l-7.72 7.72c-.78.78-.78 2.05 0 2.83L4 21.41c.39.39.9.59 1.41.59.51 0 1.02-.2 1.41-.59l7.78-7.78 2.81-2.81c.8-.78.8-2.07 0-2.86zM5.41 20L4 18.59l7.72-7.72 1.47 1.35L5.41 20z\"/>\n",
              "  </svg>\n",
              "      </button>\n",
              "      \n",
              "  <style>\n",
              "    .colab-df-container {\n",
              "      display:flex;\n",
              "      flex-wrap:wrap;\n",
              "      gap: 12px;\n",
              "    }\n",
              "\n",
              "    .colab-df-convert {\n",
              "      background-color: #E8F0FE;\n",
              "      border: none;\n",
              "      border-radius: 50%;\n",
              "      cursor: pointer;\n",
              "      display: none;\n",
              "      fill: #1967D2;\n",
              "      height: 32px;\n",
              "      padding: 0 0 0 0;\n",
              "      width: 32px;\n",
              "    }\n",
              "\n",
              "    .colab-df-convert:hover {\n",
              "      background-color: #E2EBFA;\n",
              "      box-shadow: 0px 1px 2px rgba(60, 64, 67, 0.3), 0px 1px 3px 1px rgba(60, 64, 67, 0.15);\n",
              "      fill: #174EA6;\n",
              "    }\n",
              "\n",
              "    [theme=dark] .colab-df-convert {\n",
              "      background-color: #3B4455;\n",
              "      fill: #D2E3FC;\n",
              "    }\n",
              "\n",
              "    [theme=dark] .colab-df-convert:hover {\n",
              "      background-color: #434B5C;\n",
              "      box-shadow: 0px 1px 3px 1px rgba(0, 0, 0, 0.15);\n",
              "      filter: drop-shadow(0px 1px 2px rgba(0, 0, 0, 0.3));\n",
              "      fill: #FFFFFF;\n",
              "    }\n",
              "  </style>\n",
              "\n",
              "      <script>\n",
              "        const buttonEl =\n",
              "          document.querySelector('#df-4db37a01-cd02-42ec-9826-6e3b1eaa392f button.colab-df-convert');\n",
              "        buttonEl.style.display =\n",
              "          google.colab.kernel.accessAllowed ? 'block' : 'none';\n",
              "\n",
              "        async function convertToInteractive(key) {\n",
              "          const element = document.querySelector('#df-4db37a01-cd02-42ec-9826-6e3b1eaa392f');\n",
              "          const dataTable =\n",
              "            await google.colab.kernel.invokeFunction('convertToInteractive',\n",
              "                                                     [key], {});\n",
              "          if (!dataTable) return;\n",
              "\n",
              "          const docLinkHtml = 'Like what you see? Visit the ' +\n",
              "            '<a target=\"_blank\" href=https://colab.research.google.com/notebooks/data_table.ipynb>data table notebook</a>'\n",
              "            + ' to learn more about interactive tables.';\n",
              "          element.innerHTML = '';\n",
              "          dataTable['output_type'] = 'display_data';\n",
              "          await google.colab.output.renderOutput(dataTable, element);\n",
              "          const docLink = document.createElement('div');\n",
              "          docLink.innerHTML = docLinkHtml;\n",
              "          element.appendChild(docLink);\n",
              "        }\n",
              "      </script>\n",
              "    </div>\n",
              "  </div>\n",
              "  "
            ],
            "text/plain": [
              "    level_0  index          Suburb            Address  Rooms Type      Price  \\\n",
              "5         5      5          Coburg  4/34 Gladstone St      2    u   650000.0   \n",
              "11       11     11    Malvern East     2/25 Fisher St      3    t  1135000.0   \n",
              "12       12     12    Coburg North     27 Williams Rd      4    h   770000.0   \n",
              "16       16     16   Hawthorn East     1/27 Auburn Gr      3    h  1405000.0   \n",
              "24       24     24  Oakleigh South         8 Cedar Ct      3    h   880000.0   \n",
              "\n",
              "   Method SellerG        Date  Distance Postcode  Bedroom2  Bathroom  Car  \\\n",
              "5       S   Barry  29/04/2017       7.8   3058.0       2.0       1.0  1.0   \n",
              "11      S  Jellis  17/09/2016      11.2   3145.0       3.0       3.0  2.0   \n",
              "12      S    Brad  13/05/2017       9.2   3058.0       4.0       1.0  1.0   \n",
              "16      S     Kay  20/05/2017       7.5   3123.0       3.0       2.0  2.0   \n",
              "24      S  Buxton   8/07/2017      15.5   3167.0       3.0       2.0  2.0   \n",
              "\n",
              "    Landsize  BuildingArea YearBuilt  CouncilArea  Lattitude  Longtitude  \\\n",
              "5      136.0          81.0    1975.0     Moreland  -37.74490   144.97540   \n",
              "11       0.0         130.0    1988.0  Stonnington  -37.88120   145.05700   \n",
              "12     545.0           NaN       nan     Moreland  -37.73040   144.96050   \n",
              "16     185.0         185.0    1985.0   Boroondara  -37.82550   145.04810   \n",
              "24     504.0           NaN       nan     Kingston  -37.94043   145.09314   \n",
              "\n",
              "                    Regionname  Propertycount            id  \n",
              "5        Northern Metropolitan        11204.0  144937.65510  \n",
              "11       Southern Metropolitan         8801.0  145019.11880  \n",
              "12       Northern Metropolitan         3445.0  144922.76960  \n",
              "16       Southern Metropolitan         6482.0  145010.27450  \n",
              "24  South-Eastern Metropolitan         3692.0  145055.19957  "
            ]
          },
          "metadata": {},
          "execution_count": 16
        }
      ],
      "source": [
        "test_set.head()"
      ]
    },
    {
      "cell_type": "markdown",
      "source": [
        ""
      ],
      "metadata": {
        "id": "lk8b_nCOPWxC"
      }
    },
    {
      "cell_type": "code",
      "execution_count": null,
      "metadata": {
        "id": "ByGQQ8_qMc_f"
      },
      "outputs": [],
      "source": [
        "## divide using the scikit learn function\n",
        "from sklearn.model_selection import train_test_split\n",
        "\n",
        "train_set, test_set = train_test_split(housing, test_size=0.2, random_state=42)"
      ]
    },
    {
      "cell_type": "markdown",
      "source": [
        "I plotted sales price on a histogram. The distribution of sale prices is right skewed, something that is expected. \n",
        "it might not be unusual to see a few houses that are relatively expensive.\n",
        "positive Skewness the mean and median are grater than the mode similar to this dataset. Which means more houses were sold by less than the average price."
      ],
      "metadata": {
        "id": "c4XISGJyPVhp"
      }
    },
    {
      "cell_type": "code",
      "execution_count": null,
      "metadata": {
        "colab": {
          "base_uri": "https://localhost:8080/",
          "height": 728
        },
        "id": "NVOah-NqMc_f",
        "outputId": "d8f38ab6-2123-43d3-f105-bb42410f0a36"
      },
      "outputs": [
        {
          "output_type": "stream",
          "name": "stderr",
          "text": [
            "/usr/local/lib/python3.7/dist-packages/seaborn/distributions.py:2619: FutureWarning: `distplot` is a deprecated function and will be removed in a future version. Please adapt your code to use either `displot` (a figure-level function with similar flexibility) or `histplot` (an axes-level function for histograms).\n",
            "  warnings.warn(msg, FutureWarning)\n",
            "/usr/local/lib/python3.7/dist-packages/seaborn/_decorators.py:43: FutureWarning: Pass the following variable as a keyword arg: x. From version 0.12, the only valid positional argument will be `data`, and passing other arguments without an explicit keyword will result in an error or misinterpretation.\n",
            "  FutureWarning\n",
            "/usr/local/lib/python3.7/dist-packages/seaborn/_core.py:1326: UserWarning: Vertical orientation ignored with only `x` specified.\n",
            "  warnings.warn(single_var_warning.format(\"Vertical\", \"x\"))\n"
          ]
        },
        {
          "output_type": "display_data",
          "data": {
            "image/png": "[encoded data removed]",
            "text/plain": [
              "<Figure size 864x576 with 3 Axes>"
            ]
          },
          "metadata": {}
        }
      ],
      "source": [
        "def plotting_3_chart(df, feature): #added new \n",
        "    ## Importing seaborn, matplotlab and scipy modules. \n",
        "    import seaborn as sns\n",
        "    import matplotlib.pyplot as plt\n",
        "    import matplotlib.gridspec as gridspec\n",
        "    from scipy import stats\n",
        "    import matplotlib.style as style\n",
        "    style.use('fivethirtyeight')\n",
        "\n",
        "    ## Creating a customized chart. and giving in figsize and everything. \n",
        "    fig = plt.figure(constrained_layout=True, figsize=(12,8))\n",
        "    ## creating a grid of 3 cols and 3 rows. \n",
        "    grid = gridspec.GridSpec(ncols=3, nrows=3, figure=fig)\n",
        "    #gs = fig3.add_gridspec(3, 3)\n",
        "\n",
        "    ## Customizing the histogram grid. \n",
        "    ax1 = fig.add_subplot(grid[0, :2])\n",
        "    ## Set the title. \n",
        "    ax1.set_title('Histogram')\n",
        "    ## plot the histogram. \n",
        "    sns.distplot(df.loc[:,feature], norm_hist=True, ax = ax1)\n",
        "\n",
        "    # customizing the QQ_plot. \n",
        "    ax2 = fig.add_subplot(grid[1, :2])\n",
        "    ## Set the title. \n",
        "    ax2.set_title('QQ_plot')\n",
        "    ## Plotting the QQ_Plot. \n",
        "    stats.probplot(df.loc[:,feature], plot = ax2)\n",
        "\n",
        "    ## Customizing the Box Plot. \n",
        "    ax3 = fig.add_subplot(grid[:, 2])\n",
        "    ## Set title. \n",
        "    ax3.set_title('Box Plot')\n",
        "    ## Plotting the box plot. \n",
        "    sns.boxplot(df.loc[:,feature], orient='v', ax = ax3 );\n",
        "    \n",
        "plotting_3_chart(housing, 'Price')"
      ]
    },
    {
      "cell_type": "code",
      "source": [
        "## trainsforming target variable using numpy.log1p, \n",
        "housing[\"Price_log\"] = np.log(housing.Price) #added new\n",
        "x = housing.Price_log\n",
        "housing[\"Price\"] = housing[\"Price_log\"]\n",
        "\n",
        "## Plotting the newly transformed response variable\n",
        "plotting_3_chart(housing, 'Price')"
      ],
      "metadata": {
        "colab": {
          "base_uri": "https://localhost:8080/",
          "height": 728
        },
        "id": "xSFMYCzBS41Z",
        "outputId": "bf888906-d2ba-4d2b-b6ce-0aa358bbdf70"
      },
      "execution_count": null,
      "outputs": [
        {
          "output_type": "stream",
          "name": "stderr",
          "text": [
            "/usr/local/lib/python3.7/dist-packages/seaborn/distributions.py:2619: FutureWarning: `distplot` is a deprecated function and will be removed in a future version. Please adapt your code to use either `displot` (a figure-level function with similar flexibility) or `histplot` (an axes-level function for histograms).\n",
            "  warnings.warn(msg, FutureWarning)\n",
            "/usr/local/lib/python3.7/dist-packages/seaborn/_decorators.py:43: FutureWarning: Pass the following variable as a keyword arg: x. From version 0.12, the only valid positional argument will be `data`, and passing other arguments without an explicit keyword will result in an error or misinterpretation.\n",
            "  FutureWarning\n",
            "/usr/local/lib/python3.7/dist-packages/seaborn/_core.py:1326: UserWarning: Vertical orientation ignored with only `x` specified.\n",
            "  warnings.warn(single_var_warning.format(\"Vertical\", \"x\"))\n"
          ]
        },
        {
          "output_type": "display_data",
          "data": {
            "image/png": "[encoded data removed]",
            "text/plain": [
              "<Figure size 864x576 with 3 Axes>"
            ]
          },
          "metadata": {}
        }
      ]
    },
    {
      "cell_type": "code",
      "source": [
        "#skewness and kurtosis\n",
        "print(\"Skewness: \" + str(housing['Price'].skew()))\n",
        "print(\"Kurtosis: \" + str(housing['Price'].kurt()))"
      ],
      "metadata": {
        "colab": {
          "base_uri": "https://localhost:8080/"
        },
        "id": "zxLZX0t6MLwJ",
        "outputId": "80304a0a-34a1-42ac-c45f-202c7d23dff5"
      },
      "execution_count": null,
      "outputs": [
        {
          "output_type": "stream",
          "name": "stdout",
          "text": [
            "Skewness: 0.19003522923818156\n",
            "Kurtosis: 0.010409309456820282\n"
          ]
        }
      ]
    },
    {
      "cell_type": "code",
      "source": [
        "## Getting the correlation of all the features with target variable. \n",
        "(housing.corr()**2)[\"Price\"].sort_values(ascending = False)[1:]"
      ],
      "metadata": {
        "id": "KJ97LMFGPcbP",
        "colab": {
          "base_uri": "https://localhost:8080/"
        },
        "outputId": "003875f1-768b-4857-d250-d16435dbd1ce"
      },
      "execution_count": null,
      "outputs": [
        {
          "output_type": "execute_result",
          "data": {
            "text/plain": [
              "Price_log        1.000000\n",
              "Rooms            0.314221\n",
              "Bedroom2         0.274370\n",
              "Bathroom         0.197569\n",
              "Car              0.063727\n",
              "Longtitude       0.057084\n",
              "Lattitude        0.048159\n",
              "Distance         0.024744\n",
              "BuildingArea     0.004739\n",
              "Propertycount    0.004028\n",
              "Landsize         0.002287\n",
              "index            0.000045\n",
              "Name: Price, dtype: float64"
            ]
          },
          "metadata": {},
          "execution_count": 21
        }
      ]
    },
    {
      "cell_type": "code",
      "source": [
        "def customized_scatterplot(y, x):\n",
        "        ## Sizing the plot. \n",
        "    style.use('fivethirtyeight')\n",
        "    plt.subplots(figsize = (12,8))\n",
        "    ## Plotting target variable with predictor variable(Rooms)\n",
        "    sns.scatterplot(y = y, x = x);\n",
        "\n",
        "customized_scatterplot(housing.Price, housing.Rooms)"
      ],
      "metadata": {
        "colab": {
          "base_uri": "https://localhost:8080/",
          "height": 533
        },
        "id": "iHwxIsaH_TVj",
        "outputId": "061fb95d-f5a8-48f3-e529-7e982d1c25d9"
      },
      "execution_count": null,
      "outputs": [
        {
          "output_type": "display_data",
          "data": {
            "image/png": "[encoded data removed]",
            "text/plain": [
              "<Figure size 864x576 with 1 Axes>"
            ]
          },
          "metadata": {}
        }
      ]
    },
    {
      "cell_type": "markdown",
      "source": [
        ""
      ],
      "metadata": {
        "id": "yARE8ZooPgMc"
      }
    },
    {
      "cell_type": "code",
      "source": [
        "df1=housing.apply(lambda x : pd.factorize(x)[0]).corr(method='pearson', min_periods=1)\n",
        "upper_tri = df1.where(np.triu(np.ones(df1.shape),k=1).astype(bool))\n",
        "upper_tri=upper_tri.apply(lambda x: [np.nan if x < 0.5 else x for x in x])\n",
        "fig, ax = plt.subplots(figsize = (20,10))\n",
        "sns.heatmap(upper_tri,ax=ax, annot=True)"
      ],
      "metadata": {
        "colab": {
          "base_uri": "https://localhost:8080/",
          "height": 605
        },
        "id": "BTxC8mNRiO5B",
        "outputId": "b8175ffc-585e-43bf-d86d-1bc92bc68d92"
      },
      "execution_count": null,
      "outputs": [
        {
          "output_type": "execute_result",
          "data": {
            "text/plain": [
              "<matplotlib.axes._subplots.AxesSubplot at 0x7fa6f3bc3d10>"
            ]
          },
          "metadata": {},
          "execution_count": 23
        },
        {
          "output_type": "display_data",
          "data": {
            "image/png": "[encoded data removed]",
            "text/plain": [
              "<Figure size 1440x720 with 2 Axes>"
            ]
          },
          "metadata": {}
        }
      ]
    },
    {
      "cell_type": "code",
      "execution_count": null,
      "metadata": {
        "id": "u3pbVOZsMc_f"
      },
      "outputs": [],
      "source": [
        "housing[\"price_cat\"] = pd.cut(housing[\"Price\"],\n",
        "                               bins=[0., 500000, 1000000, 1500000, 2000000., np.inf],\n",
        "                               labels=[1, 2, 3, 4, 5])"
      ]
    },
    {
      "cell_type": "code",
      "execution_count": null,
      "metadata": {
        "colab": {
          "base_uri": "https://localhost:8080/"
        },
        "id": "0xfSjvUhMc_f",
        "outputId": "4084717b-6c64-4ccb-b132-e578f85b05d9"
      },
      "outputs": [
        {
          "output_type": "execute_result",
          "data": {
            "text/plain": [
              "1    5432\n",
              "2       0\n",
              "3       0\n",
              "4       0\n",
              "5       0\n",
              "Name: price_cat, dtype: int64"
            ]
          },
          "metadata": {},
          "execution_count": 25
        }
      ],
      "source": [
        "housing[\"price_cat\"].value_counts()"
      ]
    },
    {
      "cell_type": "code",
      "execution_count": null,
      "metadata": {
        "colab": {
          "base_uri": "https://localhost:8080/",
          "height": 354
        },
        "id": "6Di-ozmQMc_g",
        "outputId": "865a4ce2-8c49-4b2c-c92d-2e97a36d6d73"
      },
      "outputs": [
        {
          "output_type": "execute_result",
          "data": {
            "text/plain": [
              "<matplotlib.axes._subplots.AxesSubplot at 0x7fa6f642b310>"
            ]
          },
          "metadata": {},
          "execution_count": 26
        },
        {
          "output_type": "display_data",
          "data": {
            "image/png": "[encoded data removed]",
            "text/plain": [
              "<Figure size 864x360 with 1 Axes>"
            ]
          },
          "metadata": {}
        }
      ],
      "source": [
        "housing[\"price_cat\"].hist()"
      ]
    },
    {
      "cell_type": "code",
      "execution_count": null,
      "metadata": {
        "id": "a2R4JumPMc_g"
      },
      "outputs": [],
      "source": [
        "from sklearn.model_selection import StratifiedShuffleSplit\n",
        "\n",
        "split = StratifiedShuffleSplit(n_splits=1, test_size=0.2, random_state=42)\n",
        "for train_index, test_index in split.split(housing, housing[\"price_cat\"]):\n",
        "    strat_train_set = housing.loc[train_index]\n",
        "    strat_test_set = housing.loc[test_index]"
      ]
    },
    {
      "cell_type": "code",
      "execution_count": null,
      "metadata": {
        "colab": {
          "base_uri": "https://localhost:8080/"
        },
        "id": "n2P0ry7xMc_g",
        "outputId": "cf33c912-c83c-4830-ade9-e5b61a168b4d"
      },
      "outputs": [
        {
          "output_type": "execute_result",
          "data": {
            "text/plain": [
              "1    1.0\n",
              "2    0.0\n",
              "3    0.0\n",
              "4    0.0\n",
              "5    0.0\n",
              "Name: price_cat, dtype: float64"
            ]
          },
          "metadata": {},
          "execution_count": 28
        }
      ],
      "source": [
        "strat_test_set[\"price_cat\"].value_counts() / len(strat_test_set)\n"
      ]
    },
    {
      "cell_type": "code",
      "execution_count": null,
      "metadata": {
        "colab": {
          "base_uri": "https://localhost:8080/"
        },
        "id": "-uutOxmjMc_g",
        "outputId": "35cb43cb-8edc-446f-bff9-c9a622220d1c"
      },
      "outputs": [
        {
          "output_type": "execute_result",
          "data": {
            "text/plain": [
              "1    1.0\n",
              "2    0.0\n",
              "3    0.0\n",
              "4    0.0\n",
              "5    0.0\n",
              "Name: price_cat, dtype: float64"
            ]
          },
          "metadata": {},
          "execution_count": 29
        }
      ],
      "source": [
        "housing[\"price_cat\"].value_counts() / len(housing)"
      ]
    },
    {
      "cell_type": "code",
      "execution_count": null,
      "metadata": {
        "id": "VQRP5UquMc_g"
      },
      "outputs": [],
      "source": [
        "def price_cat_proportions(data):\n",
        "    return data[\"price_cat\"].value_counts() / len(data)\n",
        "\n",
        "train_set, test_set = train_test_split(housing, test_size=0.2, random_state=42)\n",
        "\n",
        "compare_props = pd.DataFrame({\n",
        "    \"Overall\": price_cat_proportions(housing),\n",
        "    \"Stratified\": price_cat_proportions(strat_test_set),\n",
        "    \"Random\": price_cat_proportions(test_set),\n",
        "}).sort_index()\n",
        "compare_props[\"Rand. %error\"] = 100 * compare_props[\"Random\"] / compare_props[\"Overall\"] - 100\n",
        "compare_props[\"Strat. %error\"] = 100 * compare_props[\"Stratified\"] / compare_props[\"Overall\"] - 100"
      ]
    },
    {
      "cell_type": "code",
      "execution_count": null,
      "metadata": {
        "colab": {
          "base_uri": "https://localhost:8080/",
          "height": 206
        },
        "id": "_cQmaMZCMc_g",
        "outputId": "e6bb3e92-4af3-4921-b87b-5a3d27991d5f"
      },
      "outputs": [
        {
          "output_type": "execute_result",
          "data": {
            "text/html": [
              "\n",
              "  <div id=\"df-ab94b1ac-a56d-4398-befb-1693cb2159a0\">\n",
              "    <div class=\"colab-df-container\">\n",
              "      <div>\n",
              "<style scoped>\n",
              "    .dataframe tbody tr th:only-of-type {\n",
              "        vertical-align: middle;\n",
              "    }\n",
              "\n",
              "    .dataframe tbody tr th {\n",
              "        vertical-align: top;\n",
              "    }\n",
              "\n",
              "    .dataframe thead th {\n",
              "        text-align: right;\n",
              "    }\n",
              "</style>\n",
              "<table border=\"1\" class=\"dataframe\">\n",
              "  <thead>\n",
              "    <tr style=\"text-align: right;\">\n",
              "      <th></th>\n",
              "      <th>Overall</th>\n",
              "      <th>Stratified</th>\n",
              "      <th>Random</th>\n",
              "      <th>Rand. %error</th>\n",
              "      <th>Strat. %error</th>\n",
              "    </tr>\n",
              "  </thead>\n",
              "  <tbody>\n",
              "    <tr>\n",
              "      <th>1</th>\n",
              "      <td>1.0</td>\n",
              "      <td>1.0</td>\n",
              "      <td>1.0</td>\n",
              "      <td>0.0</td>\n",
              "      <td>0.0</td>\n",
              "    </tr>\n",
              "    <tr>\n",
              "      <th>2</th>\n",
              "      <td>0.0</td>\n",
              "      <td>0.0</td>\n",
              "      <td>0.0</td>\n",
              "      <td>NaN</td>\n",
              "      <td>NaN</td>\n",
              "    </tr>\n",
              "    <tr>\n",
              "      <th>3</th>\n",
              "      <td>0.0</td>\n",
              "      <td>0.0</td>\n",
              "      <td>0.0</td>\n",
              "      <td>NaN</td>\n",
              "      <td>NaN</td>\n",
              "    </tr>\n",
              "    <tr>\n",
              "      <th>4</th>\n",
              "      <td>0.0</td>\n",
              "      <td>0.0</td>\n",
              "      <td>0.0</td>\n",
              "      <td>NaN</td>\n",
              "      <td>NaN</td>\n",
              "    </tr>\n",
              "    <tr>\n",
              "      <th>5</th>\n",
              "      <td>0.0</td>\n",
              "      <td>0.0</td>\n",
              "      <td>0.0</td>\n",
              "      <td>NaN</td>\n",
              "      <td>NaN</td>\n",
              "    </tr>\n",
              "  </tbody>\n",
              "</table>\n",
              "</div>\n",
              "      <button class=\"colab-df-convert\" onclick=\"convertToInteractive('df-ab94b1ac-a56d-4398-befb-1693cb2159a0')\"\n",
              "              title=\"Convert this dataframe to an interactive table.\"\n",
              "              style=\"display:none;\">\n",
              "        \n",
              "  <svg xmlns=\"http://www.w3.org/2000/svg\" height=\"24px\"viewBox=\"0 0 24 24\"\n",
              "       width=\"24px\">\n",
              "    <path d=\"M0 0h24v24H0V0z\" fill=\"none\"/>\n",
              "    <path d=\"M18.56 5.44l.94 2.06.94-2.06 2.06-.94-2.06-.94-.94-2.06-.94 2.06-2.06.94zm-11 1L8.5 8.5l.94-2.06 2.06-.94-2.06-.94L8.5 2.5l-.94 2.06-2.06.94zm10 10l.94 2.06.94-2.06 2.06-.94-2.06-.94-.94-2.06-.94 2.06-2.06.94z\"/><path d=\"M17.41 7.96l-1.37-1.37c-.4-.4-.92-.59-1.43-.59-.52 0-1.04.2-1.43.59L10.3 9.45l-7.72 7.72c-.78.78-.78 2.05 0 2.83L4 21.41c.39.39.9.59 1.41.59.51 0 1.02-.2 1.41-.59l7.78-7.78 2.81-2.81c.8-.78.8-2.07 0-2.86zM5.41 20L4 18.59l7.72-7.72 1.47 1.35L5.41 20z\"/>\n",
              "  </svg>\n",
              "      </button>\n",
              "      \n",
              "  <style>\n",
              "    .colab-df-container {\n",
              "      display:flex;\n",
              "      flex-wrap:wrap;\n",
              "      gap: 12px;\n",
              "    }\n",
              "\n",
              "    .colab-df-convert {\n",
              "      background-color: #E8F0FE;\n",
              "      border: none;\n",
              "      border-radius: 50%;\n",
              "      cursor: pointer;\n",
              "      display: none;\n",
              "      fill: #1967D2;\n",
              "      height: 32px;\n",
              "      padding: 0 0 0 0;\n",
              "      width: 32px;\n",
              "    }\n",
              "\n",
              "    .colab-df-convert:hover {\n",
              "      background-color: #E2EBFA;\n",
              "      box-shadow: 0px 1px 2px rgba(60, 64, 67, 0.3), 0px 1px 3px 1px rgba(60, 64, 67, 0.15);\n",
              "      fill: #174EA6;\n",
              "    }\n",
              "\n",
              "    [theme=dark] .colab-df-convert {\n",
              "      background-color: #3B4455;\n",
              "      fill: #D2E3FC;\n",
              "    }\n",
              "\n",
              "    [theme=dark] .colab-df-convert:hover {\n",
              "      background-color: #434B5C;\n",
              "      box-shadow: 0px 1px 3px 1px rgba(0, 0, 0, 0.15);\n",
              "      filter: drop-shadow(0px 1px 2px rgba(0, 0, 0, 0.3));\n",
              "      fill: #FFFFFF;\n",
              "    }\n",
              "  </style>\n",
              "\n",
              "      <script>\n",
              "        const buttonEl =\n",
              "          document.querySelector('#df-ab94b1ac-a56d-4398-befb-1693cb2159a0 button.colab-df-convert');\n",
              "        buttonEl.style.display =\n",
              "          google.colab.kernel.accessAllowed ? 'block' : 'none';\n",
              "\n",
              "        async function convertToInteractive(key) {\n",
              "          const element = document.querySelector('#df-ab94b1ac-a56d-4398-befb-1693cb2159a0');\n",
              "          const dataTable =\n",
              "            await google.colab.kernel.invokeFunction('convertToInteractive',\n",
              "                                                     [key], {});\n",
              "          if (!dataTable) return;\n",
              "\n",
              "          const docLinkHtml = 'Like what you see? Visit the ' +\n",
              "            '<a target=\"_blank\" href=https://colab.research.google.com/notebooks/data_table.ipynb>data table notebook</a>'\n",
              "            + ' to learn more about interactive tables.';\n",
              "          element.innerHTML = '';\n",
              "          dataTable['output_type'] = 'display_data';\n",
              "          await google.colab.output.renderOutput(dataTable, element);\n",
              "          const docLink = document.createElement('div');\n",
              "          docLink.innerHTML = docLinkHtml;\n",
              "          element.appendChild(docLink);\n",
              "        }\n",
              "      </script>\n",
              "    </div>\n",
              "  </div>\n",
              "  "
            ],
            "text/plain": [
              "   Overall  Stratified  Random  Rand. %error  Strat. %error\n",
              "1      1.0         1.0     1.0           0.0            0.0\n",
              "2      0.0         0.0     0.0           NaN            NaN\n",
              "3      0.0         0.0     0.0           NaN            NaN\n",
              "4      0.0         0.0     0.0           NaN            NaN\n",
              "5      0.0         0.0     0.0           NaN            NaN"
            ]
          },
          "metadata": {},
          "execution_count": 31
        }
      ],
      "source": [
        "## check the proportion of each category with the different approaches\n",
        "compare_props"
      ]
    },
    {
      "cell_type": "code",
      "execution_count": null,
      "metadata": {
        "id": "zrKrQCQMMc_g"
      },
      "outputs": [],
      "source": [
        "for set_ in (strat_train_set, strat_test_set):\n",
        "    set_.drop(\"price_cat\", axis=1, inplace=True)"
      ]
    },
    {
      "cell_type": "markdown",
      "metadata": {
        "id": "CsMeVBwIMc_g"
      },
      "source": [
        "## Discover and visualize the data to gain insights"
      ]
    },
    {
      "cell_type": "code",
      "execution_count": null,
      "metadata": {
        "id": "X1SlCDYrMc_g"
      },
      "outputs": [],
      "source": [
        "housing = strat_train_set.copy()"
      ]
    },
    {
      "cell_type": "code",
      "execution_count": null,
      "metadata": {
        "colab": {
          "base_uri": "https://localhost:8080/",
          "height": 358
        },
        "id": "oAlAZaVUMc_g",
        "outputId": "b905b58b-7306-447b-b37a-1498804265fe"
      },
      "outputs": [
        {
          "output_type": "display_data",
          "data": {
            "image/png": "[encoded data removed]",
            "text/plain": [
              "<Figure size 864x360 with 1 Axes>"
            ]
          },
          "metadata": {}
        }
      ],
      "source": [
        "sns.histplot(train_set[\"Price\"])\n",
        "plt.show()"
      ]
    },
    {
      "cell_type": "code",
      "execution_count": null,
      "metadata": {
        "colab": {
          "base_uri": "https://localhost:8080/"
        },
        "id": "yH3BNYXWMc_h",
        "outputId": "78617aeb-33fe-40b8-857d-5d10f6ddb1c0"
      },
      "outputs": [
        {
          "output_type": "execute_result",
          "data": {
            "text/plain": [
              "h    3014\n",
              "u     944\n",
              "t     387\n",
              "Name: Type, dtype: int64"
            ]
          },
          "metadata": {},
          "execution_count": 35
        }
      ],
      "source": [
        "# We can check how many different type there is in the dataset using the folliwing line\n",
        "train_set[\"Type\"].value_counts()"
      ]
    },
    {
      "cell_type": "code",
      "execution_count": null,
      "metadata": {
        "colab": {
          "base_uri": "https://localhost:8080/",
          "height": 376
        },
        "id": "t7s5WDbMMc_h",
        "outputId": "f037fc86-9f22-4955-f88a-2268998dc5f3"
      },
      "outputs": [
        {
          "output_type": "execute_result",
          "data": {
            "text/plain": [
              "<matplotlib.axes._subplots.AxesSubplot at 0x7fa6ef9a9810>"
            ]
          },
          "metadata": {},
          "execution_count": 36
        },
        {
          "output_type": "display_data",
          "data": {
            "image/png": "[encoded data removed]",
            "text/plain": [
              "<Figure size 864x360 with 1 Axes>"
            ]
          },
          "metadata": {}
        }
      ],
      "source": [
        "sns.countplot(y=\"Type\", data=train_set, color=\"c\")"
      ]
    },
    {
      "cell_type": "code",
      "execution_count": null,
      "metadata": {
        "id": "WIMwTwvWMc_i"
      },
      "outputs": [],
      "source": [
        "corr_matrix = housing.corr()"
      ]
    },
    {
      "cell_type": "code",
      "execution_count": null,
      "metadata": {
        "colab": {
          "base_uri": "https://localhost:8080/"
        },
        "id": "vnm7KtE4Mc_i",
        "outputId": "b692c475-3b01-43a8-eb10-a815a480d1f2"
      },
      "outputs": [
        {
          "output_type": "execute_result",
          "data": {
            "text/plain": [
              "Price            1.000000\n",
              "Price_log        1.000000\n",
              "Rooms            0.562770\n",
              "Bedroom2         0.524854\n",
              "Bathroom         0.453438\n",
              "Car              0.250348\n",
              "Longtitude       0.247423\n",
              "BuildingArea     0.065814\n",
              "Landsize         0.053686\n",
              "index           -0.012682\n",
              "Propertycount   -0.062270\n",
              "Distance        -0.152046\n",
              "Lattitude       -0.218232\n",
              "Name: Price, dtype: float64"
            ]
          },
          "metadata": {},
          "execution_count": 38
        }
      ],
      "source": [
        "corr_matrix[\"Price\"].sort_values(ascending=False)"
      ]
    },
    {
      "cell_type": "code",
      "execution_count": null,
      "metadata": {
        "colab": {
          "base_uri": "https://localhost:8080/",
          "height": 358
        },
        "id": "Nl1l0eXyMc_i",
        "outputId": "b18bef88-5c43-4a8f-f94c-0b4c1007dd00"
      },
      "outputs": [
        {
          "output_type": "display_data",
          "data": {
            "image/png": "[encoded data removed]",
            "text/plain": [
              "<Figure size 864x360 with 1 Axes>"
            ]
          },
          "metadata": {}
        }
      ],
      "source": [
        "housing.plot(kind=\"scatter\", x=\"Price\", y=\"Rooms\",\n",
        "             alpha=0.1)\n",
        "plt.show()"
      ]
    },
    {
      "cell_type": "code",
      "execution_count": null,
      "metadata": {
        "colab": {
          "base_uri": "https://localhost:8080/",
          "height": 358
        },
        "id": "FWV9PZ6ZMc_i",
        "outputId": "5e27d567-245d-43bc-a915-821b1f9a0b00"
      },
      "outputs": [
        {
          "output_type": "display_data",
          "data": {
            "image/png": "[encoded data removed]",
            "text/plain": [
              "<Figure size 864x360 with 1 Axes>"
            ]
          },
          "metadata": {}
        }
      ],
      "source": [
        "sns.regplot(data=housing, x=\"Rooms\", y=\"Price\")\n",
        "plt.show()"
      ]
    },
    {
      "cell_type": "code",
      "execution_count": null,
      "metadata": {
        "id": "xnrePPy3Mc_i"
      },
      "outputs": [],
      "source": [
        "## Plot landsize vs Price"
      ]
    },
    {
      "cell_type": "code",
      "execution_count": null,
      "metadata": {
        "colab": {
          "base_uri": "https://localhost:8080/",
          "height": 361
        },
        "id": "_jtth221Mc_i",
        "outputId": "47f5872a-6475-4ef1-88c0-6956eb0347ee"
      },
      "outputs": [
        {
          "output_type": "display_data",
          "data": {
            "image/png": "[encoded data removed]",
            "text/plain": [
              "<Figure size 864x360 with 1 Axes>"
            ]
          },
          "metadata": {}
        }
      ],
      "source": [
        "sns.regplot(data=housing, x=\"Landsize\", y=\"Price\")\n",
        "plt.show()"
      ]
    },
    {
      "cell_type": "code",
      "execution_count": null,
      "metadata": {
        "colab": {
          "base_uri": "https://localhost:8080/",
          "height": 369
        },
        "id": "eZ0st15vMc_i",
        "outputId": "a8e3b2c8-4a29-412d-f279-e63cfbabca9a"
      },
      "outputs": [
        {
          "output_type": "display_data",
          "data": {
            "image/png": "[encoded data removed]",
            "text/plain": [
              "<Figure size 864x360 with 1 Axes>"
            ]
          },
          "metadata": {}
        }
      ],
      "source": [
        "sns.regplot(data=housing, x=\"Landsize\", y=\"Price\")\n",
        "plt.axis([-10, 1000, 0, 5e6])\n",
        "plt.show()"
      ]
    },
    {
      "cell_type": "code",
      "execution_count": null,
      "metadata": {
        "id": "_4h8A1qIMc_i"
      },
      "outputs": [],
      "source": [
        "## mmm there is a lot of 0 at Landsize.... "
      ]
    },
    {
      "cell_type": "code",
      "execution_count": null,
      "metadata": {
        "id": "gCnAXuNRMc_j"
      },
      "outputs": [],
      "source": [
        "## Let's see BuildingArea"
      ]
    },
    {
      "cell_type": "code",
      "execution_count": null,
      "metadata": {
        "colab": {
          "base_uri": "https://localhost:8080/",
          "height": 358
        },
        "id": "m9hqhGyfMc_j",
        "outputId": "1f36f2bf-c9da-44c4-9540-9a49ce5c0209"
      },
      "outputs": [
        {
          "output_type": "display_data",
          "data": {
            "image/png": "[encoded data removed]",
            "text/plain": [
              "<Figure size 864x360 with 1 Axes>"
            ]
          },
          "metadata": {}
        }
      ],
      "source": [
        "sns.regplot(data=housing, x=\"BuildingArea\", y=\"Price\")\n",
        "plt.show()"
      ]
    },
    {
      "cell_type": "code",
      "execution_count": null,
      "metadata": {
        "colab": {
          "base_uri": "https://localhost:8080/",
          "height": 369
        },
        "id": "S6EULKxzMc_j",
        "outputId": "81081104-5519-4472-d24b-754f9dc82760"
      },
      "outputs": [
        {
          "output_type": "display_data",
          "data": {
            "image/png": "[encoded data removed]",
            "text/plain": [
              "<Figure size 864x360 with 1 Axes>"
            ]
          },
          "metadata": {}
        }
      ],
      "source": [
        "sns.regplot(data=housing, x=\"BuildingArea\", y=\"Price\",)\n",
        "plt.axis([-10, 1000, 0, 5e6])\n",
        "plt.show()"
      ]
    },
    {
      "cell_type": "code",
      "execution_count": null,
      "metadata": {
        "id": "q52Xl9NkMc_j"
      },
      "outputs": [],
      "source": [
        "## Now there is no 0 but NaNs.. NaNs are not displayed, neither taked into account to estimate the fit"
      ]
    },
    {
      "cell_type": "code",
      "execution_count": null,
      "metadata": {
        "colab": {
          "base_uri": "https://localhost:8080/",
          "height": 363
        },
        "id": "AqDUxh2VMc_j",
        "outputId": "66d756d9-9f5f-41d1-d346-4dad60c86412"
      },
      "outputs": [
        {
          "output_type": "execute_result",
          "data": {
            "text/html": [
              "\n",
              "  <div id=\"df-a4cacc58-aa0d-428b-99ed-bf67db2ca445\">\n",
              "    <div class=\"colab-df-container\">\n",
              "      <div>\n",
              "<style scoped>\n",
              "    .dataframe tbody tr th:only-of-type {\n",
              "        vertical-align: middle;\n",
              "    }\n",
              "\n",
              "    .dataframe tbody tr th {\n",
              "        vertical-align: top;\n",
              "    }\n",
              "\n",
              "    .dataframe thead th {\n",
              "        text-align: right;\n",
              "    }\n",
              "</style>\n",
              "<table border=\"1\" class=\"dataframe\">\n",
              "  <thead>\n",
              "    <tr style=\"text-align: right;\">\n",
              "      <th></th>\n",
              "      <th>Price</th>\n",
              "      <th>Landsize</th>\n",
              "      <th>BuildingArea</th>\n",
              "    </tr>\n",
              "  </thead>\n",
              "  <tbody>\n",
              "    <tr>\n",
              "      <th>2687</th>\n",
              "      <td>13.458836</td>\n",
              "      <td>697.0</td>\n",
              "      <td>NaN</td>\n",
              "    </tr>\n",
              "    <tr>\n",
              "      <th>4703</th>\n",
              "      <td>14.038654</td>\n",
              "      <td>297.0</td>\n",
              "      <td>234.0</td>\n",
              "    </tr>\n",
              "    <tr>\n",
              "      <th>3264</th>\n",
              "      <td>14.920767</td>\n",
              "      <td>715.0</td>\n",
              "      <td>420.0</td>\n",
              "    </tr>\n",
              "    <tr>\n",
              "      <th>3944</th>\n",
              "      <td>13.885969</td>\n",
              "      <td>182.0</td>\n",
              "      <td>NaN</td>\n",
              "    </tr>\n",
              "    <tr>\n",
              "      <th>3130</th>\n",
              "      <td>14.690979</td>\n",
              "      <td>1110.0</td>\n",
              "      <td>NaN</td>\n",
              "    </tr>\n",
              "    <tr>\n",
              "      <th>2297</th>\n",
              "      <td>13.514405</td>\n",
              "      <td>467.0</td>\n",
              "      <td>NaN</td>\n",
              "    </tr>\n",
              "    <tr>\n",
              "      <th>354</th>\n",
              "      <td>13.253392</td>\n",
              "      <td>693.0</td>\n",
              "      <td>174.0</td>\n",
              "    </tr>\n",
              "    <tr>\n",
              "      <th>4454</th>\n",
              "      <td>13.186277</td>\n",
              "      <td>0.0</td>\n",
              "      <td>NaN</td>\n",
              "    </tr>\n",
              "    <tr>\n",
              "      <th>4235</th>\n",
              "      <td>13.334810</td>\n",
              "      <td>542.0</td>\n",
              "      <td>221.0</td>\n",
              "    </tr>\n",
              "    <tr>\n",
              "      <th>5019</th>\n",
              "      <td>14.115615</td>\n",
              "      <td>264.0</td>\n",
              "      <td>188.0</td>\n",
              "    </tr>\n",
              "  </tbody>\n",
              "</table>\n",
              "</div>\n",
              "      <button class=\"colab-df-convert\" onclick=\"convertToInteractive('df-a4cacc58-aa0d-428b-99ed-bf67db2ca445')\"\n",
              "              title=\"Convert this dataframe to an interactive table.\"\n",
              "              style=\"display:none;\">\n",
              "        \n",
              "  <svg xmlns=\"http://www.w3.org/2000/svg\" height=\"24px\"viewBox=\"0 0 24 24\"\n",
              "       width=\"24px\">\n",
              "    <path d=\"M0 0h24v24H0V0z\" fill=\"none\"/>\n",
              "    <path d=\"M18.56 5.44l.94 2.06.94-2.06 2.06-.94-2.06-.94-.94-2.06-.94 2.06-2.06.94zm-11 1L8.5 8.5l.94-2.06 2.06-.94-2.06-.94L8.5 2.5l-.94 2.06-2.06.94zm10 10l.94 2.06.94-2.06 2.06-.94-2.06-.94-.94-2.06-.94 2.06-2.06.94z\"/><path d=\"M17.41 7.96l-1.37-1.37c-.4-.4-.92-.59-1.43-.59-.52 0-1.04.2-1.43.59L10.3 9.45l-7.72 7.72c-.78.78-.78 2.05 0 2.83L4 21.41c.39.39.9.59 1.41.59.51 0 1.02-.2 1.41-.59l7.78-7.78 2.81-2.81c.8-.78.8-2.07 0-2.86zM5.41 20L4 18.59l7.72-7.72 1.47 1.35L5.41 20z\"/>\n",
              "  </svg>\n",
              "      </button>\n",
              "      \n",
              "  <style>\n",
              "    .colab-df-container {\n",
              "      display:flex;\n",
              "      flex-wrap:wrap;\n",
              "      gap: 12px;\n",
              "    }\n",
              "\n",
              "    .colab-df-convert {\n",
              "      background-color: #E8F0FE;\n",
              "      border: none;\n",
              "      border-radius: 50%;\n",
              "      cursor: pointer;\n",
              "      display: none;\n",
              "      fill: #1967D2;\n",
              "      height: 32px;\n",
              "      padding: 0 0 0 0;\n",
              "      width: 32px;\n",
              "    }\n",
              "\n",
              "    .colab-df-convert:hover {\n",
              "      background-color: #E2EBFA;\n",
              "      box-shadow: 0px 1px 2px rgba(60, 64, 67, 0.3), 0px 1px 3px 1px rgba(60, 64, 67, 0.15);\n",
              "      fill: #174EA6;\n",
              "    }\n",
              "\n",
              "    [theme=dark] .colab-df-convert {\n",
              "      background-color: #3B4455;\n",
              "      fill: #D2E3FC;\n",
              "    }\n",
              "\n",
              "    [theme=dark] .colab-df-convert:hover {\n",
              "      background-color: #434B5C;\n",
              "      box-shadow: 0px 1px 3px 1px rgba(0, 0, 0, 0.15);\n",
              "      filter: drop-shadow(0px 1px 2px rgba(0, 0, 0, 0.3));\n",
              "      fill: #FFFFFF;\n",
              "    }\n",
              "  </style>\n",
              "\n",
              "      <script>\n",
              "        const buttonEl =\n",
              "          document.querySelector('#df-a4cacc58-aa0d-428b-99ed-bf67db2ca445 button.colab-df-convert');\n",
              "        buttonEl.style.display =\n",
              "          google.colab.kernel.accessAllowed ? 'block' : 'none';\n",
              "\n",
              "        async function convertToInteractive(key) {\n",
              "          const element = document.querySelector('#df-a4cacc58-aa0d-428b-99ed-bf67db2ca445');\n",
              "          const dataTable =\n",
              "            await google.colab.kernel.invokeFunction('convertToInteractive',\n",
              "                                                     [key], {});\n",
              "          if (!dataTable) return;\n",
              "\n",
              "          const docLinkHtml = 'Like what you see? Visit the ' +\n",
              "            '<a target=\"_blank\" href=https://colab.research.google.com/notebooks/data_table.ipynb>data table notebook</a>'\n",
              "            + ' to learn more about interactive tables.';\n",
              "          element.innerHTML = '';\n",
              "          dataTable['output_type'] = 'display_data';\n",
              "          await google.colab.output.renderOutput(dataTable, element);\n",
              "          const docLink = document.createElement('div');\n",
              "          docLink.innerHTML = docLinkHtml;\n",
              "          element.appendChild(docLink);\n",
              "        }\n",
              "      </script>\n",
              "    </div>\n",
              "  </div>\n",
              "  "
            ],
            "text/plain": [
              "          Price  Landsize  BuildingArea\n",
              "2687  13.458836     697.0           NaN\n",
              "4703  14.038654     297.0         234.0\n",
              "3264  14.920767     715.0         420.0\n",
              "3944  13.885969     182.0           NaN\n",
              "3130  14.690979    1110.0           NaN\n",
              "2297  13.514405     467.0           NaN\n",
              "354   13.253392     693.0         174.0\n",
              "4454  13.186277       0.0           NaN\n",
              "4235  13.334810     542.0         221.0\n",
              "5019  14.115615     264.0         188.0"
            ]
          },
          "metadata": {},
          "execution_count": 49
        }
      ],
      "source": [
        "housing[['Price','Landsize','BuildingArea']].head(10)"
      ]
    },
    {
      "cell_type": "code",
      "execution_count": null,
      "metadata": {
        "colab": {
          "base_uri": "https://localhost:8080/",
          "height": 364
        },
        "id": "wbzgNTB1Mc_j",
        "outputId": "21ac1077-bc5a-453e-c591-0618aecf4feb"
      },
      "outputs": [
        {
          "output_type": "execute_result",
          "data": {
            "text/html": [
              "\n",
              "  <div id=\"df-7895c4a7-85c9-4f9d-b2c3-dd0df059f2c9\">\n",
              "    <div class=\"colab-df-container\">\n",
              "      <div>\n",
              "<style scoped>\n",
              "    .dataframe tbody tr th:only-of-type {\n",
              "        vertical-align: middle;\n",
              "    }\n",
              "\n",
              "    .dataframe tbody tr th {\n",
              "        vertical-align: top;\n",
              "    }\n",
              "\n",
              "    .dataframe thead th {\n",
              "        text-align: right;\n",
              "    }\n",
              "</style>\n",
              "<table border=\"1\" class=\"dataframe\">\n",
              "  <thead>\n",
              "    <tr style=\"text-align: right;\">\n",
              "      <th></th>\n",
              "      <th>index</th>\n",
              "      <th>Rooms</th>\n",
              "      <th>Price</th>\n",
              "      <th>Distance</th>\n",
              "      <th>Bedroom2</th>\n",
              "      <th>Bathroom</th>\n",
              "      <th>Car</th>\n",
              "      <th>Landsize</th>\n",
              "      <th>BuildingArea</th>\n",
              "      <th>Lattitude</th>\n",
              "      <th>Longtitude</th>\n",
              "      <th>Propertycount</th>\n",
              "      <th>Price_log</th>\n",
              "    </tr>\n",
              "  </thead>\n",
              "  <tbody>\n",
              "    <tr>\n",
              "      <th>count</th>\n",
              "      <td>4345.000000</td>\n",
              "      <td>4345.000000</td>\n",
              "      <td>4345.000000</td>\n",
              "      <td>4345.000000</td>\n",
              "      <td>4345.000000</td>\n",
              "      <td>4345.000000</td>\n",
              "      <td>4323.000000</td>\n",
              "      <td>4345.000000</td>\n",
              "      <td>2304.000000</td>\n",
              "      <td>4345.000000</td>\n",
              "      <td>4345.000000</td>\n",
              "      <td>4345.000000</td>\n",
              "      <td>4345.000000</td>\n",
              "    </tr>\n",
              "    <tr>\n",
              "      <th>mean</th>\n",
              "      <td>2698.466283</td>\n",
              "      <td>2.930035</td>\n",
              "      <td>13.745841</td>\n",
              "      <td>10.203360</td>\n",
              "      <td>2.908861</td>\n",
              "      <td>1.540852</td>\n",
              "      <td>1.625492</td>\n",
              "      <td>514.603682</td>\n",
              "      <td>167.077768</td>\n",
              "      <td>-37.810253</td>\n",
              "      <td>144.995078</td>\n",
              "      <td>7420.017261</td>\n",
              "      <td>13.745841</td>\n",
              "    </tr>\n",
              "    <tr>\n",
              "      <th>std</th>\n",
              "      <td>1576.747261</td>\n",
              "      <td>0.959676</td>\n",
              "      <td>0.531631</td>\n",
              "      <td>6.025442</td>\n",
              "      <td>0.998146</td>\n",
              "      <td>0.701386</td>\n",
              "      <td>0.990313</td>\n",
              "      <td>1104.187584</td>\n",
              "      <td>940.836111</td>\n",
              "      <td>0.079353</td>\n",
              "      <td>0.106399</td>\n",
              "      <td>4346.898069</td>\n",
              "      <td>0.531631</td>\n",
              "    </tr>\n",
              "    <tr>\n",
              "      <th>min</th>\n",
              "      <td>0.000000</td>\n",
              "      <td>1.000000</td>\n",
              "      <td>11.884489</td>\n",
              "      <td>0.000000</td>\n",
              "      <td>0.000000</td>\n",
              "      <td>0.000000</td>\n",
              "      <td>0.000000</td>\n",
              "      <td>0.000000</td>\n",
              "      <td>0.000000</td>\n",
              "      <td>-38.174880</td>\n",
              "      <td>144.542370</td>\n",
              "      <td>389.000000</td>\n",
              "      <td>11.884489</td>\n",
              "    </tr>\n",
              "    <tr>\n",
              "      <th>25%</th>\n",
              "      <td>1335.000000</td>\n",
              "      <td>2.000000</td>\n",
              "      <td>13.384728</td>\n",
              "      <td>6.200000</td>\n",
              "      <td>2.000000</td>\n",
              "      <td>1.000000</td>\n",
              "      <td>1.000000</td>\n",
              "      <td>180.000000</td>\n",
              "      <td>92.000000</td>\n",
              "      <td>-37.857200</td>\n",
              "      <td>144.931900</td>\n",
              "      <td>4217.000000</td>\n",
              "      <td>13.384728</td>\n",
              "    </tr>\n",
              "    <tr>\n",
              "      <th>50%</th>\n",
              "      <td>2670.000000</td>\n",
              "      <td>3.000000</td>\n",
              "      <td>13.710150</td>\n",
              "      <td>9.200000</td>\n",
              "      <td>3.000000</td>\n",
              "      <td>1.000000</td>\n",
              "      <td>2.000000</td>\n",
              "      <td>450.000000</td>\n",
              "      <td>125.000000</td>\n",
              "      <td>-37.803900</td>\n",
              "      <td>145.000600</td>\n",
              "      <td>6543.000000</td>\n",
              "      <td>13.710150</td>\n",
              "    </tr>\n",
              "    <tr>\n",
              "      <th>75%</th>\n",
              "      <td>4065.000000</td>\n",
              "      <td>3.000000</td>\n",
              "      <td>14.097677</td>\n",
              "      <td>13.000000</td>\n",
              "      <td>3.000000</td>\n",
              "      <td>2.000000</td>\n",
              "      <td>2.000000</td>\n",
              "      <td>655.000000</td>\n",
              "      <td>175.000000</td>\n",
              "      <td>-37.757000</td>\n",
              "      <td>145.059630</td>\n",
              "      <td>10331.000000</td>\n",
              "      <td>14.097677</td>\n",
              "    </tr>\n",
              "    <tr>\n",
              "      <th>max</th>\n",
              "      <td>5431.000000</td>\n",
              "      <td>8.000000</td>\n",
              "      <td>15.894952</td>\n",
              "      <td>48.100000</td>\n",
              "      <td>20.000000</td>\n",
              "      <td>6.000000</td>\n",
              "      <td>10.000000</td>\n",
              "      <td>44500.000000</td>\n",
              "      <td>44515.000000</td>\n",
              "      <td>-37.408530</td>\n",
              "      <td>145.526350</td>\n",
              "      <td>21650.000000</td>\n",
              "      <td>15.894952</td>\n",
              "    </tr>\n",
              "  </tbody>\n",
              "</table>\n",
              "</div>\n",
              "      <button class=\"colab-df-convert\" onclick=\"convertToInteractive('df-7895c4a7-85c9-4f9d-b2c3-dd0df059f2c9')\"\n",
              "              title=\"Convert this dataframe to an interactive table.\"\n",
              "              style=\"display:none;\">\n",
              "        \n",
              "  <svg xmlns=\"http://www.w3.org/2000/svg\" height=\"24px\"viewBox=\"0 0 24 24\"\n",
              "       width=\"24px\">\n",
              "    <path d=\"M0 0h24v24H0V0z\" fill=\"none\"/>\n",
              "    <path d=\"M18.56 5.44l.94 2.06.94-2.06 2.06-.94-2.06-.94-.94-2.06-.94 2.06-2.06.94zm-11 1L8.5 8.5l.94-2.06 2.06-.94-2.06-.94L8.5 2.5l-.94 2.06-2.06.94zm10 10l.94 2.06.94-2.06 2.06-.94-2.06-.94-.94-2.06-.94 2.06-2.06.94z\"/><path d=\"M17.41 7.96l-1.37-1.37c-.4-.4-.92-.59-1.43-.59-.52 0-1.04.2-1.43.59L10.3 9.45l-7.72 7.72c-.78.78-.78 2.05 0 2.83L4 21.41c.39.39.9.59 1.41.59.51 0 1.02-.2 1.41-.59l7.78-7.78 2.81-2.81c.8-.78.8-2.07 0-2.86zM5.41 20L4 18.59l7.72-7.72 1.47 1.35L5.41 20z\"/>\n",
              "  </svg>\n",
              "      </button>\n",
              "      \n",
              "  <style>\n",
              "    .colab-df-container {\n",
              "      display:flex;\n",
              "      flex-wrap:wrap;\n",
              "      gap: 12px;\n",
              "    }\n",
              "\n",
              "    .colab-df-convert {\n",
              "      background-color: #E8F0FE;\n",
              "      border: none;\n",
              "      border-radius: 50%;\n",
              "      cursor: pointer;\n",
              "      display: none;\n",
              "      fill: #1967D2;\n",
              "      height: 32px;\n",
              "      padding: 0 0 0 0;\n",
              "      width: 32px;\n",
              "    }\n",
              "\n",
              "    .colab-df-convert:hover {\n",
              "      background-color: #E2EBFA;\n",
              "      box-shadow: 0px 1px 2px rgba(60, 64, 67, 0.3), 0px 1px 3px 1px rgba(60, 64, 67, 0.15);\n",
              "      fill: #174EA6;\n",
              "    }\n",
              "\n",
              "    [theme=dark] .colab-df-convert {\n",
              "      background-color: #3B4455;\n",
              "      fill: #D2E3FC;\n",
              "    }\n",
              "\n",
              "    [theme=dark] .colab-df-convert:hover {\n",
              "      background-color: #434B5C;\n",
              "      box-shadow: 0px 1px 3px 1px rgba(0, 0, 0, 0.15);\n",
              "      filter: drop-shadow(0px 1px 2px rgba(0, 0, 0, 0.3));\n",
              "      fill: #FFFFFF;\n",
              "    }\n",
              "  </style>\n",
              "\n",
              "      <script>\n",
              "        const buttonEl =\n",
              "          document.querySelector('#df-7895c4a7-85c9-4f9d-b2c3-dd0df059f2c9 button.colab-df-convert');\n",
              "        buttonEl.style.display =\n",
              "          google.colab.kernel.accessAllowed ? 'block' : 'none';\n",
              "\n",
              "        async function convertToInteractive(key) {\n",
              "          const element = document.querySelector('#df-7895c4a7-85c9-4f9d-b2c3-dd0df059f2c9');\n",
              "          const dataTable =\n",
              "            await google.colab.kernel.invokeFunction('convertToInteractive',\n",
              "                                                     [key], {});\n",
              "          if (!dataTable) return;\n",
              "\n",
              "          const docLinkHtml = 'Like what you see? Visit the ' +\n",
              "            '<a target=\"_blank\" href=https://colab.research.google.com/notebooks/data_table.ipynb>data table notebook</a>'\n",
              "            + ' to learn more about interactive tables.';\n",
              "          element.innerHTML = '';\n",
              "          dataTable['output_type'] = 'display_data';\n",
              "          await google.colab.output.renderOutput(dataTable, element);\n",
              "          const docLink = document.createElement('div');\n",
              "          docLink.innerHTML = docLinkHtml;\n",
              "          element.appendChild(docLink);\n",
              "        }\n",
              "      </script>\n",
              "    </div>\n",
              "  </div>\n",
              "  "
            ],
            "text/plain": [
              "             index        Rooms        Price     Distance     Bedroom2  \\\n",
              "count  4345.000000  4345.000000  4345.000000  4345.000000  4345.000000   \n",
              "mean   2698.466283     2.930035    13.745841    10.203360     2.908861   \n",
              "std    1576.747261     0.959676     0.531631     6.025442     0.998146   \n",
              "min       0.000000     1.000000    11.884489     0.000000     0.000000   \n",
              "25%    1335.000000     2.000000    13.384728     6.200000     2.000000   \n",
              "50%    2670.000000     3.000000    13.710150     9.200000     3.000000   \n",
              "75%    4065.000000     3.000000    14.097677    13.000000     3.000000   \n",
              "max    5431.000000     8.000000    15.894952    48.100000    20.000000   \n",
              "\n",
              "          Bathroom          Car      Landsize  BuildingArea    Lattitude  \\\n",
              "count  4345.000000  4323.000000   4345.000000   2304.000000  4345.000000   \n",
              "mean      1.540852     1.625492    514.603682    167.077768   -37.810253   \n",
              "std       0.701386     0.990313   1104.187584    940.836111     0.079353   \n",
              "min       0.000000     0.000000      0.000000      0.000000   -38.174880   \n",
              "25%       1.000000     1.000000    180.000000     92.000000   -37.857200   \n",
              "50%       1.000000     2.000000    450.000000    125.000000   -37.803900   \n",
              "75%       2.000000     2.000000    655.000000    175.000000   -37.757000   \n",
              "max       6.000000    10.000000  44500.000000  44515.000000   -37.408530   \n",
              "\n",
              "        Longtitude  Propertycount    Price_log  \n",
              "count  4345.000000    4345.000000  4345.000000  \n",
              "mean    144.995078    7420.017261    13.745841  \n",
              "std       0.106399    4346.898069     0.531631  \n",
              "min     144.542370     389.000000    11.884489  \n",
              "25%     144.931900    4217.000000    13.384728  \n",
              "50%     145.000600    6543.000000    13.710150  \n",
              "75%     145.059630   10331.000000    14.097677  \n",
              "max     145.526350   21650.000000    15.894952  "
            ]
          },
          "metadata": {},
          "execution_count": 50
        }
      ],
      "source": [
        "housing.describe()"
      ]
    },
    {
      "cell_type": "markdown",
      "metadata": {
        "id": "SpWsgTlfMc_j"
      },
      "source": [
        "## Prepare the data for Machine Learning algorithms"
      ]
    },
    {
      "cell_type": "code",
      "execution_count": null,
      "metadata": {
        "id": "ixFfq9qTMc_j"
      },
      "outputs": [],
      "source": [
        "housing = strat_train_set.drop(\"Price\", axis=1) # drop labels for training set\n",
        "housing_labels = strat_train_set[\"Price\"].copy()"
      ]
    },
    {
      "cell_type": "markdown",
      "metadata": {
        "id": "nCqcInDEMc_j"
      },
      "source": [
        "### Data Cleaning \n",
        "\n",
        "What to do with data with missing values\n",
        "* Option 1: Remove rows\n",
        "* Option 2: Remove columns\n",
        "* Option 3: Impute missing values"
      ]
    },
    {
      "cell_type": "code",
      "execution_count": null,
      "metadata": {
        "colab": {
          "base_uri": "https://localhost:8080/",
          "height": 409
        },
        "id": "zxxpd38bMc_j",
        "outputId": "359c329d-68ad-4fea-a294-45bf0588e73a"
      },
      "outputs": [
        {
          "output_type": "stream",
          "name": "stdout",
          "text": [
            "4345 2272\n"
          ]
        },
        {
          "output_type": "execute_result",
          "data": {
            "text/html": [
              "\n",
              "  <div id=\"df-30a694c3-97b8-422d-80ca-79877366bfda\">\n",
              "    <div class=\"colab-df-container\">\n",
              "      <div>\n",
              "<style scoped>\n",
              "    .dataframe tbody tr th:only-of-type {\n",
              "        vertical-align: middle;\n",
              "    }\n",
              "\n",
              "    .dataframe tbody tr th {\n",
              "        vertical-align: top;\n",
              "    }\n",
              "\n",
              "    .dataframe thead th {\n",
              "        text-align: right;\n",
              "    }\n",
              "</style>\n",
              "<table border=\"1\" class=\"dataframe\">\n",
              "  <thead>\n",
              "    <tr style=\"text-align: right;\">\n",
              "      <th></th>\n",
              "      <th>index</th>\n",
              "      <th>Suburb</th>\n",
              "      <th>Address</th>\n",
              "      <th>Rooms</th>\n",
              "      <th>Type</th>\n",
              "      <th>Method</th>\n",
              "      <th>SellerG</th>\n",
              "      <th>Date</th>\n",
              "      <th>Distance</th>\n",
              "      <th>Postcode</th>\n",
              "      <th>Bedroom2</th>\n",
              "      <th>Bathroom</th>\n",
              "      <th>Car</th>\n",
              "      <th>Landsize</th>\n",
              "      <th>BuildingArea</th>\n",
              "      <th>YearBuilt</th>\n",
              "      <th>CouncilArea</th>\n",
              "      <th>Lattitude</th>\n",
              "      <th>Longtitude</th>\n",
              "      <th>Regionname</th>\n",
              "      <th>Propertycount</th>\n",
              "      <th>Price_log</th>\n",
              "    </tr>\n",
              "  </thead>\n",
              "  <tbody>\n",
              "    <tr>\n",
              "      <th>2687</th>\n",
              "      <td>2687</td>\n",
              "      <td>Albion</td>\n",
              "      <td>76 Forrest St</td>\n",
              "      <td>3</td>\n",
              "      <td>h</td>\n",
              "      <td>S</td>\n",
              "      <td>Douglas</td>\n",
              "      <td>13/05/2017</td>\n",
              "      <td>13.9</td>\n",
              "      <td>3020.0</td>\n",
              "      <td>3.0</td>\n",
              "      <td>1.0</td>\n",
              "      <td>2.0</td>\n",
              "      <td>697.0</td>\n",
              "      <td>NaN</td>\n",
              "      <td>nan</td>\n",
              "      <td>Brimbank</td>\n",
              "      <td>-37.78410</td>\n",
              "      <td>144.81690</td>\n",
              "      <td>Western Metropolitan</td>\n",
              "      <td>2185.0</td>\n",
              "      <td>13.458836</td>\n",
              "    </tr>\n",
              "    <tr>\n",
              "      <th>3944</th>\n",
              "      <td>3944</td>\n",
              "      <td>Brunswick</td>\n",
              "      <td>30 Mountfield St</td>\n",
              "      <td>2</td>\n",
              "      <td>h</td>\n",
              "      <td>S</td>\n",
              "      <td>Jellis</td>\n",
              "      <td>28/08/2016</td>\n",
              "      <td>5.2</td>\n",
              "      <td>3056.0</td>\n",
              "      <td>2.0</td>\n",
              "      <td>1.0</td>\n",
              "      <td>1.0</td>\n",
              "      <td>182.0</td>\n",
              "      <td>NaN</td>\n",
              "      <td>nan</td>\n",
              "      <td>Moreland</td>\n",
              "      <td>-37.76290</td>\n",
              "      <td>144.96800</td>\n",
              "      <td>Northern Metropolitan</td>\n",
              "      <td>11918.0</td>\n",
              "      <td>13.885969</td>\n",
              "    </tr>\n",
              "    <tr>\n",
              "      <th>3130</th>\n",
              "      <td>3130</td>\n",
              "      <td>Ivanhoe</td>\n",
              "      <td>19 Belmont Rd</td>\n",
              "      <td>2</td>\n",
              "      <td>h</td>\n",
              "      <td>S</td>\n",
              "      <td>Fletchers</td>\n",
              "      <td>12/08/2017</td>\n",
              "      <td>7.8</td>\n",
              "      <td>3079.0</td>\n",
              "      <td>2.0</td>\n",
              "      <td>1.0</td>\n",
              "      <td>0.0</td>\n",
              "      <td>1110.0</td>\n",
              "      <td>NaN</td>\n",
              "      <td>nan</td>\n",
              "      <td>Banyule</td>\n",
              "      <td>-37.76778</td>\n",
              "      <td>145.03312</td>\n",
              "      <td>Eastern Metropolitan</td>\n",
              "      <td>5549.0</td>\n",
              "      <td>14.690979</td>\n",
              "    </tr>\n",
              "    <tr>\n",
              "      <th>2297</th>\n",
              "      <td>2297</td>\n",
              "      <td>Thornbury</td>\n",
              "      <td>296 Gooch St</td>\n",
              "      <td>2</td>\n",
              "      <td>h</td>\n",
              "      <td>S</td>\n",
              "      <td>Harcourts</td>\n",
              "      <td>14/05/2016</td>\n",
              "      <td>6.5</td>\n",
              "      <td>3071.0</td>\n",
              "      <td>3.0</td>\n",
              "      <td>1.0</td>\n",
              "      <td>2.0</td>\n",
              "      <td>467.0</td>\n",
              "      <td>NaN</td>\n",
              "      <td>nan</td>\n",
              "      <td>Darebin</td>\n",
              "      <td>-37.76060</td>\n",
              "      <td>145.02410</td>\n",
              "      <td>Northern Metropolitan</td>\n",
              "      <td>8870.0</td>\n",
              "      <td>13.514405</td>\n",
              "    </tr>\n",
              "    <tr>\n",
              "      <th>354</th>\n",
              "      <td>354</td>\n",
              "      <td>Sunbury</td>\n",
              "      <td>20 Brett Ct</td>\n",
              "      <td>4</td>\n",
              "      <td>h</td>\n",
              "      <td>S</td>\n",
              "      <td>Barry</td>\n",
              "      <td>3/09/2017</td>\n",
              "      <td>31.7</td>\n",
              "      <td>3429.0</td>\n",
              "      <td>4.0</td>\n",
              "      <td>2.0</td>\n",
              "      <td>2.0</td>\n",
              "      <td>693.0</td>\n",
              "      <td>174.0</td>\n",
              "      <td>1995.0</td>\n",
              "      <td>NaN</td>\n",
              "      <td>-37.57029</td>\n",
              "      <td>144.71163</td>\n",
              "      <td>Western Metropolitan</td>\n",
              "      <td>14092.0</td>\n",
              "      <td>13.253392</td>\n",
              "    </tr>\n",
              "  </tbody>\n",
              "</table>\n",
              "</div>\n",
              "      <button class=\"colab-df-convert\" onclick=\"convertToInteractive('df-30a694c3-97b8-422d-80ca-79877366bfda')\"\n",
              "              title=\"Convert this dataframe to an interactive table.\"\n",
              "              style=\"display:none;\">\n",
              "        \n",
              "  <svg xmlns=\"http://www.w3.org/2000/svg\" height=\"24px\"viewBox=\"0 0 24 24\"\n",
              "       width=\"24px\">\n",
              "    <path d=\"M0 0h24v24H0V0z\" fill=\"none\"/>\n",
              "    <path d=\"M18.56 5.44l.94 2.06.94-2.06 2.06-.94-2.06-.94-.94-2.06-.94 2.06-2.06.94zm-11 1L8.5 8.5l.94-2.06 2.06-.94-2.06-.94L8.5 2.5l-.94 2.06-2.06.94zm10 10l.94 2.06.94-2.06 2.06-.94-2.06-.94-.94-2.06-.94 2.06-2.06.94z\"/><path d=\"M17.41 7.96l-1.37-1.37c-.4-.4-.92-.59-1.43-.59-.52 0-1.04.2-1.43.59L10.3 9.45l-7.72 7.72c-.78.78-.78 2.05 0 2.83L4 21.41c.39.39.9.59 1.41.59.51 0 1.02-.2 1.41-.59l7.78-7.78 2.81-2.81c.8-.78.8-2.07 0-2.86zM5.41 20L4 18.59l7.72-7.72 1.47 1.35L5.41 20z\"/>\n",
              "  </svg>\n",
              "      </button>\n",
              "      \n",
              "  <style>\n",
              "    .colab-df-container {\n",
              "      display:flex;\n",
              "      flex-wrap:wrap;\n",
              "      gap: 12px;\n",
              "    }\n",
              "\n",
              "    .colab-df-convert {\n",
              "      background-color: #E8F0FE;\n",
              "      border: none;\n",
              "      border-radius: 50%;\n",
              "      cursor: pointer;\n",
              "      display: none;\n",
              "      fill: #1967D2;\n",
              "      height: 32px;\n",
              "      padding: 0 0 0 0;\n",
              "      width: 32px;\n",
              "    }\n",
              "\n",
              "    .colab-df-convert:hover {\n",
              "      background-color: #E2EBFA;\n",
              "      box-shadow: 0px 1px 2px rgba(60, 64, 67, 0.3), 0px 1px 3px 1px rgba(60, 64, 67, 0.15);\n",
              "      fill: #174EA6;\n",
              "    }\n",
              "\n",
              "    [theme=dark] .colab-df-convert {\n",
              "      background-color: #3B4455;\n",
              "      fill: #D2E3FC;\n",
              "    }\n",
              "\n",
              "    [theme=dark] .colab-df-convert:hover {\n",
              "      background-color: #434B5C;\n",
              "      box-shadow: 0px 1px 3px 1px rgba(0, 0, 0, 0.15);\n",
              "      filter: drop-shadow(0px 1px 2px rgba(0, 0, 0, 0.3));\n",
              "      fill: #FFFFFF;\n",
              "    }\n",
              "  </style>\n",
              "\n",
              "      <script>\n",
              "        const buttonEl =\n",
              "          document.querySelector('#df-30a694c3-97b8-422d-80ca-79877366bfda button.colab-df-convert');\n",
              "        buttonEl.style.display =\n",
              "          google.colab.kernel.accessAllowed ? 'block' : 'none';\n",
              "\n",
              "        async function convertToInteractive(key) {\n",
              "          const element = document.querySelector('#df-30a694c3-97b8-422d-80ca-79877366bfda');\n",
              "          const dataTable =\n",
              "            await google.colab.kernel.invokeFunction('convertToInteractive',\n",
              "                                                     [key], {});\n",
              "          if (!dataTable) return;\n",
              "\n",
              "          const docLinkHtml = 'Like what you see? Visit the ' +\n",
              "            '<a target=\"_blank\" href=https://colab.research.google.com/notebooks/data_table.ipynb>data table notebook</a>'\n",
              "            + ' to learn more about interactive tables.';\n",
              "          element.innerHTML = '';\n",
              "          dataTable['output_type'] = 'display_data';\n",
              "          await google.colab.output.renderOutput(dataTable, element);\n",
              "          const docLink = document.createElement('div');\n",
              "          docLink.innerHTML = docLinkHtml;\n",
              "          element.appendChild(docLink);\n",
              "        }\n",
              "      </script>\n",
              "    </div>\n",
              "  </div>\n",
              "  "
            ],
            "text/plain": [
              "      index     Suburb           Address  Rooms Type Method    SellerG  \\\n",
              "2687   2687     Albion     76 Forrest St      3    h      S    Douglas   \n",
              "3944   3944  Brunswick  30 Mountfield St      2    h      S     Jellis   \n",
              "3130   3130    Ivanhoe     19 Belmont Rd      2    h      S  Fletchers   \n",
              "2297   2297  Thornbury      296 Gooch St      2    h      S  Harcourts   \n",
              "354     354    Sunbury       20 Brett Ct      4    h      S      Barry   \n",
              "\n",
              "            Date  Distance Postcode  Bedroom2  Bathroom  Car  Landsize  \\\n",
              "2687  13/05/2017      13.9   3020.0       3.0       1.0  2.0     697.0   \n",
              "3944  28/08/2016       5.2   3056.0       2.0       1.0  1.0     182.0   \n",
              "3130  12/08/2017       7.8   3079.0       2.0       1.0  0.0    1110.0   \n",
              "2297  14/05/2016       6.5   3071.0       3.0       1.0  2.0     467.0   \n",
              "354    3/09/2017      31.7   3429.0       4.0       2.0  2.0     693.0   \n",
              "\n",
              "      BuildingArea YearBuilt CouncilArea  Lattitude  Longtitude  \\\n",
              "2687           NaN       nan    Brimbank  -37.78410   144.81690   \n",
              "3944           NaN       nan    Moreland  -37.76290   144.96800   \n",
              "3130           NaN       nan     Banyule  -37.76778   145.03312   \n",
              "2297           NaN       nan     Darebin  -37.76060   145.02410   \n",
              "354          174.0    1995.0         NaN  -37.57029   144.71163   \n",
              "\n",
              "                 Regionname  Propertycount  Price_log  \n",
              "2687   Western Metropolitan         2185.0  13.458836  \n",
              "3944  Northern Metropolitan        11918.0  13.885969  \n",
              "3130   Eastern Metropolitan         5549.0  14.690979  \n",
              "2297  Northern Metropolitan         8870.0  13.514405  \n",
              "354    Western Metropolitan        14092.0  13.253392  "
            ]
          },
          "metadata": {},
          "execution_count": 52
        }
      ],
      "source": [
        "sample_incomplete_rows = housing[housing.isnull().any(axis=1)]\n",
        "print(housing.shape[0],sample_incomplete_rows.shape[0])\n",
        "sample_incomplete_rows.head()"
      ]
    },
    {
      "cell_type": "code",
      "execution_count": null,
      "metadata": {
        "colab": {
          "base_uri": "https://localhost:8080/",
          "height": 713
        },
        "id": "hVc33__RMc_j",
        "outputId": "a968cae6-b30f-45b7-956d-465ec5735fb8"
      },
      "outputs": [
        {
          "output_type": "execute_result",
          "data": {
            "text/html": [
              "\n",
              "  <div id=\"df-73c46cef-8af1-4e46-a078-40478088f8c8\">\n",
              "    <div class=\"colab-df-container\">\n",
              "      <div>\n",
              "<style scoped>\n",
              "    .dataframe tbody tr th:only-of-type {\n",
              "        vertical-align: middle;\n",
              "    }\n",
              "\n",
              "    .dataframe tbody tr th {\n",
              "        vertical-align: top;\n",
              "    }\n",
              "\n",
              "    .dataframe thead th {\n",
              "        text-align: right;\n",
              "    }\n",
              "</style>\n",
              "<table border=\"1\" class=\"dataframe\">\n",
              "  <thead>\n",
              "    <tr style=\"text-align: right;\">\n",
              "      <th></th>\n",
              "      <th>index</th>\n",
              "      <th>Suburb</th>\n",
              "      <th>Address</th>\n",
              "      <th>Rooms</th>\n",
              "      <th>Type</th>\n",
              "      <th>Method</th>\n",
              "      <th>SellerG</th>\n",
              "      <th>Date</th>\n",
              "      <th>Distance</th>\n",
              "      <th>Postcode</th>\n",
              "      <th>Bedroom2</th>\n",
              "      <th>Bathroom</th>\n",
              "      <th>Car</th>\n",
              "      <th>Landsize</th>\n",
              "      <th>BuildingArea</th>\n",
              "      <th>YearBuilt</th>\n",
              "      <th>CouncilArea</th>\n",
              "      <th>Lattitude</th>\n",
              "      <th>Longtitude</th>\n",
              "      <th>Regionname</th>\n",
              "      <th>Propertycount</th>\n",
              "      <th>Price_log</th>\n",
              "    </tr>\n",
              "  </thead>\n",
              "  <tbody>\n",
              "    <tr>\n",
              "      <th>4703</th>\n",
              "      <td>4703</td>\n",
              "      <td>Thornbury</td>\n",
              "      <td>50b Clyde St</td>\n",
              "      <td>3</td>\n",
              "      <td>h</td>\n",
              "      <td>VB</td>\n",
              "      <td>Nelson</td>\n",
              "      <td>24/09/2016</td>\n",
              "      <td>6.5</td>\n",
              "      <td>3071.0</td>\n",
              "      <td>3.0</td>\n",
              "      <td>2.0</td>\n",
              "      <td>3.0</td>\n",
              "      <td>297.0</td>\n",
              "      <td>234.0</td>\n",
              "      <td>2013.0</td>\n",
              "      <td>Darebin</td>\n",
              "      <td>-37.76170</td>\n",
              "      <td>145.01170</td>\n",
              "      <td>Northern Metropolitan</td>\n",
              "      <td>8870.0</td>\n",
              "      <td>14.038654</td>\n",
              "    </tr>\n",
              "    <tr>\n",
              "      <th>3264</th>\n",
              "      <td>3264</td>\n",
              "      <td>Balwyn</td>\n",
              "      <td>112 Belmore Rd</td>\n",
              "      <td>5</td>\n",
              "      <td>h</td>\n",
              "      <td>PI</td>\n",
              "      <td>Jellis</td>\n",
              "      <td>28/05/2016</td>\n",
              "      <td>9.7</td>\n",
              "      <td>3103.0</td>\n",
              "      <td>5.0</td>\n",
              "      <td>3.0</td>\n",
              "      <td>2.0</td>\n",
              "      <td>715.0</td>\n",
              "      <td>420.0</td>\n",
              "      <td>2009.0</td>\n",
              "      <td>Boroondara</td>\n",
              "      <td>-37.80280</td>\n",
              "      <td>145.07680</td>\n",
              "      <td>Southern Metropolitan</td>\n",
              "      <td>5682.0</td>\n",
              "      <td>14.920767</td>\n",
              "    </tr>\n",
              "    <tr>\n",
              "      <th>4235</th>\n",
              "      <td>4235</td>\n",
              "      <td>Hillside</td>\n",
              "      <td>20 Viridian Dr</td>\n",
              "      <td>4</td>\n",
              "      <td>h</td>\n",
              "      <td>S</td>\n",
              "      <td>YPA</td>\n",
              "      <td>29/07/2017</td>\n",
              "      <td>18.0</td>\n",
              "      <td>3037.0</td>\n",
              "      <td>4.0</td>\n",
              "      <td>2.0</td>\n",
              "      <td>2.0</td>\n",
              "      <td>542.0</td>\n",
              "      <td>221.0</td>\n",
              "      <td>2009.0</td>\n",
              "      <td>Melton</td>\n",
              "      <td>-37.68104</td>\n",
              "      <td>144.74608</td>\n",
              "      <td>Western Metropolitan</td>\n",
              "      <td>5556.0</td>\n",
              "      <td>13.334810</td>\n",
              "    </tr>\n",
              "    <tr>\n",
              "      <th>3085</th>\n",
              "      <td>3085</td>\n",
              "      <td>Abbotsford</td>\n",
              "      <td>133 Yarra St</td>\n",
              "      <td>2</td>\n",
              "      <td>h</td>\n",
              "      <td>S</td>\n",
              "      <td>Biggin</td>\n",
              "      <td>22/07/2017</td>\n",
              "      <td>3.0</td>\n",
              "      <td>3067.0</td>\n",
              "      <td>2.0</td>\n",
              "      <td>2.0</td>\n",
              "      <td>1.0</td>\n",
              "      <td>147.0</td>\n",
              "      <td>175.0</td>\n",
              "      <td>2000.0</td>\n",
              "      <td>Yarra</td>\n",
              "      <td>-37.80269</td>\n",
              "      <td>145.00010</td>\n",
              "      <td>Northern Metropolitan</td>\n",
              "      <td>4019.0</td>\n",
              "      <td>13.989464</td>\n",
              "    </tr>\n",
              "    <tr>\n",
              "      <th>507</th>\n",
              "      <td>507</td>\n",
              "      <td>Fitzroy North</td>\n",
              "      <td>236 Barkly St</td>\n",
              "      <td>2</td>\n",
              "      <td>h</td>\n",
              "      <td>S</td>\n",
              "      <td>Chambers</td>\n",
              "      <td>29/04/2017</td>\n",
              "      <td>3.5</td>\n",
              "      <td>3068.0</td>\n",
              "      <td>2.0</td>\n",
              "      <td>1.0</td>\n",
              "      <td>0.0</td>\n",
              "      <td>192.0</td>\n",
              "      <td>85.2</td>\n",
              "      <td>1910.0</td>\n",
              "      <td>Yarra</td>\n",
              "      <td>-37.77930</td>\n",
              "      <td>144.98790</td>\n",
              "      <td>Northern Metropolitan</td>\n",
              "      <td>6244.0</td>\n",
              "      <td>13.869051</td>\n",
              "    </tr>\n",
              "    <tr>\n",
              "      <th>...</th>\n",
              "      <td>...</td>\n",
              "      <td>...</td>\n",
              "      <td>...</td>\n",
              "      <td>...</td>\n",
              "      <td>...</td>\n",
              "      <td>...</td>\n",
              "      <td>...</td>\n",
              "      <td>...</td>\n",
              "      <td>...</td>\n",
              "      <td>...</td>\n",
              "      <td>...</td>\n",
              "      <td>...</td>\n",
              "      <td>...</td>\n",
              "      <td>...</td>\n",
              "      <td>...</td>\n",
              "      <td>...</td>\n",
              "      <td>...</td>\n",
              "      <td>...</td>\n",
              "      <td>...</td>\n",
              "      <td>...</td>\n",
              "      <td>...</td>\n",
              "      <td>...</td>\n",
              "    </tr>\n",
              "    <tr>\n",
              "      <th>4382</th>\n",
              "      <td>4382</td>\n",
              "      <td>Williamstown</td>\n",
              "      <td>73 Victoria St</td>\n",
              "      <td>4</td>\n",
              "      <td>h</td>\n",
              "      <td>PI</td>\n",
              "      <td>Sweeney</td>\n",
              "      <td>8/10/2016</td>\n",
              "      <td>8.0</td>\n",
              "      <td>3016.0</td>\n",
              "      <td>4.0</td>\n",
              "      <td>3.0</td>\n",
              "      <td>2.0</td>\n",
              "      <td>321.0</td>\n",
              "      <td>287.0</td>\n",
              "      <td>nan</td>\n",
              "      <td>Hobsons Bay</td>\n",
              "      <td>-37.86230</td>\n",
              "      <td>144.88840</td>\n",
              "      <td>Western Metropolitan</td>\n",
              "      <td>6380.0</td>\n",
              "      <td>14.411596</td>\n",
              "    </tr>\n",
              "    <tr>\n",
              "      <th>1235</th>\n",
              "      <td>1235</td>\n",
              "      <td>West Footscray</td>\n",
              "      <td>1/37 Hampton Pde</td>\n",
              "      <td>3</td>\n",
              "      <td>h</td>\n",
              "      <td>S</td>\n",
              "      <td>Village</td>\n",
              "      <td>10/09/2016</td>\n",
              "      <td>8.2</td>\n",
              "      <td>3012.0</td>\n",
              "      <td>3.0</td>\n",
              "      <td>1.0</td>\n",
              "      <td>2.0</td>\n",
              "      <td>302.0</td>\n",
              "      <td>125.0</td>\n",
              "      <td>1938.0</td>\n",
              "      <td>Maribyrnong</td>\n",
              "      <td>-37.80660</td>\n",
              "      <td>144.86660</td>\n",
              "      <td>Western Metropolitan</td>\n",
              "      <td>5058.0</td>\n",
              "      <td>13.491165</td>\n",
              "    </tr>\n",
              "    <tr>\n",
              "      <th>3845</th>\n",
              "      <td>3845</td>\n",
              "      <td>Brighton East</td>\n",
              "      <td>3/127 Dendy St</td>\n",
              "      <td>2</td>\n",
              "      <td>u</td>\n",
              "      <td>S</td>\n",
              "      <td>Buxton</td>\n",
              "      <td>26/07/2016</td>\n",
              "      <td>10.7</td>\n",
              "      <td>3187.0</td>\n",
              "      <td>2.0</td>\n",
              "      <td>1.0</td>\n",
              "      <td>1.0</td>\n",
              "      <td>74.0</td>\n",
              "      <td>66.0</td>\n",
              "      <td>1960.0</td>\n",
              "      <td>Bayside</td>\n",
              "      <td>-37.92070</td>\n",
              "      <td>145.00790</td>\n",
              "      <td>Southern Metropolitan</td>\n",
              "      <td>6938.0</td>\n",
              "      <td>13.447341</td>\n",
              "    </tr>\n",
              "    <tr>\n",
              "      <th>4030</th>\n",
              "      <td>4030</td>\n",
              "      <td>Oak Park</td>\n",
              "      <td>10 Grevillia Rd</td>\n",
              "      <td>5</td>\n",
              "      <td>h</td>\n",
              "      <td>PI</td>\n",
              "      <td>Nelson</td>\n",
              "      <td>12/11/2016</td>\n",
              "      <td>11.5</td>\n",
              "      <td>3046.0</td>\n",
              "      <td>5.0</td>\n",
              "      <td>2.0</td>\n",
              "      <td>4.0</td>\n",
              "      <td>783.0</td>\n",
              "      <td>223.0</td>\n",
              "      <td>1950.0</td>\n",
              "      <td>Moreland</td>\n",
              "      <td>-37.72070</td>\n",
              "      <td>144.92630</td>\n",
              "      <td>Northern Metropolitan</td>\n",
              "      <td>2651.0</td>\n",
              "      <td>13.910821</td>\n",
              "    </tr>\n",
              "    <tr>\n",
              "      <th>4391</th>\n",
              "      <td>4391</td>\n",
              "      <td>Prahran</td>\n",
              "      <td>6/299 Dandenong Rd</td>\n",
              "      <td>2</td>\n",
              "      <td>u</td>\n",
              "      <td>SP</td>\n",
              "      <td>hockingstuart</td>\n",
              "      <td>15/07/2017</td>\n",
              "      <td>4.6</td>\n",
              "      <td>3181.0</td>\n",
              "      <td>2.0</td>\n",
              "      <td>1.0</td>\n",
              "      <td>1.0</td>\n",
              "      <td>0.0</td>\n",
              "      <td>78.0</td>\n",
              "      <td>1960.0</td>\n",
              "      <td>Stonnington</td>\n",
              "      <td>-37.85924</td>\n",
              "      <td>145.00563</td>\n",
              "      <td>Southern Metropolitan</td>\n",
              "      <td>7717.0</td>\n",
              "      <td>13.122363</td>\n",
              "    </tr>\n",
              "  </tbody>\n",
              "</table>\n",
              "<p>2073 rows × 22 columns</p>\n",
              "</div>\n",
              "      <button class=\"colab-df-convert\" onclick=\"convertToInteractive('df-73c46cef-8af1-4e46-a078-40478088f8c8')\"\n",
              "              title=\"Convert this dataframe to an interactive table.\"\n",
              "              style=\"display:none;\">\n",
              "        \n",
              "  <svg xmlns=\"http://www.w3.org/2000/svg\" height=\"24px\"viewBox=\"0 0 24 24\"\n",
              "       width=\"24px\">\n",
              "    <path d=\"M0 0h24v24H0V0z\" fill=\"none\"/>\n",
              "    <path d=\"M18.56 5.44l.94 2.06.94-2.06 2.06-.94-2.06-.94-.94-2.06-.94 2.06-2.06.94zm-11 1L8.5 8.5l.94-2.06 2.06-.94-2.06-.94L8.5 2.5l-.94 2.06-2.06.94zm10 10l.94 2.06.94-2.06 2.06-.94-2.06-.94-.94-2.06-.94 2.06-2.06.94z\"/><path d=\"M17.41 7.96l-1.37-1.37c-.4-.4-.92-.59-1.43-.59-.52 0-1.04.2-1.43.59L10.3 9.45l-7.72 7.72c-.78.78-.78 2.05 0 2.83L4 21.41c.39.39.9.59 1.41.59.51 0 1.02-.2 1.41-.59l7.78-7.78 2.81-2.81c.8-.78.8-2.07 0-2.86zM5.41 20L4 18.59l7.72-7.72 1.47 1.35L5.41 20z\"/>\n",
              "  </svg>\n",
              "      </button>\n",
              "      \n",
              "  <style>\n",
              "    .colab-df-container {\n",
              "      display:flex;\n",
              "      flex-wrap:wrap;\n",
              "      gap: 12px;\n",
              "    }\n",
              "\n",
              "    .colab-df-convert {\n",
              "      background-color: #E8F0FE;\n",
              "      border: none;\n",
              "      border-radius: 50%;\n",
              "      cursor: pointer;\n",
              "      display: none;\n",
              "      fill: #1967D2;\n",
              "      height: 32px;\n",
              "      padding: 0 0 0 0;\n",
              "      width: 32px;\n",
              "    }\n",
              "\n",
              "    .colab-df-convert:hover {\n",
              "      background-color: #E2EBFA;\n",
              "      box-shadow: 0px 1px 2px rgba(60, 64, 67, 0.3), 0px 1px 3px 1px rgba(60, 64, 67, 0.15);\n",
              "      fill: #174EA6;\n",
              "    }\n",
              "\n",
              "    [theme=dark] .colab-df-convert {\n",
              "      background-color: #3B4455;\n",
              "      fill: #D2E3FC;\n",
              "    }\n",
              "\n",
              "    [theme=dark] .colab-df-convert:hover {\n",
              "      background-color: #434B5C;\n",
              "      box-shadow: 0px 1px 3px 1px rgba(0, 0, 0, 0.15);\n",
              "      filter: drop-shadow(0px 1px 2px rgba(0, 0, 0, 0.3));\n",
              "      fill: #FFFFFF;\n",
              "    }\n",
              "  </style>\n",
              "\n",
              "      <script>\n",
              "        const buttonEl =\n",
              "          document.querySelector('#df-73c46cef-8af1-4e46-a078-40478088f8c8 button.colab-df-convert');\n",
              "        buttonEl.style.display =\n",
              "          google.colab.kernel.accessAllowed ? 'block' : 'none';\n",
              "\n",
              "        async function convertToInteractive(key) {\n",
              "          const element = document.querySelector('#df-73c46cef-8af1-4e46-a078-40478088f8c8');\n",
              "          const dataTable =\n",
              "            await google.colab.kernel.invokeFunction('convertToInteractive',\n",
              "                                                     [key], {});\n",
              "          if (!dataTable) return;\n",
              "\n",
              "          const docLinkHtml = 'Like what you see? Visit the ' +\n",
              "            '<a target=\"_blank\" href=https://colab.research.google.com/notebooks/data_table.ipynb>data table notebook</a>'\n",
              "            + ' to learn more about interactive tables.';\n",
              "          element.innerHTML = '';\n",
              "          dataTable['output_type'] = 'display_data';\n",
              "          await google.colab.output.renderOutput(dataTable, element);\n",
              "          const docLink = document.createElement('div');\n",
              "          docLink.innerHTML = docLinkHtml;\n",
              "          element.appendChild(docLink);\n",
              "        }\n",
              "      </script>\n",
              "    </div>\n",
              "  </div>\n",
              "  "
            ],
            "text/plain": [
              "      index          Suburb             Address  Rooms Type Method  \\\n",
              "4703   4703       Thornbury        50b Clyde St      3    h     VB   \n",
              "3264   3264          Balwyn      112 Belmore Rd      5    h     PI   \n",
              "4235   4235        Hillside      20 Viridian Dr      4    h      S   \n",
              "3085   3085      Abbotsford        133 Yarra St      2    h      S   \n",
              "507     507   Fitzroy North       236 Barkly St      2    h      S   \n",
              "...     ...             ...                 ...    ...  ...    ...   \n",
              "4382   4382    Williamstown      73 Victoria St      4    h     PI   \n",
              "1235   1235  West Footscray    1/37 Hampton Pde      3    h      S   \n",
              "3845   3845   Brighton East      3/127 Dendy St      2    u      S   \n",
              "4030   4030        Oak Park     10 Grevillia Rd      5    h     PI   \n",
              "4391   4391         Prahran  6/299 Dandenong Rd      2    u     SP   \n",
              "\n",
              "            SellerG        Date  Distance Postcode  Bedroom2  Bathroom  Car  \\\n",
              "4703         Nelson  24/09/2016       6.5   3071.0       3.0       2.0  3.0   \n",
              "3264         Jellis  28/05/2016       9.7   3103.0       5.0       3.0  2.0   \n",
              "4235            YPA  29/07/2017      18.0   3037.0       4.0       2.0  2.0   \n",
              "3085         Biggin  22/07/2017       3.0   3067.0       2.0       2.0  1.0   \n",
              "507        Chambers  29/04/2017       3.5   3068.0       2.0       1.0  0.0   \n",
              "...             ...         ...       ...      ...       ...       ...  ...   \n",
              "4382        Sweeney   8/10/2016       8.0   3016.0       4.0       3.0  2.0   \n",
              "1235        Village  10/09/2016       8.2   3012.0       3.0       1.0  2.0   \n",
              "3845         Buxton  26/07/2016      10.7   3187.0       2.0       1.0  1.0   \n",
              "4030         Nelson  12/11/2016      11.5   3046.0       5.0       2.0  4.0   \n",
              "4391  hockingstuart  15/07/2017       4.6   3181.0       2.0       1.0  1.0   \n",
              "\n",
              "      Landsize  BuildingArea YearBuilt  CouncilArea  Lattitude  Longtitude  \\\n",
              "4703     297.0         234.0    2013.0      Darebin  -37.76170   145.01170   \n",
              "3264     715.0         420.0    2009.0   Boroondara  -37.80280   145.07680   \n",
              "4235     542.0         221.0    2009.0       Melton  -37.68104   144.74608   \n",
              "3085     147.0         175.0    2000.0        Yarra  -37.80269   145.00010   \n",
              "507      192.0          85.2    1910.0        Yarra  -37.77930   144.98790   \n",
              "...        ...           ...       ...          ...        ...         ...   \n",
              "4382     321.0         287.0       nan  Hobsons Bay  -37.86230   144.88840   \n",
              "1235     302.0         125.0    1938.0  Maribyrnong  -37.80660   144.86660   \n",
              "3845      74.0          66.0    1960.0      Bayside  -37.92070   145.00790   \n",
              "4030     783.0         223.0    1950.0     Moreland  -37.72070   144.92630   \n",
              "4391       0.0          78.0    1960.0  Stonnington  -37.85924   145.00563   \n",
              "\n",
              "                 Regionname  Propertycount  Price_log  \n",
              "4703  Northern Metropolitan         8870.0  14.038654  \n",
              "3264  Southern Metropolitan         5682.0  14.920767  \n",
              "4235   Western Metropolitan         5556.0  13.334810  \n",
              "3085  Northern Metropolitan         4019.0  13.989464  \n",
              "507   Northern Metropolitan         6244.0  13.869051  \n",
              "...                     ...            ...        ...  \n",
              "4382   Western Metropolitan         6380.0  14.411596  \n",
              "1235   Western Metropolitan         5058.0  13.491165  \n",
              "3845  Southern Metropolitan         6938.0  13.447341  \n",
              "4030  Northern Metropolitan         2651.0  13.910821  \n",
              "4391  Southern Metropolitan         7717.0  13.122363  \n",
              "\n",
              "[2073 rows x 22 columns]"
            ]
          },
          "metadata": {},
          "execution_count": 53
        }
      ],
      "source": [
        "# # option 1 : remove those rows with nans \n",
        "cols_wiht_nans = housing.columns[housing.isna().any()].tolist()\n",
        "housing.dropna()    "
      ]
    },
    {
      "cell_type": "code",
      "execution_count": null,
      "metadata": {
        "colab": {
          "base_uri": "https://localhost:8080/",
          "height": 713
        },
        "id": "BQf9_6NIMc_k",
        "outputId": "eb5708b8-2a69-4a1f-ade6-d8e6a7020e9f"
      },
      "outputs": [
        {
          "output_type": "execute_result",
          "data": {
            "text/html": [
              "\n",
              "  <div id=\"df-d8572ce3-1722-4907-8e1c-eff9040cad70\">\n",
              "    <div class=\"colab-df-container\">\n",
              "      <div>\n",
              "<style scoped>\n",
              "    .dataframe tbody tr th:only-of-type {\n",
              "        vertical-align: middle;\n",
              "    }\n",
              "\n",
              "    .dataframe tbody tr th {\n",
              "        vertical-align: top;\n",
              "    }\n",
              "\n",
              "    .dataframe thead th {\n",
              "        text-align: right;\n",
              "    }\n",
              "</style>\n",
              "<table border=\"1\" class=\"dataframe\">\n",
              "  <thead>\n",
              "    <tr style=\"text-align: right;\">\n",
              "      <th></th>\n",
              "      <th>index</th>\n",
              "      <th>Suburb</th>\n",
              "      <th>Address</th>\n",
              "      <th>Rooms</th>\n",
              "      <th>Type</th>\n",
              "      <th>Method</th>\n",
              "      <th>SellerG</th>\n",
              "      <th>Date</th>\n",
              "      <th>Distance</th>\n",
              "      <th>Postcode</th>\n",
              "      <th>Bedroom2</th>\n",
              "      <th>Bathroom</th>\n",
              "      <th>Car</th>\n",
              "      <th>Landsize</th>\n",
              "      <th>BuildingArea</th>\n",
              "      <th>YearBuilt</th>\n",
              "      <th>CouncilArea</th>\n",
              "      <th>Lattitude</th>\n",
              "      <th>Longtitude</th>\n",
              "      <th>Regionname</th>\n",
              "      <th>Propertycount</th>\n",
              "      <th>Price_log</th>\n",
              "    </tr>\n",
              "  </thead>\n",
              "  <tbody>\n",
              "    <tr>\n",
              "      <th>4703</th>\n",
              "      <td>4703</td>\n",
              "      <td>Thornbury</td>\n",
              "      <td>50b Clyde St</td>\n",
              "      <td>3</td>\n",
              "      <td>h</td>\n",
              "      <td>VB</td>\n",
              "      <td>Nelson</td>\n",
              "      <td>24/09/2016</td>\n",
              "      <td>6.5</td>\n",
              "      <td>3071.0</td>\n",
              "      <td>3.0</td>\n",
              "      <td>2.0</td>\n",
              "      <td>3.0</td>\n",
              "      <td>297.0</td>\n",
              "      <td>234.0</td>\n",
              "      <td>2013.0</td>\n",
              "      <td>Darebin</td>\n",
              "      <td>-37.76170</td>\n",
              "      <td>145.01170</td>\n",
              "      <td>Northern Metropolitan</td>\n",
              "      <td>8870.0</td>\n",
              "      <td>14.038654</td>\n",
              "    </tr>\n",
              "    <tr>\n",
              "      <th>3264</th>\n",
              "      <td>3264</td>\n",
              "      <td>Balwyn</td>\n",
              "      <td>112 Belmore Rd</td>\n",
              "      <td>5</td>\n",
              "      <td>h</td>\n",
              "      <td>PI</td>\n",
              "      <td>Jellis</td>\n",
              "      <td>28/05/2016</td>\n",
              "      <td>9.7</td>\n",
              "      <td>3103.0</td>\n",
              "      <td>5.0</td>\n",
              "      <td>3.0</td>\n",
              "      <td>2.0</td>\n",
              "      <td>715.0</td>\n",
              "      <td>420.0</td>\n",
              "      <td>2009.0</td>\n",
              "      <td>Boroondara</td>\n",
              "      <td>-37.80280</td>\n",
              "      <td>145.07680</td>\n",
              "      <td>Southern Metropolitan</td>\n",
              "      <td>5682.0</td>\n",
              "      <td>14.920767</td>\n",
              "    </tr>\n",
              "    <tr>\n",
              "      <th>354</th>\n",
              "      <td>354</td>\n",
              "      <td>Sunbury</td>\n",
              "      <td>20 Brett Ct</td>\n",
              "      <td>4</td>\n",
              "      <td>h</td>\n",
              "      <td>S</td>\n",
              "      <td>Barry</td>\n",
              "      <td>3/09/2017</td>\n",
              "      <td>31.7</td>\n",
              "      <td>3429.0</td>\n",
              "      <td>4.0</td>\n",
              "      <td>2.0</td>\n",
              "      <td>2.0</td>\n",
              "      <td>693.0</td>\n",
              "      <td>174.0</td>\n",
              "      <td>1995.0</td>\n",
              "      <td>NaN</td>\n",
              "      <td>-37.57029</td>\n",
              "      <td>144.71163</td>\n",
              "      <td>Western Metropolitan</td>\n",
              "      <td>14092.0</td>\n",
              "      <td>13.253392</td>\n",
              "    </tr>\n",
              "    <tr>\n",
              "      <th>4235</th>\n",
              "      <td>4235</td>\n",
              "      <td>Hillside</td>\n",
              "      <td>20 Viridian Dr</td>\n",
              "      <td>4</td>\n",
              "      <td>h</td>\n",
              "      <td>S</td>\n",
              "      <td>YPA</td>\n",
              "      <td>29/07/2017</td>\n",
              "      <td>18.0</td>\n",
              "      <td>3037.0</td>\n",
              "      <td>4.0</td>\n",
              "      <td>2.0</td>\n",
              "      <td>2.0</td>\n",
              "      <td>542.0</td>\n",
              "      <td>221.0</td>\n",
              "      <td>2009.0</td>\n",
              "      <td>Melton</td>\n",
              "      <td>-37.68104</td>\n",
              "      <td>144.74608</td>\n",
              "      <td>Western Metropolitan</td>\n",
              "      <td>5556.0</td>\n",
              "      <td>13.334810</td>\n",
              "    </tr>\n",
              "    <tr>\n",
              "      <th>5019</th>\n",
              "      <td>5019</td>\n",
              "      <td>Northcote</td>\n",
              "      <td>39 Winifred St</td>\n",
              "      <td>4</td>\n",
              "      <td>h</td>\n",
              "      <td>S</td>\n",
              "      <td>Ray</td>\n",
              "      <td>23/09/2017</td>\n",
              "      <td>5.3</td>\n",
              "      <td>3070.0</td>\n",
              "      <td>4.0</td>\n",
              "      <td>2.0</td>\n",
              "      <td>2.0</td>\n",
              "      <td>264.0</td>\n",
              "      <td>188.0</td>\n",
              "      <td>1996.0</td>\n",
              "      <td>NaN</td>\n",
              "      <td>-37.76898</td>\n",
              "      <td>144.98580</td>\n",
              "      <td>Northern Metropolitan</td>\n",
              "      <td>11364.0</td>\n",
              "      <td>14.115615</td>\n",
              "    </tr>\n",
              "    <tr>\n",
              "      <th>...</th>\n",
              "      <td>...</td>\n",
              "      <td>...</td>\n",
              "      <td>...</td>\n",
              "      <td>...</td>\n",
              "      <td>...</td>\n",
              "      <td>...</td>\n",
              "      <td>...</td>\n",
              "      <td>...</td>\n",
              "      <td>...</td>\n",
              "      <td>...</td>\n",
              "      <td>...</td>\n",
              "      <td>...</td>\n",
              "      <td>...</td>\n",
              "      <td>...</td>\n",
              "      <td>...</td>\n",
              "      <td>...</td>\n",
              "      <td>...</td>\n",
              "      <td>...</td>\n",
              "      <td>...</td>\n",
              "      <td>...</td>\n",
              "      <td>...</td>\n",
              "      <td>...</td>\n",
              "    </tr>\n",
              "    <tr>\n",
              "      <th>4382</th>\n",
              "      <td>4382</td>\n",
              "      <td>Williamstown</td>\n",
              "      <td>73 Victoria St</td>\n",
              "      <td>4</td>\n",
              "      <td>h</td>\n",
              "      <td>PI</td>\n",
              "      <td>Sweeney</td>\n",
              "      <td>8/10/2016</td>\n",
              "      <td>8.0</td>\n",
              "      <td>3016.0</td>\n",
              "      <td>4.0</td>\n",
              "      <td>3.0</td>\n",
              "      <td>2.0</td>\n",
              "      <td>321.0</td>\n",
              "      <td>287.0</td>\n",
              "      <td>nan</td>\n",
              "      <td>Hobsons Bay</td>\n",
              "      <td>-37.86230</td>\n",
              "      <td>144.88840</td>\n",
              "      <td>Western Metropolitan</td>\n",
              "      <td>6380.0</td>\n",
              "      <td>14.411596</td>\n",
              "    </tr>\n",
              "    <tr>\n",
              "      <th>1235</th>\n",
              "      <td>1235</td>\n",
              "      <td>West Footscray</td>\n",
              "      <td>1/37 Hampton Pde</td>\n",
              "      <td>3</td>\n",
              "      <td>h</td>\n",
              "      <td>S</td>\n",
              "      <td>Village</td>\n",
              "      <td>10/09/2016</td>\n",
              "      <td>8.2</td>\n",
              "      <td>3012.0</td>\n",
              "      <td>3.0</td>\n",
              "      <td>1.0</td>\n",
              "      <td>2.0</td>\n",
              "      <td>302.0</td>\n",
              "      <td>125.0</td>\n",
              "      <td>1938.0</td>\n",
              "      <td>Maribyrnong</td>\n",
              "      <td>-37.80660</td>\n",
              "      <td>144.86660</td>\n",
              "      <td>Western Metropolitan</td>\n",
              "      <td>5058.0</td>\n",
              "      <td>13.491165</td>\n",
              "    </tr>\n",
              "    <tr>\n",
              "      <th>3845</th>\n",
              "      <td>3845</td>\n",
              "      <td>Brighton East</td>\n",
              "      <td>3/127 Dendy St</td>\n",
              "      <td>2</td>\n",
              "      <td>u</td>\n",
              "      <td>S</td>\n",
              "      <td>Buxton</td>\n",
              "      <td>26/07/2016</td>\n",
              "      <td>10.7</td>\n",
              "      <td>3187.0</td>\n",
              "      <td>2.0</td>\n",
              "      <td>1.0</td>\n",
              "      <td>1.0</td>\n",
              "      <td>74.0</td>\n",
              "      <td>66.0</td>\n",
              "      <td>1960.0</td>\n",
              "      <td>Bayside</td>\n",
              "      <td>-37.92070</td>\n",
              "      <td>145.00790</td>\n",
              "      <td>Southern Metropolitan</td>\n",
              "      <td>6938.0</td>\n",
              "      <td>13.447341</td>\n",
              "    </tr>\n",
              "    <tr>\n",
              "      <th>4030</th>\n",
              "      <td>4030</td>\n",
              "      <td>Oak Park</td>\n",
              "      <td>10 Grevillia Rd</td>\n",
              "      <td>5</td>\n",
              "      <td>h</td>\n",
              "      <td>PI</td>\n",
              "      <td>Nelson</td>\n",
              "      <td>12/11/2016</td>\n",
              "      <td>11.5</td>\n",
              "      <td>3046.0</td>\n",
              "      <td>5.0</td>\n",
              "      <td>2.0</td>\n",
              "      <td>4.0</td>\n",
              "      <td>783.0</td>\n",
              "      <td>223.0</td>\n",
              "      <td>1950.0</td>\n",
              "      <td>Moreland</td>\n",
              "      <td>-37.72070</td>\n",
              "      <td>144.92630</td>\n",
              "      <td>Northern Metropolitan</td>\n",
              "      <td>2651.0</td>\n",
              "      <td>13.910821</td>\n",
              "    </tr>\n",
              "    <tr>\n",
              "      <th>4391</th>\n",
              "      <td>4391</td>\n",
              "      <td>Prahran</td>\n",
              "      <td>6/299 Dandenong Rd</td>\n",
              "      <td>2</td>\n",
              "      <td>u</td>\n",
              "      <td>SP</td>\n",
              "      <td>hockingstuart</td>\n",
              "      <td>15/07/2017</td>\n",
              "      <td>4.6</td>\n",
              "      <td>3181.0</td>\n",
              "      <td>2.0</td>\n",
              "      <td>1.0</td>\n",
              "      <td>1.0</td>\n",
              "      <td>0.0</td>\n",
              "      <td>78.0</td>\n",
              "      <td>1960.0</td>\n",
              "      <td>Stonnington</td>\n",
              "      <td>-37.85924</td>\n",
              "      <td>145.00563</td>\n",
              "      <td>Southern Metropolitan</td>\n",
              "      <td>7717.0</td>\n",
              "      <td>13.122363</td>\n",
              "    </tr>\n",
              "  </tbody>\n",
              "</table>\n",
              "<p>2304 rows × 22 columns</p>\n",
              "</div>\n",
              "      <button class=\"colab-df-convert\" onclick=\"convertToInteractive('df-d8572ce3-1722-4907-8e1c-eff9040cad70')\"\n",
              "              title=\"Convert this dataframe to an interactive table.\"\n",
              "              style=\"display:none;\">\n",
              "        \n",
              "  <svg xmlns=\"http://www.w3.org/2000/svg\" height=\"24px\"viewBox=\"0 0 24 24\"\n",
              "       width=\"24px\">\n",
              "    <path d=\"M0 0h24v24H0V0z\" fill=\"none\"/>\n",
              "    <path d=\"M18.56 5.44l.94 2.06.94-2.06 2.06-.94-2.06-.94-.94-2.06-.94 2.06-2.06.94zm-11 1L8.5 8.5l.94-2.06 2.06-.94-2.06-.94L8.5 2.5l-.94 2.06-2.06.94zm10 10l.94 2.06.94-2.06 2.06-.94-2.06-.94-.94-2.06-.94 2.06-2.06.94z\"/><path d=\"M17.41 7.96l-1.37-1.37c-.4-.4-.92-.59-1.43-.59-.52 0-1.04.2-1.43.59L10.3 9.45l-7.72 7.72c-.78.78-.78 2.05 0 2.83L4 21.41c.39.39.9.59 1.41.59.51 0 1.02-.2 1.41-.59l7.78-7.78 2.81-2.81c.8-.78.8-2.07 0-2.86zM5.41 20L4 18.59l7.72-7.72 1.47 1.35L5.41 20z\"/>\n",
              "  </svg>\n",
              "      </button>\n",
              "      \n",
              "  <style>\n",
              "    .colab-df-container {\n",
              "      display:flex;\n",
              "      flex-wrap:wrap;\n",
              "      gap: 12px;\n",
              "    }\n",
              "\n",
              "    .colab-df-convert {\n",
              "      background-color: #E8F0FE;\n",
              "      border: none;\n",
              "      border-radius: 50%;\n",
              "      cursor: pointer;\n",
              "      display: none;\n",
              "      fill: #1967D2;\n",
              "      height: 32px;\n",
              "      padding: 0 0 0 0;\n",
              "      width: 32px;\n",
              "    }\n",
              "\n",
              "    .colab-df-convert:hover {\n",
              "      background-color: #E2EBFA;\n",
              "      box-shadow: 0px 1px 2px rgba(60, 64, 67, 0.3), 0px 1px 3px 1px rgba(60, 64, 67, 0.15);\n",
              "      fill: #174EA6;\n",
              "    }\n",
              "\n",
              "    [theme=dark] .colab-df-convert {\n",
              "      background-color: #3B4455;\n",
              "      fill: #D2E3FC;\n",
              "    }\n",
              "\n",
              "    [theme=dark] .colab-df-convert:hover {\n",
              "      background-color: #434B5C;\n",
              "      box-shadow: 0px 1px 3px 1px rgba(0, 0, 0, 0.15);\n",
              "      filter: drop-shadow(0px 1px 2px rgba(0, 0, 0, 0.3));\n",
              "      fill: #FFFFFF;\n",
              "    }\n",
              "  </style>\n",
              "\n",
              "      <script>\n",
              "        const buttonEl =\n",
              "          document.querySelector('#df-d8572ce3-1722-4907-8e1c-eff9040cad70 button.colab-df-convert');\n",
              "        buttonEl.style.display =\n",
              "          google.colab.kernel.accessAllowed ? 'block' : 'none';\n",
              "\n",
              "        async function convertToInteractive(key) {\n",
              "          const element = document.querySelector('#df-d8572ce3-1722-4907-8e1c-eff9040cad70');\n",
              "          const dataTable =\n",
              "            await google.colab.kernel.invokeFunction('convertToInteractive',\n",
              "                                                     [key], {});\n",
              "          if (!dataTable) return;\n",
              "\n",
              "          const docLinkHtml = 'Like what you see? Visit the ' +\n",
              "            '<a target=\"_blank\" href=https://colab.research.google.com/notebooks/data_table.ipynb>data table notebook</a>'\n",
              "            + ' to learn more about interactive tables.';\n",
              "          element.innerHTML = '';\n",
              "          dataTable['output_type'] = 'display_data';\n",
              "          await google.colab.output.renderOutput(dataTable, element);\n",
              "          const docLink = document.createElement('div');\n",
              "          docLink.innerHTML = docLinkHtml;\n",
              "          element.appendChild(docLink);\n",
              "        }\n",
              "      </script>\n",
              "    </div>\n",
              "  </div>\n",
              "  "
            ],
            "text/plain": [
              "      index          Suburb             Address  Rooms Type Method  \\\n",
              "4703   4703       Thornbury        50b Clyde St      3    h     VB   \n",
              "3264   3264          Balwyn      112 Belmore Rd      5    h     PI   \n",
              "354     354         Sunbury         20 Brett Ct      4    h      S   \n",
              "4235   4235        Hillside      20 Viridian Dr      4    h      S   \n",
              "5019   5019       Northcote      39 Winifred St      4    h      S   \n",
              "...     ...             ...                 ...    ...  ...    ...   \n",
              "4382   4382    Williamstown      73 Victoria St      4    h     PI   \n",
              "1235   1235  West Footscray    1/37 Hampton Pde      3    h      S   \n",
              "3845   3845   Brighton East      3/127 Dendy St      2    u      S   \n",
              "4030   4030        Oak Park     10 Grevillia Rd      5    h     PI   \n",
              "4391   4391         Prahran  6/299 Dandenong Rd      2    u     SP   \n",
              "\n",
              "            SellerG        Date  Distance Postcode  Bedroom2  Bathroom  Car  \\\n",
              "4703         Nelson  24/09/2016       6.5   3071.0       3.0       2.0  3.0   \n",
              "3264         Jellis  28/05/2016       9.7   3103.0       5.0       3.0  2.0   \n",
              "354           Barry   3/09/2017      31.7   3429.0       4.0       2.0  2.0   \n",
              "4235            YPA  29/07/2017      18.0   3037.0       4.0       2.0  2.0   \n",
              "5019            Ray  23/09/2017       5.3   3070.0       4.0       2.0  2.0   \n",
              "...             ...         ...       ...      ...       ...       ...  ...   \n",
              "4382        Sweeney   8/10/2016       8.0   3016.0       4.0       3.0  2.0   \n",
              "1235        Village  10/09/2016       8.2   3012.0       3.0       1.0  2.0   \n",
              "3845         Buxton  26/07/2016      10.7   3187.0       2.0       1.0  1.0   \n",
              "4030         Nelson  12/11/2016      11.5   3046.0       5.0       2.0  4.0   \n",
              "4391  hockingstuart  15/07/2017       4.6   3181.0       2.0       1.0  1.0   \n",
              "\n",
              "      Landsize  BuildingArea YearBuilt  CouncilArea  Lattitude  Longtitude  \\\n",
              "4703     297.0         234.0    2013.0      Darebin  -37.76170   145.01170   \n",
              "3264     715.0         420.0    2009.0   Boroondara  -37.80280   145.07680   \n",
              "354      693.0         174.0    1995.0          NaN  -37.57029   144.71163   \n",
              "4235     542.0         221.0    2009.0       Melton  -37.68104   144.74608   \n",
              "5019     264.0         188.0    1996.0          NaN  -37.76898   144.98580   \n",
              "...        ...           ...       ...          ...        ...         ...   \n",
              "4382     321.0         287.0       nan  Hobsons Bay  -37.86230   144.88840   \n",
              "1235     302.0         125.0    1938.0  Maribyrnong  -37.80660   144.86660   \n",
              "3845      74.0          66.0    1960.0      Bayside  -37.92070   145.00790   \n",
              "4030     783.0         223.0    1950.0     Moreland  -37.72070   144.92630   \n",
              "4391       0.0          78.0    1960.0  Stonnington  -37.85924   145.00563   \n",
              "\n",
              "                 Regionname  Propertycount  Price_log  \n",
              "4703  Northern Metropolitan         8870.0  14.038654  \n",
              "3264  Southern Metropolitan         5682.0  14.920767  \n",
              "354    Western Metropolitan        14092.0  13.253392  \n",
              "4235   Western Metropolitan         5556.0  13.334810  \n",
              "5019  Northern Metropolitan        11364.0  14.115615  \n",
              "...                     ...            ...        ...  \n",
              "4382   Western Metropolitan         6380.0  14.411596  \n",
              "1235   Western Metropolitan         5058.0  13.491165  \n",
              "3845  Southern Metropolitan         6938.0  13.447341  \n",
              "4030  Northern Metropolitan         2651.0  13.910821  \n",
              "4391  Southern Metropolitan         7717.0  13.122363  \n",
              "\n",
              "[2304 rows x 22 columns]"
            ]
          },
          "metadata": {},
          "execution_count": 54
        }
      ],
      "source": [
        "# only from a subset of columns\n",
        "cols_wiht_nans = housing.columns[housing.isna().any()].tolist()\n",
        "housing.dropna(subset=[\"BuildingArea\"])    "
      ]
    },
    {
      "cell_type": "code",
      "execution_count": null,
      "metadata": {
        "colab": {
          "base_uri": "https://localhost:8080/",
          "height": 730
        },
        "id": "_fHcNJv9Mc_k",
        "outputId": "03632d0d-5dc8-4e02-8dbb-960e299075ba"
      },
      "outputs": [
        {
          "output_type": "execute_result",
          "data": {
            "text/html": [
              "\n",
              "  <div id=\"df-cc83b1a1-c7e2-4b88-a447-91b137fb5ada\">\n",
              "    <div class=\"colab-df-container\">\n",
              "      <div>\n",
              "<style scoped>\n",
              "    .dataframe tbody tr th:only-of-type {\n",
              "        vertical-align: middle;\n",
              "    }\n",
              "\n",
              "    .dataframe tbody tr th {\n",
              "        vertical-align: top;\n",
              "    }\n",
              "\n",
              "    .dataframe thead th {\n",
              "        text-align: right;\n",
              "    }\n",
              "</style>\n",
              "<table border=\"1\" class=\"dataframe\">\n",
              "  <thead>\n",
              "    <tr style=\"text-align: right;\">\n",
              "      <th></th>\n",
              "      <th>index</th>\n",
              "      <th>Suburb</th>\n",
              "      <th>Address</th>\n",
              "      <th>Rooms</th>\n",
              "      <th>Type</th>\n",
              "      <th>Method</th>\n",
              "      <th>SellerG</th>\n",
              "      <th>Date</th>\n",
              "      <th>Distance</th>\n",
              "      <th>Postcode</th>\n",
              "      <th>Bedroom2</th>\n",
              "      <th>Bathroom</th>\n",
              "      <th>Landsize</th>\n",
              "      <th>YearBuilt</th>\n",
              "      <th>Lattitude</th>\n",
              "      <th>Longtitude</th>\n",
              "      <th>Regionname</th>\n",
              "      <th>Propertycount</th>\n",
              "      <th>Price_log</th>\n",
              "    </tr>\n",
              "  </thead>\n",
              "  <tbody>\n",
              "    <tr>\n",
              "      <th>2687</th>\n",
              "      <td>2687</td>\n",
              "      <td>Albion</td>\n",
              "      <td>76 Forrest St</td>\n",
              "      <td>3</td>\n",
              "      <td>h</td>\n",
              "      <td>S</td>\n",
              "      <td>Douglas</td>\n",
              "      <td>13/05/2017</td>\n",
              "      <td>13.9</td>\n",
              "      <td>3020.0</td>\n",
              "      <td>3.0</td>\n",
              "      <td>1.0</td>\n",
              "      <td>697.0</td>\n",
              "      <td>nan</td>\n",
              "      <td>-37.78410</td>\n",
              "      <td>144.81690</td>\n",
              "      <td>Western Metropolitan</td>\n",
              "      <td>2185.0</td>\n",
              "      <td>13.458836</td>\n",
              "    </tr>\n",
              "    <tr>\n",
              "      <th>4703</th>\n",
              "      <td>4703</td>\n",
              "      <td>Thornbury</td>\n",
              "      <td>50b Clyde St</td>\n",
              "      <td>3</td>\n",
              "      <td>h</td>\n",
              "      <td>VB</td>\n",
              "      <td>Nelson</td>\n",
              "      <td>24/09/2016</td>\n",
              "      <td>6.5</td>\n",
              "      <td>3071.0</td>\n",
              "      <td>3.0</td>\n",
              "      <td>2.0</td>\n",
              "      <td>297.0</td>\n",
              "      <td>2013.0</td>\n",
              "      <td>-37.76170</td>\n",
              "      <td>145.01170</td>\n",
              "      <td>Northern Metropolitan</td>\n",
              "      <td>8870.0</td>\n",
              "      <td>14.038654</td>\n",
              "    </tr>\n",
              "    <tr>\n",
              "      <th>3264</th>\n",
              "      <td>3264</td>\n",
              "      <td>Balwyn</td>\n",
              "      <td>112 Belmore Rd</td>\n",
              "      <td>5</td>\n",
              "      <td>h</td>\n",
              "      <td>PI</td>\n",
              "      <td>Jellis</td>\n",
              "      <td>28/05/2016</td>\n",
              "      <td>9.7</td>\n",
              "      <td>3103.0</td>\n",
              "      <td>5.0</td>\n",
              "      <td>3.0</td>\n",
              "      <td>715.0</td>\n",
              "      <td>2009.0</td>\n",
              "      <td>-37.80280</td>\n",
              "      <td>145.07680</td>\n",
              "      <td>Southern Metropolitan</td>\n",
              "      <td>5682.0</td>\n",
              "      <td>14.920767</td>\n",
              "    </tr>\n",
              "    <tr>\n",
              "      <th>3944</th>\n",
              "      <td>3944</td>\n",
              "      <td>Brunswick</td>\n",
              "      <td>30 Mountfield St</td>\n",
              "      <td>2</td>\n",
              "      <td>h</td>\n",
              "      <td>S</td>\n",
              "      <td>Jellis</td>\n",
              "      <td>28/08/2016</td>\n",
              "      <td>5.2</td>\n",
              "      <td>3056.0</td>\n",
              "      <td>2.0</td>\n",
              "      <td>1.0</td>\n",
              "      <td>182.0</td>\n",
              "      <td>nan</td>\n",
              "      <td>-37.76290</td>\n",
              "      <td>144.96800</td>\n",
              "      <td>Northern Metropolitan</td>\n",
              "      <td>11918.0</td>\n",
              "      <td>13.885969</td>\n",
              "    </tr>\n",
              "    <tr>\n",
              "      <th>3130</th>\n",
              "      <td>3130</td>\n",
              "      <td>Ivanhoe</td>\n",
              "      <td>19 Belmont Rd</td>\n",
              "      <td>2</td>\n",
              "      <td>h</td>\n",
              "      <td>S</td>\n",
              "      <td>Fletchers</td>\n",
              "      <td>12/08/2017</td>\n",
              "      <td>7.8</td>\n",
              "      <td>3079.0</td>\n",
              "      <td>2.0</td>\n",
              "      <td>1.0</td>\n",
              "      <td>1110.0</td>\n",
              "      <td>nan</td>\n",
              "      <td>-37.76778</td>\n",
              "      <td>145.03312</td>\n",
              "      <td>Eastern Metropolitan</td>\n",
              "      <td>5549.0</td>\n",
              "      <td>14.690979</td>\n",
              "    </tr>\n",
              "    <tr>\n",
              "      <th>...</th>\n",
              "      <td>...</td>\n",
              "      <td>...</td>\n",
              "      <td>...</td>\n",
              "      <td>...</td>\n",
              "      <td>...</td>\n",
              "      <td>...</td>\n",
              "      <td>...</td>\n",
              "      <td>...</td>\n",
              "      <td>...</td>\n",
              "      <td>...</td>\n",
              "      <td>...</td>\n",
              "      <td>...</td>\n",
              "      <td>...</td>\n",
              "      <td>...</td>\n",
              "      <td>...</td>\n",
              "      <td>...</td>\n",
              "      <td>...</td>\n",
              "      <td>...</td>\n",
              "      <td>...</td>\n",
              "    </tr>\n",
              "    <tr>\n",
              "      <th>3845</th>\n",
              "      <td>3845</td>\n",
              "      <td>Brighton East</td>\n",
              "      <td>3/127 Dendy St</td>\n",
              "      <td>2</td>\n",
              "      <td>u</td>\n",
              "      <td>S</td>\n",
              "      <td>Buxton</td>\n",
              "      <td>26/07/2016</td>\n",
              "      <td>10.7</td>\n",
              "      <td>3187.0</td>\n",
              "      <td>2.0</td>\n",
              "      <td>1.0</td>\n",
              "      <td>74.0</td>\n",
              "      <td>1960.0</td>\n",
              "      <td>-37.92070</td>\n",
              "      <td>145.00790</td>\n",
              "      <td>Southern Metropolitan</td>\n",
              "      <td>6938.0</td>\n",
              "      <td>13.447341</td>\n",
              "    </tr>\n",
              "    <tr>\n",
              "      <th>4030</th>\n",
              "      <td>4030</td>\n",
              "      <td>Oak Park</td>\n",
              "      <td>10 Grevillia Rd</td>\n",
              "      <td>5</td>\n",
              "      <td>h</td>\n",
              "      <td>PI</td>\n",
              "      <td>Nelson</td>\n",
              "      <td>12/11/2016</td>\n",
              "      <td>11.5</td>\n",
              "      <td>3046.0</td>\n",
              "      <td>5.0</td>\n",
              "      <td>2.0</td>\n",
              "      <td>783.0</td>\n",
              "      <td>1950.0</td>\n",
              "      <td>-37.72070</td>\n",
              "      <td>144.92630</td>\n",
              "      <td>Northern Metropolitan</td>\n",
              "      <td>2651.0</td>\n",
              "      <td>13.910821</td>\n",
              "    </tr>\n",
              "    <tr>\n",
              "      <th>2428</th>\n",
              "      <td>2428</td>\n",
              "      <td>Carnegie</td>\n",
              "      <td>33 McLaurin Rd</td>\n",
              "      <td>3</td>\n",
              "      <td>h</td>\n",
              "      <td>S</td>\n",
              "      <td>hockingstuart</td>\n",
              "      <td>17/09/2016</td>\n",
              "      <td>11.4</td>\n",
              "      <td>3163.0</td>\n",
              "      <td>3.0</td>\n",
              "      <td>2.0</td>\n",
              "      <td>554.0</td>\n",
              "      <td>nan</td>\n",
              "      <td>-37.89340</td>\n",
              "      <td>145.05990</td>\n",
              "      <td>Southern Metropolitan</td>\n",
              "      <td>7822.0</td>\n",
              "      <td>14.166167</td>\n",
              "    </tr>\n",
              "    <tr>\n",
              "      <th>4769</th>\n",
              "      <td>4769</td>\n",
              "      <td>Keilor East</td>\n",
              "      <td>16 Drew St</td>\n",
              "      <td>3</td>\n",
              "      <td>h</td>\n",
              "      <td>S</td>\n",
              "      <td>Nelson</td>\n",
              "      <td>4/03/2017</td>\n",
              "      <td>12.8</td>\n",
              "      <td>3033.0</td>\n",
              "      <td>3.0</td>\n",
              "      <td>1.0</td>\n",
              "      <td>662.0</td>\n",
              "      <td>nan</td>\n",
              "      <td>-37.73800</td>\n",
              "      <td>144.86900</td>\n",
              "      <td>Western Metropolitan</td>\n",
              "      <td>5629.0</td>\n",
              "      <td>13.748302</td>\n",
              "    </tr>\n",
              "    <tr>\n",
              "      <th>4391</th>\n",
              "      <td>4391</td>\n",
              "      <td>Prahran</td>\n",
              "      <td>6/299 Dandenong Rd</td>\n",
              "      <td>2</td>\n",
              "      <td>u</td>\n",
              "      <td>SP</td>\n",
              "      <td>hockingstuart</td>\n",
              "      <td>15/07/2017</td>\n",
              "      <td>4.6</td>\n",
              "      <td>3181.0</td>\n",
              "      <td>2.0</td>\n",
              "      <td>1.0</td>\n",
              "      <td>0.0</td>\n",
              "      <td>1960.0</td>\n",
              "      <td>-37.85924</td>\n",
              "      <td>145.00563</td>\n",
              "      <td>Southern Metropolitan</td>\n",
              "      <td>7717.0</td>\n",
              "      <td>13.122363</td>\n",
              "    </tr>\n",
              "  </tbody>\n",
              "</table>\n",
              "<p>4345 rows × 19 columns</p>\n",
              "</div>\n",
              "      <button class=\"colab-df-convert\" onclick=\"convertToInteractive('df-cc83b1a1-c7e2-4b88-a447-91b137fb5ada')\"\n",
              "              title=\"Convert this dataframe to an interactive table.\"\n",
              "              style=\"display:none;\">\n",
              "        \n",
              "  <svg xmlns=\"http://www.w3.org/2000/svg\" height=\"24px\"viewBox=\"0 0 24 24\"\n",
              "       width=\"24px\">\n",
              "    <path d=\"M0 0h24v24H0V0z\" fill=\"none\"/>\n",
              "    <path d=\"M18.56 5.44l.94 2.06.94-2.06 2.06-.94-2.06-.94-.94-2.06-.94 2.06-2.06.94zm-11 1L8.5 8.5l.94-2.06 2.06-.94-2.06-.94L8.5 2.5l-.94 2.06-2.06.94zm10 10l.94 2.06.94-2.06 2.06-.94-2.06-.94-.94-2.06-.94 2.06-2.06.94z\"/><path d=\"M17.41 7.96l-1.37-1.37c-.4-.4-.92-.59-1.43-.59-.52 0-1.04.2-1.43.59L10.3 9.45l-7.72 7.72c-.78.78-.78 2.05 0 2.83L4 21.41c.39.39.9.59 1.41.59.51 0 1.02-.2 1.41-.59l7.78-7.78 2.81-2.81c.8-.78.8-2.07 0-2.86zM5.41 20L4 18.59l7.72-7.72 1.47 1.35L5.41 20z\"/>\n",
              "  </svg>\n",
              "      </button>\n",
              "      \n",
              "  <style>\n",
              "    .colab-df-container {\n",
              "      display:flex;\n",
              "      flex-wrap:wrap;\n",
              "      gap: 12px;\n",
              "    }\n",
              "\n",
              "    .colab-df-convert {\n",
              "      background-color: #E8F0FE;\n",
              "      border: none;\n",
              "      border-radius: 50%;\n",
              "      cursor: pointer;\n",
              "      display: none;\n",
              "      fill: #1967D2;\n",
              "      height: 32px;\n",
              "      padding: 0 0 0 0;\n",
              "      width: 32px;\n",
              "    }\n",
              "\n",
              "    .colab-df-convert:hover {\n",
              "      background-color: #E2EBFA;\n",
              "      box-shadow: 0px 1px 2px rgba(60, 64, 67, 0.3), 0px 1px 3px 1px rgba(60, 64, 67, 0.15);\n",
              "      fill: #174EA6;\n",
              "    }\n",
              "\n",
              "    [theme=dark] .colab-df-convert {\n",
              "      background-color: #3B4455;\n",
              "      fill: #D2E3FC;\n",
              "    }\n",
              "\n",
              "    [theme=dark] .colab-df-convert:hover {\n",
              "      background-color: #434B5C;\n",
              "      box-shadow: 0px 1px 3px 1px rgba(0, 0, 0, 0.15);\n",
              "      filter: drop-shadow(0px 1px 2px rgba(0, 0, 0, 0.3));\n",
              "      fill: #FFFFFF;\n",
              "    }\n",
              "  </style>\n",
              "\n",
              "      <script>\n",
              "        const buttonEl =\n",
              "          document.querySelector('#df-cc83b1a1-c7e2-4b88-a447-91b137fb5ada button.colab-df-convert');\n",
              "        buttonEl.style.display =\n",
              "          google.colab.kernel.accessAllowed ? 'block' : 'none';\n",
              "\n",
              "        async function convertToInteractive(key) {\n",
              "          const element = document.querySelector('#df-cc83b1a1-c7e2-4b88-a447-91b137fb5ada');\n",
              "          const dataTable =\n",
              "            await google.colab.kernel.invokeFunction('convertToInteractive',\n",
              "                                                     [key], {});\n",
              "          if (!dataTable) return;\n",
              "\n",
              "          const docLinkHtml = 'Like what you see? Visit the ' +\n",
              "            '<a target=\"_blank\" href=https://colab.research.google.com/notebooks/data_table.ipynb>data table notebook</a>'\n",
              "            + ' to learn more about interactive tables.';\n",
              "          element.innerHTML = '';\n",
              "          dataTable['output_type'] = 'display_data';\n",
              "          await google.colab.output.renderOutput(dataTable, element);\n",
              "          const docLink = document.createElement('div');\n",
              "          docLink.innerHTML = docLinkHtml;\n",
              "          element.appendChild(docLink);\n",
              "        }\n",
              "      </script>\n",
              "    </div>\n",
              "  </div>\n",
              "  "
            ],
            "text/plain": [
              "      index         Suburb             Address  Rooms Type Method  \\\n",
              "2687   2687         Albion       76 Forrest St      3    h      S   \n",
              "4703   4703      Thornbury        50b Clyde St      3    h     VB   \n",
              "3264   3264         Balwyn      112 Belmore Rd      5    h     PI   \n",
              "3944   3944      Brunswick    30 Mountfield St      2    h      S   \n",
              "3130   3130        Ivanhoe       19 Belmont Rd      2    h      S   \n",
              "...     ...            ...                 ...    ...  ...    ...   \n",
              "3845   3845  Brighton East      3/127 Dendy St      2    u      S   \n",
              "4030   4030       Oak Park     10 Grevillia Rd      5    h     PI   \n",
              "2428   2428       Carnegie      33 McLaurin Rd      3    h      S   \n",
              "4769   4769    Keilor East          16 Drew St      3    h      S   \n",
              "4391   4391        Prahran  6/299 Dandenong Rd      2    u     SP   \n",
              "\n",
              "            SellerG        Date  Distance Postcode  Bedroom2  Bathroom  \\\n",
              "2687        Douglas  13/05/2017      13.9   3020.0       3.0       1.0   \n",
              "4703         Nelson  24/09/2016       6.5   3071.0       3.0       2.0   \n",
              "3264         Jellis  28/05/2016       9.7   3103.0       5.0       3.0   \n",
              "3944         Jellis  28/08/2016       5.2   3056.0       2.0       1.0   \n",
              "3130      Fletchers  12/08/2017       7.8   3079.0       2.0       1.0   \n",
              "...             ...         ...       ...      ...       ...       ...   \n",
              "3845         Buxton  26/07/2016      10.7   3187.0       2.0       1.0   \n",
              "4030         Nelson  12/11/2016      11.5   3046.0       5.0       2.0   \n",
              "2428  hockingstuart  17/09/2016      11.4   3163.0       3.0       2.0   \n",
              "4769         Nelson   4/03/2017      12.8   3033.0       3.0       1.0   \n",
              "4391  hockingstuart  15/07/2017       4.6   3181.0       2.0       1.0   \n",
              "\n",
              "      Landsize YearBuilt  Lattitude  Longtitude             Regionname  \\\n",
              "2687     697.0       nan  -37.78410   144.81690   Western Metropolitan   \n",
              "4703     297.0    2013.0  -37.76170   145.01170  Northern Metropolitan   \n",
              "3264     715.0    2009.0  -37.80280   145.07680  Southern Metropolitan   \n",
              "3944     182.0       nan  -37.76290   144.96800  Northern Metropolitan   \n",
              "3130    1110.0       nan  -37.76778   145.03312   Eastern Metropolitan   \n",
              "...        ...       ...        ...         ...                    ...   \n",
              "3845      74.0    1960.0  -37.92070   145.00790  Southern Metropolitan   \n",
              "4030     783.0    1950.0  -37.72070   144.92630  Northern Metropolitan   \n",
              "2428     554.0       nan  -37.89340   145.05990  Southern Metropolitan   \n",
              "4769     662.0       nan  -37.73800   144.86900   Western Metropolitan   \n",
              "4391       0.0    1960.0  -37.85924   145.00563  Southern Metropolitan   \n",
              "\n",
              "      Propertycount  Price_log  \n",
              "2687         2185.0  13.458836  \n",
              "4703         8870.0  14.038654  \n",
              "3264         5682.0  14.920767  \n",
              "3944        11918.0  13.885969  \n",
              "3130         5549.0  14.690979  \n",
              "...             ...        ...  \n",
              "3845         6938.0  13.447341  \n",
              "4030         2651.0  13.910821  \n",
              "2428         7822.0  14.166167  \n",
              "4769         5629.0  13.748302  \n",
              "4391         7717.0  13.122363  \n",
              "\n",
              "[4345 rows x 19 columns]"
            ]
          },
          "metadata": {},
          "execution_count": 55
        }
      ],
      "source": [
        "## option 2 : remove those columns\n",
        "cols_wiht_nans = housing.columns[housing.isna().any()].tolist()\n",
        "housing.drop(cols_wiht_nans, axis=1)       # option 2\n"
      ]
    },
    {
      "cell_type": "code",
      "execution_count": null,
      "metadata": {
        "colab": {
          "base_uri": "https://localhost:8080/",
          "height": 409
        },
        "id": "WLlbamj3Mc_k",
        "outputId": "c66f937f-10d7-4765-f320-21f9d5ec2400"
      },
      "outputs": [
        {
          "output_type": "execute_result",
          "data": {
            "text/html": [
              "\n",
              "  <div id=\"df-3ac8084e-83df-450c-a7bd-57b9731da9e6\">\n",
              "    <div class=\"colab-df-container\">\n",
              "      <div>\n",
              "<style scoped>\n",
              "    .dataframe tbody tr th:only-of-type {\n",
              "        vertical-align: middle;\n",
              "    }\n",
              "\n",
              "    .dataframe tbody tr th {\n",
              "        vertical-align: top;\n",
              "    }\n",
              "\n",
              "    .dataframe thead th {\n",
              "        text-align: right;\n",
              "    }\n",
              "</style>\n",
              "<table border=\"1\" class=\"dataframe\">\n",
              "  <thead>\n",
              "    <tr style=\"text-align: right;\">\n",
              "      <th></th>\n",
              "      <th>index</th>\n",
              "      <th>Suburb</th>\n",
              "      <th>Address</th>\n",
              "      <th>Rooms</th>\n",
              "      <th>Type</th>\n",
              "      <th>Method</th>\n",
              "      <th>SellerG</th>\n",
              "      <th>Date</th>\n",
              "      <th>Distance</th>\n",
              "      <th>Postcode</th>\n",
              "      <th>Bedroom2</th>\n",
              "      <th>Bathroom</th>\n",
              "      <th>Car</th>\n",
              "      <th>Landsize</th>\n",
              "      <th>BuildingArea</th>\n",
              "      <th>YearBuilt</th>\n",
              "      <th>CouncilArea</th>\n",
              "      <th>Lattitude</th>\n",
              "      <th>Longtitude</th>\n",
              "      <th>Regionname</th>\n",
              "      <th>Propertycount</th>\n",
              "      <th>Price_log</th>\n",
              "    </tr>\n",
              "  </thead>\n",
              "  <tbody>\n",
              "    <tr>\n",
              "      <th>2687</th>\n",
              "      <td>2687</td>\n",
              "      <td>Albion</td>\n",
              "      <td>76 Forrest St</td>\n",
              "      <td>3</td>\n",
              "      <td>h</td>\n",
              "      <td>S</td>\n",
              "      <td>Douglas</td>\n",
              "      <td>13/05/2017</td>\n",
              "      <td>13.9</td>\n",
              "      <td>3020.0</td>\n",
              "      <td>3.0</td>\n",
              "      <td>1.0</td>\n",
              "      <td>2.0</td>\n",
              "      <td>697.0</td>\n",
              "      <td>125.0</td>\n",
              "      <td>nan</td>\n",
              "      <td>Brimbank</td>\n",
              "      <td>-37.78410</td>\n",
              "      <td>144.81690</td>\n",
              "      <td>Western Metropolitan</td>\n",
              "      <td>2185.0</td>\n",
              "      <td>13.458836</td>\n",
              "    </tr>\n",
              "    <tr>\n",
              "      <th>4703</th>\n",
              "      <td>4703</td>\n",
              "      <td>Thornbury</td>\n",
              "      <td>50b Clyde St</td>\n",
              "      <td>3</td>\n",
              "      <td>h</td>\n",
              "      <td>VB</td>\n",
              "      <td>Nelson</td>\n",
              "      <td>24/09/2016</td>\n",
              "      <td>6.5</td>\n",
              "      <td>3071.0</td>\n",
              "      <td>3.0</td>\n",
              "      <td>2.0</td>\n",
              "      <td>3.0</td>\n",
              "      <td>297.0</td>\n",
              "      <td>234.0</td>\n",
              "      <td>2013.0</td>\n",
              "      <td>Darebin</td>\n",
              "      <td>-37.76170</td>\n",
              "      <td>145.01170</td>\n",
              "      <td>Northern Metropolitan</td>\n",
              "      <td>8870.0</td>\n",
              "      <td>14.038654</td>\n",
              "    </tr>\n",
              "    <tr>\n",
              "      <th>3264</th>\n",
              "      <td>3264</td>\n",
              "      <td>Balwyn</td>\n",
              "      <td>112 Belmore Rd</td>\n",
              "      <td>5</td>\n",
              "      <td>h</td>\n",
              "      <td>PI</td>\n",
              "      <td>Jellis</td>\n",
              "      <td>28/05/2016</td>\n",
              "      <td>9.7</td>\n",
              "      <td>3103.0</td>\n",
              "      <td>5.0</td>\n",
              "      <td>3.0</td>\n",
              "      <td>2.0</td>\n",
              "      <td>715.0</td>\n",
              "      <td>420.0</td>\n",
              "      <td>2009.0</td>\n",
              "      <td>Boroondara</td>\n",
              "      <td>-37.80280</td>\n",
              "      <td>145.07680</td>\n",
              "      <td>Southern Metropolitan</td>\n",
              "      <td>5682.0</td>\n",
              "      <td>14.920767</td>\n",
              "    </tr>\n",
              "    <tr>\n",
              "      <th>3944</th>\n",
              "      <td>3944</td>\n",
              "      <td>Brunswick</td>\n",
              "      <td>30 Mountfield St</td>\n",
              "      <td>2</td>\n",
              "      <td>h</td>\n",
              "      <td>S</td>\n",
              "      <td>Jellis</td>\n",
              "      <td>28/08/2016</td>\n",
              "      <td>5.2</td>\n",
              "      <td>3056.0</td>\n",
              "      <td>2.0</td>\n",
              "      <td>1.0</td>\n",
              "      <td>1.0</td>\n",
              "      <td>182.0</td>\n",
              "      <td>125.0</td>\n",
              "      <td>nan</td>\n",
              "      <td>Moreland</td>\n",
              "      <td>-37.76290</td>\n",
              "      <td>144.96800</td>\n",
              "      <td>Northern Metropolitan</td>\n",
              "      <td>11918.0</td>\n",
              "      <td>13.885969</td>\n",
              "    </tr>\n",
              "    <tr>\n",
              "      <th>3130</th>\n",
              "      <td>3130</td>\n",
              "      <td>Ivanhoe</td>\n",
              "      <td>19 Belmont Rd</td>\n",
              "      <td>2</td>\n",
              "      <td>h</td>\n",
              "      <td>S</td>\n",
              "      <td>Fletchers</td>\n",
              "      <td>12/08/2017</td>\n",
              "      <td>7.8</td>\n",
              "      <td>3079.0</td>\n",
              "      <td>2.0</td>\n",
              "      <td>1.0</td>\n",
              "      <td>0.0</td>\n",
              "      <td>1110.0</td>\n",
              "      <td>125.0</td>\n",
              "      <td>nan</td>\n",
              "      <td>Banyule</td>\n",
              "      <td>-37.76778</td>\n",
              "      <td>145.03312</td>\n",
              "      <td>Eastern Metropolitan</td>\n",
              "      <td>5549.0</td>\n",
              "      <td>14.690979</td>\n",
              "    </tr>\n",
              "  </tbody>\n",
              "</table>\n",
              "</div>\n",
              "      <button class=\"colab-df-convert\" onclick=\"convertToInteractive('df-3ac8084e-83df-450c-a7bd-57b9731da9e6')\"\n",
              "              title=\"Convert this dataframe to an interactive table.\"\n",
              "              style=\"display:none;\">\n",
              "        \n",
              "  <svg xmlns=\"http://www.w3.org/2000/svg\" height=\"24px\"viewBox=\"0 0 24 24\"\n",
              "       width=\"24px\">\n",
              "    <path d=\"M0 0h24v24H0V0z\" fill=\"none\"/>\n",
              "    <path d=\"M18.56 5.44l.94 2.06.94-2.06 2.06-.94-2.06-.94-.94-2.06-.94 2.06-2.06.94zm-11 1L8.5 8.5l.94-2.06 2.06-.94-2.06-.94L8.5 2.5l-.94 2.06-2.06.94zm10 10l.94 2.06.94-2.06 2.06-.94-2.06-.94-.94-2.06-.94 2.06-2.06.94z\"/><path d=\"M17.41 7.96l-1.37-1.37c-.4-.4-.92-.59-1.43-.59-.52 0-1.04.2-1.43.59L10.3 9.45l-7.72 7.72c-.78.78-.78 2.05 0 2.83L4 21.41c.39.39.9.59 1.41.59.51 0 1.02-.2 1.41-.59l7.78-7.78 2.81-2.81c.8-.78.8-2.07 0-2.86zM5.41 20L4 18.59l7.72-7.72 1.47 1.35L5.41 20z\"/>\n",
              "  </svg>\n",
              "      </button>\n",
              "      \n",
              "  <style>\n",
              "    .colab-df-container {\n",
              "      display:flex;\n",
              "      flex-wrap:wrap;\n",
              "      gap: 12px;\n",
              "    }\n",
              "\n",
              "    .colab-df-convert {\n",
              "      background-color: #E8F0FE;\n",
              "      border: none;\n",
              "      border-radius: 50%;\n",
              "      cursor: pointer;\n",
              "      display: none;\n",
              "      fill: #1967D2;\n",
              "      height: 32px;\n",
              "      padding: 0 0 0 0;\n",
              "      width: 32px;\n",
              "    }\n",
              "\n",
              "    .colab-df-convert:hover {\n",
              "      background-color: #E2EBFA;\n",
              "      box-shadow: 0px 1px 2px rgba(60, 64, 67, 0.3), 0px 1px 3px 1px rgba(60, 64, 67, 0.15);\n",
              "      fill: #174EA6;\n",
              "    }\n",
              "\n",
              "    [theme=dark] .colab-df-convert {\n",
              "      background-color: #3B4455;\n",
              "      fill: #D2E3FC;\n",
              "    }\n",
              "\n",
              "    [theme=dark] .colab-df-convert:hover {\n",
              "      background-color: #434B5C;\n",
              "      box-shadow: 0px 1px 3px 1px rgba(0, 0, 0, 0.15);\n",
              "      filter: drop-shadow(0px 1px 2px rgba(0, 0, 0, 0.3));\n",
              "      fill: #FFFFFF;\n",
              "    }\n",
              "  </style>\n",
              "\n",
              "      <script>\n",
              "        const buttonEl =\n",
              "          document.querySelector('#df-3ac8084e-83df-450c-a7bd-57b9731da9e6 button.colab-df-convert');\n",
              "        buttonEl.style.display =\n",
              "          google.colab.kernel.accessAllowed ? 'block' : 'none';\n",
              "\n",
              "        async function convertToInteractive(key) {\n",
              "          const element = document.querySelector('#df-3ac8084e-83df-450c-a7bd-57b9731da9e6');\n",
              "          const dataTable =\n",
              "            await google.colab.kernel.invokeFunction('convertToInteractive',\n",
              "                                                     [key], {});\n",
              "          if (!dataTable) return;\n",
              "\n",
              "          const docLinkHtml = 'Like what you see? Visit the ' +\n",
              "            '<a target=\"_blank\" href=https://colab.research.google.com/notebooks/data_table.ipynb>data table notebook</a>'\n",
              "            + ' to learn more about interactive tables.';\n",
              "          element.innerHTML = '';\n",
              "          dataTable['output_type'] = 'display_data';\n",
              "          await google.colab.output.renderOutput(dataTable, element);\n",
              "          const docLink = document.createElement('div');\n",
              "          docLink.innerHTML = docLinkHtml;\n",
              "          element.appendChild(docLink);\n",
              "        }\n",
              "      </script>\n",
              "    </div>\n",
              "  </div>\n",
              "  "
            ],
            "text/plain": [
              "      index     Suburb           Address  Rooms Type Method    SellerG  \\\n",
              "2687   2687     Albion     76 Forrest St      3    h      S    Douglas   \n",
              "4703   4703  Thornbury      50b Clyde St      3    h     VB     Nelson   \n",
              "3264   3264     Balwyn    112 Belmore Rd      5    h     PI     Jellis   \n",
              "3944   3944  Brunswick  30 Mountfield St      2    h      S     Jellis   \n",
              "3130   3130    Ivanhoe     19 Belmont Rd      2    h      S  Fletchers   \n",
              "\n",
              "            Date  Distance Postcode  Bedroom2  Bathroom  Car  Landsize  \\\n",
              "2687  13/05/2017      13.9   3020.0       3.0       1.0  2.0     697.0   \n",
              "4703  24/09/2016       6.5   3071.0       3.0       2.0  3.0     297.0   \n",
              "3264  28/05/2016       9.7   3103.0       5.0       3.0  2.0     715.0   \n",
              "3944  28/08/2016       5.2   3056.0       2.0       1.0  1.0     182.0   \n",
              "3130  12/08/2017       7.8   3079.0       2.0       1.0  0.0    1110.0   \n",
              "\n",
              "      BuildingArea YearBuilt CouncilArea  Lattitude  Longtitude  \\\n",
              "2687         125.0       nan    Brimbank  -37.78410   144.81690   \n",
              "4703         234.0    2013.0     Darebin  -37.76170   145.01170   \n",
              "3264         420.0    2009.0  Boroondara  -37.80280   145.07680   \n",
              "3944         125.0       nan    Moreland  -37.76290   144.96800   \n",
              "3130         125.0       nan     Banyule  -37.76778   145.03312   \n",
              "\n",
              "                 Regionname  Propertycount  Price_log  \n",
              "2687   Western Metropolitan         2185.0  13.458836  \n",
              "4703  Northern Metropolitan         8870.0  14.038654  \n",
              "3264  Southern Metropolitan         5682.0  14.920767  \n",
              "3944  Northern Metropolitan        11918.0  13.885969  \n",
              "3130   Eastern Metropolitan         5549.0  14.690979  "
            ]
          },
          "metadata": {},
          "execution_count": 56
        }
      ],
      "source": [
        "## option 3 : Set values to some values\n",
        "median = housing[\"BuildingArea\"].median()\n",
        "housing[\"BuildingArea\"].fillna(median, inplace=True) \n",
        "housing.head()"
      ]
    },
    {
      "cell_type": "code",
      "execution_count": null,
      "metadata": {
        "colab": {
          "base_uri": "https://localhost:8080/",
          "height": 409
        },
        "id": "tYlkUzyrMc_k",
        "outputId": "c43af592-e294-485e-f987-68a5f4d52ef5"
      },
      "outputs": [
        {
          "output_type": "execute_result",
          "data": {
            "text/html": [
              "\n",
              "  <div id=\"df-4bae1082-e649-4d49-8b4e-667894a141b6\">\n",
              "    <div class=\"colab-df-container\">\n",
              "      <div>\n",
              "<style scoped>\n",
              "    .dataframe tbody tr th:only-of-type {\n",
              "        vertical-align: middle;\n",
              "    }\n",
              "\n",
              "    .dataframe tbody tr th {\n",
              "        vertical-align: top;\n",
              "    }\n",
              "\n",
              "    .dataframe thead th {\n",
              "        text-align: right;\n",
              "    }\n",
              "</style>\n",
              "<table border=\"1\" class=\"dataframe\">\n",
              "  <thead>\n",
              "    <tr style=\"text-align: right;\">\n",
              "      <th></th>\n",
              "      <th>index</th>\n",
              "      <th>Suburb</th>\n",
              "      <th>Address</th>\n",
              "      <th>Rooms</th>\n",
              "      <th>Type</th>\n",
              "      <th>Method</th>\n",
              "      <th>SellerG</th>\n",
              "      <th>Date</th>\n",
              "      <th>Distance</th>\n",
              "      <th>Postcode</th>\n",
              "      <th>Bedroom2</th>\n",
              "      <th>Bathroom</th>\n",
              "      <th>Car</th>\n",
              "      <th>Landsize</th>\n",
              "      <th>BuildingArea</th>\n",
              "      <th>YearBuilt</th>\n",
              "      <th>CouncilArea</th>\n",
              "      <th>Lattitude</th>\n",
              "      <th>Longtitude</th>\n",
              "      <th>Regionname</th>\n",
              "      <th>Propertycount</th>\n",
              "      <th>Price_log</th>\n",
              "    </tr>\n",
              "  </thead>\n",
              "  <tbody>\n",
              "    <tr>\n",
              "      <th>2687</th>\n",
              "      <td>2687</td>\n",
              "      <td>Albion</td>\n",
              "      <td>76 Forrest St</td>\n",
              "      <td>3</td>\n",
              "      <td>h</td>\n",
              "      <td>S</td>\n",
              "      <td>Douglas</td>\n",
              "      <td>13/05/2017</td>\n",
              "      <td>13.9</td>\n",
              "      <td>3020.0</td>\n",
              "      <td>3.0</td>\n",
              "      <td>1.0</td>\n",
              "      <td>2.0</td>\n",
              "      <td>697.0</td>\n",
              "      <td>125.0</td>\n",
              "      <td>nan</td>\n",
              "      <td>Brimbank</td>\n",
              "      <td>-37.78410</td>\n",
              "      <td>144.81690</td>\n",
              "      <td>Western Metropolitan</td>\n",
              "      <td>2185.0</td>\n",
              "      <td>13.458836</td>\n",
              "    </tr>\n",
              "    <tr>\n",
              "      <th>4703</th>\n",
              "      <td>4703</td>\n",
              "      <td>Thornbury</td>\n",
              "      <td>50b Clyde St</td>\n",
              "      <td>3</td>\n",
              "      <td>h</td>\n",
              "      <td>VB</td>\n",
              "      <td>Nelson</td>\n",
              "      <td>24/09/2016</td>\n",
              "      <td>6.5</td>\n",
              "      <td>3071.0</td>\n",
              "      <td>3.0</td>\n",
              "      <td>2.0</td>\n",
              "      <td>3.0</td>\n",
              "      <td>297.0</td>\n",
              "      <td>234.0</td>\n",
              "      <td>2013.0</td>\n",
              "      <td>Darebin</td>\n",
              "      <td>-37.76170</td>\n",
              "      <td>145.01170</td>\n",
              "      <td>Northern Metropolitan</td>\n",
              "      <td>8870.0</td>\n",
              "      <td>14.038654</td>\n",
              "    </tr>\n",
              "    <tr>\n",
              "      <th>3264</th>\n",
              "      <td>3264</td>\n",
              "      <td>Balwyn</td>\n",
              "      <td>112 Belmore Rd</td>\n",
              "      <td>5</td>\n",
              "      <td>h</td>\n",
              "      <td>PI</td>\n",
              "      <td>Jellis</td>\n",
              "      <td>28/05/2016</td>\n",
              "      <td>9.7</td>\n",
              "      <td>3103.0</td>\n",
              "      <td>5.0</td>\n",
              "      <td>3.0</td>\n",
              "      <td>2.0</td>\n",
              "      <td>715.0</td>\n",
              "      <td>420.0</td>\n",
              "      <td>2009.0</td>\n",
              "      <td>Boroondara</td>\n",
              "      <td>-37.80280</td>\n",
              "      <td>145.07680</td>\n",
              "      <td>Southern Metropolitan</td>\n",
              "      <td>5682.0</td>\n",
              "      <td>14.920767</td>\n",
              "    </tr>\n",
              "    <tr>\n",
              "      <th>3944</th>\n",
              "      <td>3944</td>\n",
              "      <td>Brunswick</td>\n",
              "      <td>30 Mountfield St</td>\n",
              "      <td>2</td>\n",
              "      <td>h</td>\n",
              "      <td>S</td>\n",
              "      <td>Jellis</td>\n",
              "      <td>28/08/2016</td>\n",
              "      <td>5.2</td>\n",
              "      <td>3056.0</td>\n",
              "      <td>2.0</td>\n",
              "      <td>1.0</td>\n",
              "      <td>1.0</td>\n",
              "      <td>182.0</td>\n",
              "      <td>125.0</td>\n",
              "      <td>nan</td>\n",
              "      <td>Moreland</td>\n",
              "      <td>-37.76290</td>\n",
              "      <td>144.96800</td>\n",
              "      <td>Northern Metropolitan</td>\n",
              "      <td>11918.0</td>\n",
              "      <td>13.885969</td>\n",
              "    </tr>\n",
              "    <tr>\n",
              "      <th>3130</th>\n",
              "      <td>3130</td>\n",
              "      <td>Ivanhoe</td>\n",
              "      <td>19 Belmont Rd</td>\n",
              "      <td>2</td>\n",
              "      <td>h</td>\n",
              "      <td>S</td>\n",
              "      <td>Fletchers</td>\n",
              "      <td>12/08/2017</td>\n",
              "      <td>7.8</td>\n",
              "      <td>3079.0</td>\n",
              "      <td>2.0</td>\n",
              "      <td>1.0</td>\n",
              "      <td>0.0</td>\n",
              "      <td>1110.0</td>\n",
              "      <td>125.0</td>\n",
              "      <td>nan</td>\n",
              "      <td>Banyule</td>\n",
              "      <td>-37.76778</td>\n",
              "      <td>145.03312</td>\n",
              "      <td>Eastern Metropolitan</td>\n",
              "      <td>5549.0</td>\n",
              "      <td>14.690979</td>\n",
              "    </tr>\n",
              "  </tbody>\n",
              "</table>\n",
              "</div>\n",
              "      <button class=\"colab-df-convert\" onclick=\"convertToInteractive('df-4bae1082-e649-4d49-8b4e-667894a141b6')\"\n",
              "              title=\"Convert this dataframe to an interactive table.\"\n",
              "              style=\"display:none;\">\n",
              "        \n",
              "  <svg xmlns=\"http://www.w3.org/2000/svg\" height=\"24px\"viewBox=\"0 0 24 24\"\n",
              "       width=\"24px\">\n",
              "    <path d=\"M0 0h24v24H0V0z\" fill=\"none\"/>\n",
              "    <path d=\"M18.56 5.44l.94 2.06.94-2.06 2.06-.94-2.06-.94-.94-2.06-.94 2.06-2.06.94zm-11 1L8.5 8.5l.94-2.06 2.06-.94-2.06-.94L8.5 2.5l-.94 2.06-2.06.94zm10 10l.94 2.06.94-2.06 2.06-.94-2.06-.94-.94-2.06-.94 2.06-2.06.94z\"/><path d=\"M17.41 7.96l-1.37-1.37c-.4-.4-.92-.59-1.43-.59-.52 0-1.04.2-1.43.59L10.3 9.45l-7.72 7.72c-.78.78-.78 2.05 0 2.83L4 21.41c.39.39.9.59 1.41.59.51 0 1.02-.2 1.41-.59l7.78-7.78 2.81-2.81c.8-.78.8-2.07 0-2.86zM5.41 20L4 18.59l7.72-7.72 1.47 1.35L5.41 20z\"/>\n",
              "  </svg>\n",
              "      </button>\n",
              "      \n",
              "  <style>\n",
              "    .colab-df-container {\n",
              "      display:flex;\n",
              "      flex-wrap:wrap;\n",
              "      gap: 12px;\n",
              "    }\n",
              "\n",
              "    .colab-df-convert {\n",
              "      background-color: #E8F0FE;\n",
              "      border: none;\n",
              "      border-radius: 50%;\n",
              "      cursor: pointer;\n",
              "      display: none;\n",
              "      fill: #1967D2;\n",
              "      height: 32px;\n",
              "      padding: 0 0 0 0;\n",
              "      width: 32px;\n",
              "    }\n",
              "\n",
              "    .colab-df-convert:hover {\n",
              "      background-color: #E2EBFA;\n",
              "      box-shadow: 0px 1px 2px rgba(60, 64, 67, 0.3), 0px 1px 3px 1px rgba(60, 64, 67, 0.15);\n",
              "      fill: #174EA6;\n",
              "    }\n",
              "\n",
              "    [theme=dark] .colab-df-convert {\n",
              "      background-color: #3B4455;\n",
              "      fill: #D2E3FC;\n",
              "    }\n",
              "\n",
              "    [theme=dark] .colab-df-convert:hover {\n",
              "      background-color: #434B5C;\n",
              "      box-shadow: 0px 1px 3px 1px rgba(0, 0, 0, 0.15);\n",
              "      filter: drop-shadow(0px 1px 2px rgba(0, 0, 0, 0.3));\n",
              "      fill: #FFFFFF;\n",
              "    }\n",
              "  </style>\n",
              "\n",
              "      <script>\n",
              "        const buttonEl =\n",
              "          document.querySelector('#df-4bae1082-e649-4d49-8b4e-667894a141b6 button.colab-df-convert');\n",
              "        buttonEl.style.display =\n",
              "          google.colab.kernel.accessAllowed ? 'block' : 'none';\n",
              "\n",
              "        async function convertToInteractive(key) {\n",
              "          const element = document.querySelector('#df-4bae1082-e649-4d49-8b4e-667894a141b6');\n",
              "          const dataTable =\n",
              "            await google.colab.kernel.invokeFunction('convertToInteractive',\n",
              "                                                     [key], {});\n",
              "          if (!dataTable) return;\n",
              "\n",
              "          const docLinkHtml = 'Like what you see? Visit the ' +\n",
              "            '<a target=\"_blank\" href=https://colab.research.google.com/notebooks/data_table.ipynb>data table notebook</a>'\n",
              "            + ' to learn more about interactive tables.';\n",
              "          element.innerHTML = '';\n",
              "          dataTable['output_type'] = 'display_data';\n",
              "          await google.colab.output.renderOutput(dataTable, element);\n",
              "          const docLink = document.createElement('div');\n",
              "          docLink.innerHTML = docLinkHtml;\n",
              "          element.appendChild(docLink);\n",
              "        }\n",
              "      </script>\n",
              "    </div>\n",
              "  </div>\n",
              "  "
            ],
            "text/plain": [
              "      index     Suburb           Address  Rooms Type Method    SellerG  \\\n",
              "2687   2687     Albion     76 Forrest St      3    h      S    Douglas   \n",
              "4703   4703  Thornbury      50b Clyde St      3    h     VB     Nelson   \n",
              "3264   3264     Balwyn    112 Belmore Rd      5    h     PI     Jellis   \n",
              "3944   3944  Brunswick  30 Mountfield St      2    h      S     Jellis   \n",
              "3130   3130    Ivanhoe     19 Belmont Rd      2    h      S  Fletchers   \n",
              "\n",
              "            Date  Distance Postcode  Bedroom2  Bathroom  Car  Landsize  \\\n",
              "2687  13/05/2017      13.9   3020.0       3.0       1.0  2.0     697.0   \n",
              "4703  24/09/2016       6.5   3071.0       3.0       2.0  3.0     297.0   \n",
              "3264  28/05/2016       9.7   3103.0       5.0       3.0  2.0     715.0   \n",
              "3944  28/08/2016       5.2   3056.0       2.0       1.0  1.0     182.0   \n",
              "3130  12/08/2017       7.8   3079.0       2.0       1.0  0.0    1110.0   \n",
              "\n",
              "      BuildingArea YearBuilt CouncilArea  Lattitude  Longtitude  \\\n",
              "2687         125.0       nan    Brimbank  -37.78410   144.81690   \n",
              "4703         234.0    2013.0     Darebin  -37.76170   145.01170   \n",
              "3264         420.0    2009.0  Boroondara  -37.80280   145.07680   \n",
              "3944         125.0       nan    Moreland  -37.76290   144.96800   \n",
              "3130         125.0       nan     Banyule  -37.76778   145.03312   \n",
              "\n",
              "                 Regionname  Propertycount  Price_log  \n",
              "2687   Western Metropolitan         2185.0  13.458836  \n",
              "4703  Northern Metropolitan         8870.0  14.038654  \n",
              "3264  Southern Metropolitan         5682.0  14.920767  \n",
              "3944  Northern Metropolitan        11918.0  13.885969  \n",
              "3130   Eastern Metropolitan         5549.0  14.690979  "
            ]
          },
          "metadata": {},
          "execution_count": 57
        }
      ],
      "source": [
        "median = housing[\"YearBuilt\"].median()\n",
        "housing[\"YearBuilt\"].fillna(median, inplace=True) \n",
        "housing.head()"
      ]
    },
    {
      "cell_type": "code",
      "execution_count": null,
      "metadata": {
        "id": "MXyspxjGMc_k"
      },
      "outputs": [],
      "source": [
        "from sklearn.impute import SimpleImputer\n",
        "imputer = SimpleImputer(strategy=\"median\")"
      ]
    },
    {
      "cell_type": "markdown",
      "metadata": {
        "id": "cOv83Y7IMc_k"
      },
      "source": [
        "Remove the text attribute because median can only be calculated on numerical attributes:"
      ]
    },
    {
      "cell_type": "code",
      "execution_count": null,
      "metadata": {
        "id": "sYXkdz2bMc_k"
      },
      "outputs": [],
      "source": [
        "housing_num = housing.select_dtypes(include=[np.number])"
      ]
    },
    {
      "cell_type": "code",
      "execution_count": null,
      "metadata": {
        "colab": {
          "base_uri": "https://localhost:8080/"
        },
        "id": "CD2kXDqeMc_k",
        "outputId": "0142ed16-43d3-42cc-b14e-0b57cc6fb780"
      },
      "outputs": [
        {
          "output_type": "execute_result",
          "data": {
            "text/plain": [
              "array([ 2.670000e+03,  3.000000e+00,  9.200000e+00,  3.000000e+00,\n",
              "        1.000000e+00,  2.000000e+00,  4.500000e+02,  1.250000e+02,\n",
              "       -3.780390e+01,  1.450006e+02,  6.543000e+03,  1.371015e+01])"
            ]
          },
          "metadata": {},
          "execution_count": 60
        }
      ],
      "source": [
        "imputer.fit(housing_num)\n",
        "imputer.statistics_"
      ]
    },
    {
      "cell_type": "markdown",
      "metadata": {
        "id": "7RJarYr-Mc_k"
      },
      "source": [
        "Check that this is the same as manually computing the median of each attribute:"
      ]
    },
    {
      "cell_type": "code",
      "execution_count": null,
      "metadata": {
        "colab": {
          "base_uri": "https://localhost:8080/"
        },
        "id": "Q13RrWqyMc_k",
        "outputId": "098067ad-087b-4c8f-9351-c9c397f485ea"
      },
      "outputs": [
        {
          "output_type": "execute_result",
          "data": {
            "text/plain": [
              "array([ 2.670000e+03,  3.000000e+00,  9.200000e+00,  3.000000e+00,\n",
              "        1.000000e+00,  2.000000e+00,  4.500000e+02,  1.250000e+02,\n",
              "       -3.780390e+01,  1.450006e+02,  6.543000e+03,  1.371015e+01])"
            ]
          },
          "metadata": {},
          "execution_count": 61
        }
      ],
      "source": [
        "housing_num.median().values"
      ]
    },
    {
      "cell_type": "markdown",
      "metadata": {
        "id": "WclQ6gyYMc_k"
      },
      "source": [
        "Transform the training set:\n",
        "\n"
      ]
    },
    {
      "cell_type": "code",
      "execution_count": null,
      "metadata": {
        "id": "X0HWzo3iMc_k"
      },
      "outputs": [],
      "source": [
        "X = imputer.transform(housing_num)"
      ]
    },
    {
      "cell_type": "code",
      "execution_count": null,
      "metadata": {
        "id": "yksNHmjoMc_k"
      },
      "outputs": [],
      "source": [
        "housing_tr = pd.DataFrame(X, columns=housing_num.columns,\n",
        "                          index=housing.index)"
      ]
    },
    {
      "cell_type": "code",
      "execution_count": null,
      "metadata": {
        "colab": {
          "base_uri": "https://localhost:8080/",
          "height": 487
        },
        "id": "GVrkYX0ZMc_l",
        "outputId": "60629e9e-ca22-4a3e-99e6-05f217e0926d"
      },
      "outputs": [
        {
          "output_type": "execute_result",
          "data": {
            "text/html": [
              "\n",
              "  <div id=\"df-ab571402-a84a-4b0e-b5c3-27f5a7ebd1b8\">\n",
              "    <div class=\"colab-df-container\">\n",
              "      <div>\n",
              "<style scoped>\n",
              "    .dataframe tbody tr th:only-of-type {\n",
              "        vertical-align: middle;\n",
              "    }\n",
              "\n",
              "    .dataframe tbody tr th {\n",
              "        vertical-align: top;\n",
              "    }\n",
              "\n",
              "    .dataframe thead th {\n",
              "        text-align: right;\n",
              "    }\n",
              "</style>\n",
              "<table border=\"1\" class=\"dataframe\">\n",
              "  <thead>\n",
              "    <tr style=\"text-align: right;\">\n",
              "      <th></th>\n",
              "      <th>index</th>\n",
              "      <th>Rooms</th>\n",
              "      <th>Distance</th>\n",
              "      <th>Bedroom2</th>\n",
              "      <th>Bathroom</th>\n",
              "      <th>Car</th>\n",
              "      <th>Landsize</th>\n",
              "      <th>BuildingArea</th>\n",
              "      <th>Lattitude</th>\n",
              "      <th>Longtitude</th>\n",
              "      <th>Propertycount</th>\n",
              "      <th>Price_log</th>\n",
              "    </tr>\n",
              "  </thead>\n",
              "  <tbody>\n",
              "    <tr>\n",
              "      <th>2687</th>\n",
              "      <td>2687.0</td>\n",
              "      <td>3.0</td>\n",
              "      <td>13.9</td>\n",
              "      <td>3.0</td>\n",
              "      <td>1.0</td>\n",
              "      <td>2.0</td>\n",
              "      <td>697.0</td>\n",
              "      <td>125.0</td>\n",
              "      <td>-37.78410</td>\n",
              "      <td>144.81690</td>\n",
              "      <td>2185.0</td>\n",
              "      <td>13.458836</td>\n",
              "    </tr>\n",
              "    <tr>\n",
              "      <th>3944</th>\n",
              "      <td>3944.0</td>\n",
              "      <td>2.0</td>\n",
              "      <td>5.2</td>\n",
              "      <td>2.0</td>\n",
              "      <td>1.0</td>\n",
              "      <td>1.0</td>\n",
              "      <td>182.0</td>\n",
              "      <td>125.0</td>\n",
              "      <td>-37.76290</td>\n",
              "      <td>144.96800</td>\n",
              "      <td>11918.0</td>\n",
              "      <td>13.885969</td>\n",
              "    </tr>\n",
              "    <tr>\n",
              "      <th>3130</th>\n",
              "      <td>3130.0</td>\n",
              "      <td>2.0</td>\n",
              "      <td>7.8</td>\n",
              "      <td>2.0</td>\n",
              "      <td>1.0</td>\n",
              "      <td>0.0</td>\n",
              "      <td>1110.0</td>\n",
              "      <td>125.0</td>\n",
              "      <td>-37.76778</td>\n",
              "      <td>145.03312</td>\n",
              "      <td>5549.0</td>\n",
              "      <td>14.690979</td>\n",
              "    </tr>\n",
              "    <tr>\n",
              "      <th>2297</th>\n",
              "      <td>2297.0</td>\n",
              "      <td>2.0</td>\n",
              "      <td>6.5</td>\n",
              "      <td>3.0</td>\n",
              "      <td>1.0</td>\n",
              "      <td>2.0</td>\n",
              "      <td>467.0</td>\n",
              "      <td>125.0</td>\n",
              "      <td>-37.76060</td>\n",
              "      <td>145.02410</td>\n",
              "      <td>8870.0</td>\n",
              "      <td>13.514405</td>\n",
              "    </tr>\n",
              "    <tr>\n",
              "      <th>354</th>\n",
              "      <td>354.0</td>\n",
              "      <td>4.0</td>\n",
              "      <td>31.7</td>\n",
              "      <td>4.0</td>\n",
              "      <td>2.0</td>\n",
              "      <td>2.0</td>\n",
              "      <td>693.0</td>\n",
              "      <td>174.0</td>\n",
              "      <td>-37.57029</td>\n",
              "      <td>144.71163</td>\n",
              "      <td>14092.0</td>\n",
              "      <td>13.253392</td>\n",
              "    </tr>\n",
              "    <tr>\n",
              "      <th>...</th>\n",
              "      <td>...</td>\n",
              "      <td>...</td>\n",
              "      <td>...</td>\n",
              "      <td>...</td>\n",
              "      <td>...</td>\n",
              "      <td>...</td>\n",
              "      <td>...</td>\n",
              "      <td>...</td>\n",
              "      <td>...</td>\n",
              "      <td>...</td>\n",
              "      <td>...</td>\n",
              "      <td>...</td>\n",
              "    </tr>\n",
              "    <tr>\n",
              "      <th>2074</th>\n",
              "      <td>2074.0</td>\n",
              "      <td>3.0</td>\n",
              "      <td>14.5</td>\n",
              "      <td>3.0</td>\n",
              "      <td>1.0</td>\n",
              "      <td>1.0</td>\n",
              "      <td>538.0</td>\n",
              "      <td>125.0</td>\n",
              "      <td>-37.70178</td>\n",
              "      <td>145.08510</td>\n",
              "      <td>1442.0</td>\n",
              "      <td>13.465953</td>\n",
              "    </tr>\n",
              "    <tr>\n",
              "      <th>1199</th>\n",
              "      <td>1199.0</td>\n",
              "      <td>2.0</td>\n",
              "      <td>19.6</td>\n",
              "      <td>2.0</td>\n",
              "      <td>2.0</td>\n",
              "      <td>1.0</td>\n",
              "      <td>149.0</td>\n",
              "      <td>125.0</td>\n",
              "      <td>-37.63110</td>\n",
              "      <td>145.02320</td>\n",
              "      <td>10926.0</td>\n",
              "      <td>12.902963</td>\n",
              "    </tr>\n",
              "    <tr>\n",
              "      <th>3641</th>\n",
              "      <td>3641.0</td>\n",
              "      <td>3.0</td>\n",
              "      <td>13.9</td>\n",
              "      <td>3.0</td>\n",
              "      <td>2.0</td>\n",
              "      <td>1.0</td>\n",
              "      <td>300.0</td>\n",
              "      <td>125.0</td>\n",
              "      <td>-37.91890</td>\n",
              "      <td>145.05840</td>\n",
              "      <td>10969.0</td>\n",
              "      <td>13.576619</td>\n",
              "    </tr>\n",
              "    <tr>\n",
              "      <th>2428</th>\n",
              "      <td>2428.0</td>\n",
              "      <td>3.0</td>\n",
              "      <td>11.4</td>\n",
              "      <td>3.0</td>\n",
              "      <td>2.0</td>\n",
              "      <td>2.0</td>\n",
              "      <td>554.0</td>\n",
              "      <td>125.0</td>\n",
              "      <td>-37.89340</td>\n",
              "      <td>145.05990</td>\n",
              "      <td>7822.0</td>\n",
              "      <td>14.166167</td>\n",
              "    </tr>\n",
              "    <tr>\n",
              "      <th>4769</th>\n",
              "      <td>4769.0</td>\n",
              "      <td>3.0</td>\n",
              "      <td>12.8</td>\n",
              "      <td>3.0</td>\n",
              "      <td>1.0</td>\n",
              "      <td>2.0</td>\n",
              "      <td>662.0</td>\n",
              "      <td>125.0</td>\n",
              "      <td>-37.73800</td>\n",
              "      <td>144.86900</td>\n",
              "      <td>5629.0</td>\n",
              "      <td>13.748302</td>\n",
              "    </tr>\n",
              "  </tbody>\n",
              "</table>\n",
              "<p>2272 rows × 12 columns</p>\n",
              "</div>\n",
              "      <button class=\"colab-df-convert\" onclick=\"convertToInteractive('df-ab571402-a84a-4b0e-b5c3-27f5a7ebd1b8')\"\n",
              "              title=\"Convert this dataframe to an interactive table.\"\n",
              "              style=\"display:none;\">\n",
              "        \n",
              "  <svg xmlns=\"http://www.w3.org/2000/svg\" height=\"24px\"viewBox=\"0 0 24 24\"\n",
              "       width=\"24px\">\n",
              "    <path d=\"M0 0h24v24H0V0z\" fill=\"none\"/>\n",
              "    <path d=\"M18.56 5.44l.94 2.06.94-2.06 2.06-.94-2.06-.94-.94-2.06-.94 2.06-2.06.94zm-11 1L8.5 8.5l.94-2.06 2.06-.94-2.06-.94L8.5 2.5l-.94 2.06-2.06.94zm10 10l.94 2.06.94-2.06 2.06-.94-2.06-.94-.94-2.06-.94 2.06-2.06.94z\"/><path d=\"M17.41 7.96l-1.37-1.37c-.4-.4-.92-.59-1.43-.59-.52 0-1.04.2-1.43.59L10.3 9.45l-7.72 7.72c-.78.78-.78 2.05 0 2.83L4 21.41c.39.39.9.59 1.41.59.51 0 1.02-.2 1.41-.59l7.78-7.78 2.81-2.81c.8-.78.8-2.07 0-2.86zM5.41 20L4 18.59l7.72-7.72 1.47 1.35L5.41 20z\"/>\n",
              "  </svg>\n",
              "      </button>\n",
              "      \n",
              "  <style>\n",
              "    .colab-df-container {\n",
              "      display:flex;\n",
              "      flex-wrap:wrap;\n",
              "      gap: 12px;\n",
              "    }\n",
              "\n",
              "    .colab-df-convert {\n",
              "      background-color: #E8F0FE;\n",
              "      border: none;\n",
              "      border-radius: 50%;\n",
              "      cursor: pointer;\n",
              "      display: none;\n",
              "      fill: #1967D2;\n",
              "      height: 32px;\n",
              "      padding: 0 0 0 0;\n",
              "      width: 32px;\n",
              "    }\n",
              "\n",
              "    .colab-df-convert:hover {\n",
              "      background-color: #E2EBFA;\n",
              "      box-shadow: 0px 1px 2px rgba(60, 64, 67, 0.3), 0px 1px 3px 1px rgba(60, 64, 67, 0.15);\n",
              "      fill: #174EA6;\n",
              "    }\n",
              "\n",
              "    [theme=dark] .colab-df-convert {\n",
              "      background-color: #3B4455;\n",
              "      fill: #D2E3FC;\n",
              "    }\n",
              "\n",
              "    [theme=dark] .colab-df-convert:hover {\n",
              "      background-color: #434B5C;\n",
              "      box-shadow: 0px 1px 3px 1px rgba(0, 0, 0, 0.15);\n",
              "      filter: drop-shadow(0px 1px 2px rgba(0, 0, 0, 0.3));\n",
              "      fill: #FFFFFF;\n",
              "    }\n",
              "  </style>\n",
              "\n",
              "      <script>\n",
              "        const buttonEl =\n",
              "          document.querySelector('#df-ab571402-a84a-4b0e-b5c3-27f5a7ebd1b8 button.colab-df-convert');\n",
              "        buttonEl.style.display =\n",
              "          google.colab.kernel.accessAllowed ? 'block' : 'none';\n",
              "\n",
              "        async function convertToInteractive(key) {\n",
              "          const element = document.querySelector('#df-ab571402-a84a-4b0e-b5c3-27f5a7ebd1b8');\n",
              "          const dataTable =\n",
              "            await google.colab.kernel.invokeFunction('convertToInteractive',\n",
              "                                                     [key], {});\n",
              "          if (!dataTable) return;\n",
              "\n",
              "          const docLinkHtml = 'Like what you see? Visit the ' +\n",
              "            '<a target=\"_blank\" href=https://colab.research.google.com/notebooks/data_table.ipynb>data table notebook</a>'\n",
              "            + ' to learn more about interactive tables.';\n",
              "          element.innerHTML = '';\n",
              "          dataTable['output_type'] = 'display_data';\n",
              "          await google.colab.output.renderOutput(dataTable, element);\n",
              "          const docLink = document.createElement('div');\n",
              "          docLink.innerHTML = docLinkHtml;\n",
              "          element.appendChild(docLink);\n",
              "        }\n",
              "      </script>\n",
              "    </div>\n",
              "  </div>\n",
              "  "
            ],
            "text/plain": [
              "       index  Rooms  Distance  Bedroom2  Bathroom  Car  Landsize  \\\n",
              "2687  2687.0    3.0      13.9       3.0       1.0  2.0     697.0   \n",
              "3944  3944.0    2.0       5.2       2.0       1.0  1.0     182.0   \n",
              "3130  3130.0    2.0       7.8       2.0       1.0  0.0    1110.0   \n",
              "2297  2297.0    2.0       6.5       3.0       1.0  2.0     467.0   \n",
              "354    354.0    4.0      31.7       4.0       2.0  2.0     693.0   \n",
              "...      ...    ...       ...       ...       ...  ...       ...   \n",
              "2074  2074.0    3.0      14.5       3.0       1.0  1.0     538.0   \n",
              "1199  1199.0    2.0      19.6       2.0       2.0  1.0     149.0   \n",
              "3641  3641.0    3.0      13.9       3.0       2.0  1.0     300.0   \n",
              "2428  2428.0    3.0      11.4       3.0       2.0  2.0     554.0   \n",
              "4769  4769.0    3.0      12.8       3.0       1.0  2.0     662.0   \n",
              "\n",
              "      BuildingArea  Lattitude  Longtitude  Propertycount  Price_log  \n",
              "2687         125.0  -37.78410   144.81690         2185.0  13.458836  \n",
              "3944         125.0  -37.76290   144.96800        11918.0  13.885969  \n",
              "3130         125.0  -37.76778   145.03312         5549.0  14.690979  \n",
              "2297         125.0  -37.76060   145.02410         8870.0  13.514405  \n",
              "354          174.0  -37.57029   144.71163        14092.0  13.253392  \n",
              "...            ...        ...         ...            ...        ...  \n",
              "2074         125.0  -37.70178   145.08510         1442.0  13.465953  \n",
              "1199         125.0  -37.63110   145.02320        10926.0  12.902963  \n",
              "3641         125.0  -37.91890   145.05840        10969.0  13.576619  \n",
              "2428         125.0  -37.89340   145.05990         7822.0  14.166167  \n",
              "4769         125.0  -37.73800   144.86900         5629.0  13.748302  \n",
              "\n",
              "[2272 rows x 12 columns]"
            ]
          },
          "metadata": {},
          "execution_count": 64
        }
      ],
      "source": [
        "housing_tr.loc[sample_incomplete_rows.index.values]\n"
      ]
    },
    {
      "cell_type": "code",
      "execution_count": null,
      "metadata": {
        "colab": {
          "base_uri": "https://localhost:8080/",
          "height": 35
        },
        "id": "pYrZkkI5Mc_l",
        "outputId": "44a74f86-9c21-42d7-afec-95cbc80c073b"
      },
      "outputs": [
        {
          "output_type": "execute_result",
          "data": {
            "application/vnd.google.colaboratory.intrinsic+json": {
              "type": "string"
            },
            "text/plain": [
              "'median'"
            ]
          },
          "metadata": {},
          "execution_count": 65
        }
      ],
      "source": [
        "imputer.strategy\n"
      ]
    },
    {
      "cell_type": "code",
      "execution_count": null,
      "metadata": {
        "id": "seYimUwVMc_l"
      },
      "outputs": [],
      "source": [
        "housing_tr = pd.DataFrame(X, columns=housing_num.columns,\n",
        "                          index=housing_num.index)"
      ]
    },
    {
      "cell_type": "code",
      "execution_count": null,
      "metadata": {
        "colab": {
          "base_uri": "https://localhost:8080/",
          "height": 270
        },
        "id": "RDksR458Mc_l",
        "outputId": "f0683d73-f355-4276-ffc6-721279047d8a"
      },
      "outputs": [
        {
          "output_type": "execute_result",
          "data": {
            "text/html": [
              "\n",
              "  <div id=\"df-0b400012-2366-424f-976f-e6bb17e7eeba\">\n",
              "    <div class=\"colab-df-container\">\n",
              "      <div>\n",
              "<style scoped>\n",
              "    .dataframe tbody tr th:only-of-type {\n",
              "        vertical-align: middle;\n",
              "    }\n",
              "\n",
              "    .dataframe tbody tr th {\n",
              "        vertical-align: top;\n",
              "    }\n",
              "\n",
              "    .dataframe thead th {\n",
              "        text-align: right;\n",
              "    }\n",
              "</style>\n",
              "<table border=\"1\" class=\"dataframe\">\n",
              "  <thead>\n",
              "    <tr style=\"text-align: right;\">\n",
              "      <th></th>\n",
              "      <th>index</th>\n",
              "      <th>Rooms</th>\n",
              "      <th>Distance</th>\n",
              "      <th>Bedroom2</th>\n",
              "      <th>Bathroom</th>\n",
              "      <th>Car</th>\n",
              "      <th>Landsize</th>\n",
              "      <th>BuildingArea</th>\n",
              "      <th>Lattitude</th>\n",
              "      <th>Longtitude</th>\n",
              "      <th>Propertycount</th>\n",
              "      <th>Price_log</th>\n",
              "    </tr>\n",
              "  </thead>\n",
              "  <tbody>\n",
              "    <tr>\n",
              "      <th>2687</th>\n",
              "      <td>2687.0</td>\n",
              "      <td>3.0</td>\n",
              "      <td>13.9</td>\n",
              "      <td>3.0</td>\n",
              "      <td>1.0</td>\n",
              "      <td>2.0</td>\n",
              "      <td>697.0</td>\n",
              "      <td>125.0</td>\n",
              "      <td>-37.78410</td>\n",
              "      <td>144.81690</td>\n",
              "      <td>2185.0</td>\n",
              "      <td>13.458836</td>\n",
              "    </tr>\n",
              "    <tr>\n",
              "      <th>4703</th>\n",
              "      <td>4703.0</td>\n",
              "      <td>3.0</td>\n",
              "      <td>6.5</td>\n",
              "      <td>3.0</td>\n",
              "      <td>2.0</td>\n",
              "      <td>3.0</td>\n",
              "      <td>297.0</td>\n",
              "      <td>234.0</td>\n",
              "      <td>-37.76170</td>\n",
              "      <td>145.01170</td>\n",
              "      <td>8870.0</td>\n",
              "      <td>14.038654</td>\n",
              "    </tr>\n",
              "    <tr>\n",
              "      <th>3264</th>\n",
              "      <td>3264.0</td>\n",
              "      <td>5.0</td>\n",
              "      <td>9.7</td>\n",
              "      <td>5.0</td>\n",
              "      <td>3.0</td>\n",
              "      <td>2.0</td>\n",
              "      <td>715.0</td>\n",
              "      <td>420.0</td>\n",
              "      <td>-37.80280</td>\n",
              "      <td>145.07680</td>\n",
              "      <td>5682.0</td>\n",
              "      <td>14.920767</td>\n",
              "    </tr>\n",
              "    <tr>\n",
              "      <th>3944</th>\n",
              "      <td>3944.0</td>\n",
              "      <td>2.0</td>\n",
              "      <td>5.2</td>\n",
              "      <td>2.0</td>\n",
              "      <td>1.0</td>\n",
              "      <td>1.0</td>\n",
              "      <td>182.0</td>\n",
              "      <td>125.0</td>\n",
              "      <td>-37.76290</td>\n",
              "      <td>144.96800</td>\n",
              "      <td>11918.0</td>\n",
              "      <td>13.885969</td>\n",
              "    </tr>\n",
              "    <tr>\n",
              "      <th>3130</th>\n",
              "      <td>3130.0</td>\n",
              "      <td>2.0</td>\n",
              "      <td>7.8</td>\n",
              "      <td>2.0</td>\n",
              "      <td>1.0</td>\n",
              "      <td>0.0</td>\n",
              "      <td>1110.0</td>\n",
              "      <td>125.0</td>\n",
              "      <td>-37.76778</td>\n",
              "      <td>145.03312</td>\n",
              "      <td>5549.0</td>\n",
              "      <td>14.690979</td>\n",
              "    </tr>\n",
              "  </tbody>\n",
              "</table>\n",
              "</div>\n",
              "      <button class=\"colab-df-convert\" onclick=\"convertToInteractive('df-0b400012-2366-424f-976f-e6bb17e7eeba')\"\n",
              "              title=\"Convert this dataframe to an interactive table.\"\n",
              "              style=\"display:none;\">\n",
              "        \n",
              "  <svg xmlns=\"http://www.w3.org/2000/svg\" height=\"24px\"viewBox=\"0 0 24 24\"\n",
              "       width=\"24px\">\n",
              "    <path d=\"M0 0h24v24H0V0z\" fill=\"none\"/>\n",
              "    <path d=\"M18.56 5.44l.94 2.06.94-2.06 2.06-.94-2.06-.94-.94-2.06-.94 2.06-2.06.94zm-11 1L8.5 8.5l.94-2.06 2.06-.94-2.06-.94L8.5 2.5l-.94 2.06-2.06.94zm10 10l.94 2.06.94-2.06 2.06-.94-2.06-.94-.94-2.06-.94 2.06-2.06.94z\"/><path d=\"M17.41 7.96l-1.37-1.37c-.4-.4-.92-.59-1.43-.59-.52 0-1.04.2-1.43.59L10.3 9.45l-7.72 7.72c-.78.78-.78 2.05 0 2.83L4 21.41c.39.39.9.59 1.41.59.51 0 1.02-.2 1.41-.59l7.78-7.78 2.81-2.81c.8-.78.8-2.07 0-2.86zM5.41 20L4 18.59l7.72-7.72 1.47 1.35L5.41 20z\"/>\n",
              "  </svg>\n",
              "      </button>\n",
              "      \n",
              "  <style>\n",
              "    .colab-df-container {\n",
              "      display:flex;\n",
              "      flex-wrap:wrap;\n",
              "      gap: 12px;\n",
              "    }\n",
              "\n",
              "    .colab-df-convert {\n",
              "      background-color: #E8F0FE;\n",
              "      border: none;\n",
              "      border-radius: 50%;\n",
              "      cursor: pointer;\n",
              "      display: none;\n",
              "      fill: #1967D2;\n",
              "      height: 32px;\n",
              "      padding: 0 0 0 0;\n",
              "      width: 32px;\n",
              "    }\n",
              "\n",
              "    .colab-df-convert:hover {\n",
              "      background-color: #E2EBFA;\n",
              "      box-shadow: 0px 1px 2px rgba(60, 64, 67, 0.3), 0px 1px 3px 1px rgba(60, 64, 67, 0.15);\n",
              "      fill: #174EA6;\n",
              "    }\n",
              "\n",
              "    [theme=dark] .colab-df-convert {\n",
              "      background-color: #3B4455;\n",
              "      fill: #D2E3FC;\n",
              "    }\n",
              "\n",
              "    [theme=dark] .colab-df-convert:hover {\n",
              "      background-color: #434B5C;\n",
              "      box-shadow: 0px 1px 3px 1px rgba(0, 0, 0, 0.15);\n",
              "      filter: drop-shadow(0px 1px 2px rgba(0, 0, 0, 0.3));\n",
              "      fill: #FFFFFF;\n",
              "    }\n",
              "  </style>\n",
              "\n",
              "      <script>\n",
              "        const buttonEl =\n",
              "          document.querySelector('#df-0b400012-2366-424f-976f-e6bb17e7eeba button.colab-df-convert');\n",
              "        buttonEl.style.display =\n",
              "          google.colab.kernel.accessAllowed ? 'block' : 'none';\n",
              "\n",
              "        async function convertToInteractive(key) {\n",
              "          const element = document.querySelector('#df-0b400012-2366-424f-976f-e6bb17e7eeba');\n",
              "          const dataTable =\n",
              "            await google.colab.kernel.invokeFunction('convertToInteractive',\n",
              "                                                     [key], {});\n",
              "          if (!dataTable) return;\n",
              "\n",
              "          const docLinkHtml = 'Like what you see? Visit the ' +\n",
              "            '<a target=\"_blank\" href=https://colab.research.google.com/notebooks/data_table.ipynb>data table notebook</a>'\n",
              "            + ' to learn more about interactive tables.';\n",
              "          element.innerHTML = '';\n",
              "          dataTable['output_type'] = 'display_data';\n",
              "          await google.colab.output.renderOutput(dataTable, element);\n",
              "          const docLink = document.createElement('div');\n",
              "          docLink.innerHTML = docLinkHtml;\n",
              "          element.appendChild(docLink);\n",
              "        }\n",
              "      </script>\n",
              "    </div>\n",
              "  </div>\n",
              "  "
            ],
            "text/plain": [
              "       index  Rooms  Distance  Bedroom2  Bathroom  Car  Landsize  \\\n",
              "2687  2687.0    3.0      13.9       3.0       1.0  2.0     697.0   \n",
              "4703  4703.0    3.0       6.5       3.0       2.0  3.0     297.0   \n",
              "3264  3264.0    5.0       9.7       5.0       3.0  2.0     715.0   \n",
              "3944  3944.0    2.0       5.2       2.0       1.0  1.0     182.0   \n",
              "3130  3130.0    2.0       7.8       2.0       1.0  0.0    1110.0   \n",
              "\n",
              "      BuildingArea  Lattitude  Longtitude  Propertycount  Price_log  \n",
              "2687         125.0  -37.78410   144.81690         2185.0  13.458836  \n",
              "4703         234.0  -37.76170   145.01170         8870.0  14.038654  \n",
              "3264         420.0  -37.80280   145.07680         5682.0  14.920767  \n",
              "3944         125.0  -37.76290   144.96800        11918.0  13.885969  \n",
              "3130         125.0  -37.76778   145.03312         5549.0  14.690979  "
            ]
          },
          "metadata": {},
          "execution_count": 67
        }
      ],
      "source": [
        "housing_tr.head()"
      ]
    },
    {
      "cell_type": "markdown",
      "metadata": {
        "id": "RrsYDZqzMc_l"
      },
      "source": [
        "### Categorical data\n",
        "\n",
        "Now let's preprocess the categorical input feature, CouncilArea:"
      ]
    },
    {
      "cell_type": "code",
      "execution_count": null,
      "metadata": {
        "colab": {
          "base_uri": "https://localhost:8080/"
        },
        "id": "-DkVqIebMc_l",
        "outputId": "aed4b493-b758-48a2-88f5-1f6daa68e365"
      },
      "outputs": [
        {
          "output_type": "execute_result",
          "data": {
            "text/html": [
              "\n",
              "  <div id=\"df-e0d702d0-ebaf-4e62-a750-a81687eb61c9\">\n",
              "    <div class=\"colab-df-container\">\n",
              "      <div>\n",
              "<style scoped>\n",
              "    .dataframe tbody tr th:only-of-type {\n",
              "        vertical-align: middle;\n",
              "    }\n",
              "\n",
              "    .dataframe tbody tr th {\n",
              "        vertical-align: top;\n",
              "    }\n",
              "\n",
              "    .dataframe thead th {\n",
              "        text-align: right;\n",
              "    }\n",
              "</style>\n",
              "<table border=\"1\" class=\"dataframe\">\n",
              "  <thead>\n",
              "    <tr style=\"text-align: right;\">\n",
              "      <th></th>\n",
              "      <th>CouncilArea</th>\n",
              "    </tr>\n",
              "  </thead>\n",
              "  <tbody>\n",
              "    <tr>\n",
              "      <th>2687</th>\n",
              "      <td>Brimbank</td>\n",
              "    </tr>\n",
              "    <tr>\n",
              "      <th>4703</th>\n",
              "      <td>Darebin</td>\n",
              "    </tr>\n",
              "    <tr>\n",
              "      <th>3264</th>\n",
              "      <td>Boroondara</td>\n",
              "    </tr>\n",
              "    <tr>\n",
              "      <th>3944</th>\n",
              "      <td>Moreland</td>\n",
              "    </tr>\n",
              "    <tr>\n",
              "      <th>3130</th>\n",
              "      <td>Banyule</td>\n",
              "    </tr>\n",
              "    <tr>\n",
              "      <th>2297</th>\n",
              "      <td>Darebin</td>\n",
              "    </tr>\n",
              "    <tr>\n",
              "      <th>354</th>\n",
              "      <td>Unknown</td>\n",
              "    </tr>\n",
              "    <tr>\n",
              "      <th>4454</th>\n",
              "      <td>Yarra</td>\n",
              "    </tr>\n",
              "    <tr>\n",
              "      <th>4235</th>\n",
              "      <td>Melton</td>\n",
              "    </tr>\n",
              "    <tr>\n",
              "      <th>5019</th>\n",
              "      <td>Unknown</td>\n",
              "    </tr>\n",
              "  </tbody>\n",
              "</table>\n",
              "</div>\n",
              "      <button class=\"colab-df-convert\" onclick=\"convertToInteractive('df-e0d702d0-ebaf-4e62-a750-a81687eb61c9')\"\n",
              "              title=\"Convert this dataframe to an interactive table.\"\n",
              "              style=\"display:none;\">\n",
              "        \n",
              "  <svg xmlns=\"http://www.w3.org/2000/svg\" height=\"24px\"viewBox=\"0 0 24 24\"\n",
              "       width=\"24px\">\n",
              "    <path d=\"M0 0h24v24H0V0z\" fill=\"none\"/>\n",
              "    <path d=\"M18.56 5.44l.94 2.06.94-2.06 2.06-.94-2.06-.94-.94-2.06-.94 2.06-2.06.94zm-11 1L8.5 8.5l.94-2.06 2.06-.94-2.06-.94L8.5 2.5l-.94 2.06-2.06.94zm10 10l.94 2.06.94-2.06 2.06-.94-2.06-.94-.94-2.06-.94 2.06-2.06.94z\"/><path d=\"M17.41 7.96l-1.37-1.37c-.4-.4-.92-.59-1.43-.59-.52 0-1.04.2-1.43.59L10.3 9.45l-7.72 7.72c-.78.78-.78 2.05 0 2.83L4 21.41c.39.39.9.59 1.41.59.51 0 1.02-.2 1.41-.59l7.78-7.78 2.81-2.81c.8-.78.8-2.07 0-2.86zM5.41 20L4 18.59l7.72-7.72 1.47 1.35L5.41 20z\"/>\n",
              "  </svg>\n",
              "      </button>\n",
              "      \n",
              "  <style>\n",
              "    .colab-df-container {\n",
              "      display:flex;\n",
              "      flex-wrap:wrap;\n",
              "      gap: 12px;\n",
              "    }\n",
              "\n",
              "    .colab-df-convert {\n",
              "      background-color: #E8F0FE;\n",
              "      border: none;\n",
              "      border-radius: 50%;\n",
              "      cursor: pointer;\n",
              "      display: none;\n",
              "      fill: #1967D2;\n",
              "      height: 32px;\n",
              "      padding: 0 0 0 0;\n",
              "      width: 32px;\n",
              "    }\n",
              "\n",
              "    .colab-df-convert:hover {\n",
              "      background-color: #E2EBFA;\n",
              "      box-shadow: 0px 1px 2px rgba(60, 64, 67, 0.3), 0px 1px 3px 1px rgba(60, 64, 67, 0.15);\n",
              "      fill: #174EA6;\n",
              "    }\n",
              "\n",
              "    [theme=dark] .colab-df-convert {\n",
              "      background-color: #3B4455;\n",
              "      fill: #D2E3FC;\n",
              "    }\n",
              "\n",
              "    [theme=dark] .colab-df-convert:hover {\n",
              "      background-color: #434B5C;\n",
              "      box-shadow: 0px 1px 3px 1px rgba(0, 0, 0, 0.15);\n",
              "      filter: drop-shadow(0px 1px 2px rgba(0, 0, 0, 0.3));\n",
              "      fill: #FFFFFF;\n",
              "    }\n",
              "  </style>\n",
              "\n",
              "      <script>\n",
              "        const buttonEl =\n",
              "          document.querySelector('#df-e0d702d0-ebaf-4e62-a750-a81687eb61c9 button.colab-df-convert');\n",
              "        buttonEl.style.display =\n",
              "          google.colab.kernel.accessAllowed ? 'block' : 'none';\n",
              "\n",
              "        async function convertToInteractive(key) {\n",
              "          const element = document.querySelector('#df-e0d702d0-ebaf-4e62-a750-a81687eb61c9');\n",
              "          const dataTable =\n",
              "            await google.colab.kernel.invokeFunction('convertToInteractive',\n",
              "                                                     [key], {});\n",
              "          if (!dataTable) return;\n",
              "\n",
              "          const docLinkHtml = 'Like what you see? Visit the ' +\n",
              "            '<a target=\"_blank\" href=https://colab.research.google.com/notebooks/data_table.ipynb>data table notebook</a>'\n",
              "            + ' to learn more about interactive tables.';\n",
              "          element.innerHTML = '';\n",
              "          dataTable['output_type'] = 'display_data';\n",
              "          await google.colab.output.renderOutput(dataTable, element);\n",
              "          const docLink = document.createElement('div');\n",
              "          docLink.innerHTML = docLinkHtml;\n",
              "          element.appendChild(docLink);\n",
              "        }\n",
              "      </script>\n",
              "    </div>\n",
              "  </div>\n",
              "  "
            ],
            "text/plain": [
              "     CouncilArea\n",
              "2687    Brimbank\n",
              "4703     Darebin\n",
              "3264  Boroondara\n",
              "3944    Moreland\n",
              "3130     Banyule\n",
              "2297     Darebin\n",
              "354      Unknown\n",
              "4454       Yarra\n",
              "4235      Melton\n",
              "5019     Unknown"
            ]
          },
          "metadata": {},
          "execution_count": 68
        }
      ],
      "source": [
        "housing_cat = housing[[\"CouncilArea\"]]\n",
        "# There is missing values in this category, we will create a new cateogry for those.\n",
        "housing_cat.fillna('Unknown').head(10)"
      ]
    },
    {
      "cell_type": "code",
      "execution_count": null,
      "metadata": {
        "colab": {
          "base_uri": "https://localhost:8080/"
        },
        "id": "3sYAgNs-Mc_l",
        "outputId": "10c2cb91-9b4a-42f7-9905-c44e25aa943c"
      },
      "outputs": [
        {
          "output_type": "execute_result",
          "data": {
            "text/plain": [
              "array([[ 3.],\n",
              "       [ 6.],\n",
              "       [ 2.],\n",
              "       [22.],\n",
              "       [ 0.],\n",
              "       [ 6.],\n",
              "       [27.],\n",
              "       [31.],\n",
              "       [19.],\n",
              "       [27.]])"
            ]
          },
          "metadata": {},
          "execution_count": 69
        }
      ],
      "source": [
        "from sklearn.preprocessing import OrdinalEncoder\n",
        "\n",
        "ordinal_encoder = OrdinalEncoder()\n",
        "housing_cat_encoded = ordinal_encoder.fit_transform(housing_cat.fillna('Unknown'))\n",
        "housing_cat_encoded[:10]"
      ]
    },
    {
      "cell_type": "code",
      "execution_count": null,
      "metadata": {
        "colab": {
          "base_uri": "https://localhost:8080/"
        },
        "id": "N7izN8iZMc_l",
        "outputId": "0380db4d-73f0-47dc-d1f0-fb59d0c47c7d"
      },
      "outputs": [
        {
          "output_type": "execute_result",
          "data": {
            "text/plain": [
              "[array(['Banyule', 'Bayside', 'Boroondara', 'Brimbank', 'Cardinia',\n",
              "        'Casey', 'Darebin', 'Frankston', 'Glen Eira', 'Greater Dandenong',\n",
              "        'Hobsons Bay', 'Hume', 'Kingston', 'Knox', 'Macedon Ranges',\n",
              "        'Manningham', 'Maribyrnong', 'Maroondah', 'Melbourne', 'Melton',\n",
              "        'Monash', 'Moonee Valley', 'Moreland', 'Nillumbik', 'Port Phillip',\n",
              "        'Stonnington', 'Unavailable', 'Unknown', 'Whitehorse',\n",
              "        'Whittlesea', 'Wyndham', 'Yarra', 'Yarra Ranges'], dtype=object)]"
            ]
          },
          "metadata": {},
          "execution_count": 70
        }
      ],
      "source": [
        "ordinal_encoder.categories_"
      ]
    },
    {
      "cell_type": "code",
      "execution_count": null,
      "metadata": {
        "colab": {
          "base_uri": "https://localhost:8080/"
        },
        "id": "ugwDikOBMc_l",
        "outputId": "b4a94c02-0170-4327-8412-c40ce5be2234"
      },
      "outputs": [
        {
          "output_type": "execute_result",
          "data": {
            "text/plain": [
              "<4345x33 sparse matrix of type '<class 'numpy.float64'>'\n",
              "\twith 4345 stored elements in Compressed Sparse Row format>"
            ]
          },
          "metadata": {},
          "execution_count": 71
        }
      ],
      "source": [
        "from sklearn.preprocessing import OneHotEncoder\n",
        "\n",
        "cat_encoder = OneHotEncoder(handle_unknown='ignore')\n",
        "housing_cat_1hot = cat_encoder.fit_transform(housing_cat.fillna('Unknown'))\n",
        "housing_cat_1hot"
      ]
    },
    {
      "cell_type": "code",
      "execution_count": null,
      "metadata": {
        "colab": {
          "base_uri": "https://localhost:8080/"
        },
        "id": "fIMI87eyMc_l",
        "outputId": "e0a7920b-c704-49ec-f153-0edc3cb3406b"
      },
      "outputs": [
        {
          "output_type": "execute_result",
          "data": {
            "text/plain": [
              "array([[0., 0., 0., ..., 0., 0., 0.],\n",
              "       [0., 0., 0., ..., 0., 0., 0.],\n",
              "       [0., 0., 1., ..., 0., 0., 0.],\n",
              "       ...,\n",
              "       [0., 0., 0., ..., 0., 0., 0.],\n",
              "       [0., 0., 0., ..., 0., 0., 0.],\n",
              "       [0., 0., 0., ..., 0., 0., 0.]])"
            ]
          },
          "metadata": {},
          "execution_count": 72
        }
      ],
      "source": [
        "housing_cat_1hot.toarray()"
      ]
    },
    {
      "cell_type": "markdown",
      "metadata": {
        "id": "B5GlD6vsMc_l"
      },
      "source": [
        "Alternatively, you can set sparse=False when creating the OneHotEncoder:"
      ]
    },
    {
      "cell_type": "code",
      "execution_count": null,
      "metadata": {
        "colab": {
          "base_uri": "https://localhost:8080/"
        },
        "id": "DZALJXUyMc_l",
        "outputId": "59642e8c-e6ef-4eb3-96d4-9c06461c79b4"
      },
      "outputs": [
        {
          "output_type": "execute_result",
          "data": {
            "text/plain": [
              "array([[0., 0., 0., ..., 0., 0., 0.],\n",
              "       [0., 0., 0., ..., 0., 0., 0.],\n",
              "       [0., 0., 1., ..., 0., 0., 0.],\n",
              "       ...,\n",
              "       [0., 0., 0., ..., 0., 0., 0.],\n",
              "       [0., 0., 0., ..., 0., 0., 0.],\n",
              "       [0., 0., 0., ..., 0., 0., 0.]])"
            ]
          },
          "metadata": {},
          "execution_count": 73
        }
      ],
      "source": [
        "cat_encoder = OneHotEncoder(sparse=False,handle_unknown='ignore')\n",
        "housing_cat_1hot = cat_encoder.fit_transform(housing_cat.fillna('Unknown'))\n",
        "housing_cat_1hot"
      ]
    },
    {
      "cell_type": "code",
      "execution_count": null,
      "metadata": {
        "colab": {
          "base_uri": "https://localhost:8080/"
        },
        "id": "B7Uja8JAMc_m",
        "outputId": "ceeee6e1-6257-42bf-fe0e-ad8233c1f3aa"
      },
      "outputs": [
        {
          "output_type": "execute_result",
          "data": {
            "text/plain": [
              "[array(['Banyule', 'Bayside', 'Boroondara', 'Brimbank', 'Cardinia',\n",
              "        'Casey', 'Darebin', 'Frankston', 'Glen Eira', 'Greater Dandenong',\n",
              "        'Hobsons Bay', 'Hume', 'Kingston', 'Knox', 'Macedon Ranges',\n",
              "        'Manningham', 'Maribyrnong', 'Maroondah', 'Melbourne', 'Melton',\n",
              "        'Monash', 'Moonee Valley', 'Moreland', 'Nillumbik', 'Port Phillip',\n",
              "        'Stonnington', 'Unavailable', 'Unknown', 'Whitehorse',\n",
              "        'Whittlesea', 'Wyndham', 'Yarra', 'Yarra Ranges'], dtype=object)]"
            ]
          },
          "metadata": {},
          "execution_count": 74
        }
      ],
      "source": [
        "cat_encoder.categories_"
      ]
    },
    {
      "cell_type": "markdown",
      "metadata": {
        "id": "8zMJ5ttqMc_m"
      },
      "source": [
        "Let's create a custom transformer to add extra attributes:\n"
      ]
    },
    {
      "cell_type": "code",
      "execution_count": null,
      "metadata": {
        "id": "7xlFLohHMc_m"
      },
      "outputs": [],
      "source": [
        "from sklearn.base import BaseEstimator, TransformerMixin\n",
        "\n",
        "# column index\n",
        "Rooms_ix, Bedroom2_ix, Bathroom_ix, BuildingArea_ix = 0, 2, 3, 6\n",
        "\n",
        "class CombinedAttributesAdder(BaseEstimator, TransformerMixin):\n",
        "    def __init__(self, add_bedrooms_per_room = True): # no *args or **kargs\n",
        "        self.add_bedrooms_per_room = add_bedrooms_per_room\n",
        "        \n",
        "    def fit(self, X, y=None):\n",
        "        return self  # nothing else to do\n",
        "    \n",
        "    def transform(self, X):\n",
        "        rooms_per_building_area = X[:, Rooms_ix] / (1.0 +X[:, BuildingArea_ix])# add 1 to avoid 0 division\n",
        "        if self.add_bedrooms_per_room:\n",
        "            bedrooms_per_room = X[:, Bedroom2_ix] / (1.0 + X[:, Bathroom_ix]) # add 1 to avoid 0 division\n",
        "            return np.c_[X, rooms_per_building_area, bedrooms_per_room]\n",
        "        else:\n",
        "            return np.c_[X, rooms_per_building_area]\n",
        "        \n",
        "\n",
        "attr_adder = CombinedAttributesAdder(add_bedrooms_per_room=True)\n",
        "housing_extra_attribs = attr_adder.transform(housing_num.values)"
      ]
    },
    {
      "cell_type": "code",
      "execution_count": null,
      "metadata": {
        "colab": {
          "base_uri": "https://localhost:8080/"
        },
        "id": "sRzbXVJ4Mc_m",
        "outputId": "3a319059-be3c-4697-b44f-d6cd5147e741"
      },
      "outputs": [
        {
          "output_type": "execute_result",
          "data": {
            "text/html": [
              "\n",
              "  <div id=\"df-6e40d12a-5b96-4a85-89c5-a67ecd0a3c8a\">\n",
              "    <div class=\"colab-df-container\">\n",
              "      <div>\n",
              "<style scoped>\n",
              "    .dataframe tbody tr th:only-of-type {\n",
              "        vertical-align: middle;\n",
              "    }\n",
              "\n",
              "    .dataframe tbody tr th {\n",
              "        vertical-align: top;\n",
              "    }\n",
              "\n",
              "    .dataframe thead th {\n",
              "        text-align: right;\n",
              "    }\n",
              "</style>\n",
              "<table border=\"1\" class=\"dataframe\">\n",
              "  <thead>\n",
              "    <tr style=\"text-align: right;\">\n",
              "      <th></th>\n",
              "      <th>index</th>\n",
              "      <th>Rooms</th>\n",
              "      <th>Distance</th>\n",
              "      <th>Bedroom2</th>\n",
              "      <th>Bathroom</th>\n",
              "      <th>Car</th>\n",
              "      <th>Landsize</th>\n",
              "      <th>BuildingArea</th>\n",
              "      <th>Lattitude</th>\n",
              "      <th>Longtitude</th>\n",
              "      <th>Propertycount</th>\n",
              "      <th>Price_log</th>\n",
              "      <th>rooms_per_building_area</th>\n",
              "      <th>bedrooms_per_room</th>\n",
              "    </tr>\n",
              "  </thead>\n",
              "  <tbody>\n",
              "    <tr>\n",
              "      <th>2687</th>\n",
              "      <td>2687.0</td>\n",
              "      <td>3.0</td>\n",
              "      <td>13.9</td>\n",
              "      <td>3.0</td>\n",
              "      <td>1.0</td>\n",
              "      <td>2.0</td>\n",
              "      <td>697.0</td>\n",
              "      <td>125.0</td>\n",
              "      <td>-37.78410</td>\n",
              "      <td>144.81690</td>\n",
              "      <td>2185.0</td>\n",
              "      <td>13.458836</td>\n",
              "      <td>3.849570</td>\n",
              "      <td>3.475000</td>\n",
              "    </tr>\n",
              "    <tr>\n",
              "      <th>4703</th>\n",
              "      <td>4703.0</td>\n",
              "      <td>3.0</td>\n",
              "      <td>6.5</td>\n",
              "      <td>3.0</td>\n",
              "      <td>2.0</td>\n",
              "      <td>3.0</td>\n",
              "      <td>297.0</td>\n",
              "      <td>234.0</td>\n",
              "      <td>-37.76170</td>\n",
              "      <td>145.01170</td>\n",
              "      <td>8870.0</td>\n",
              "      <td>14.038654</td>\n",
              "      <td>15.781879</td>\n",
              "      <td>1.625000</td>\n",
              "    </tr>\n",
              "    <tr>\n",
              "      <th>3264</th>\n",
              "      <td>3264.0</td>\n",
              "      <td>5.0</td>\n",
              "      <td>9.7</td>\n",
              "      <td>5.0</td>\n",
              "      <td>3.0</td>\n",
              "      <td>2.0</td>\n",
              "      <td>715.0</td>\n",
              "      <td>420.0</td>\n",
              "      <td>-37.80280</td>\n",
              "      <td>145.07680</td>\n",
              "      <td>5682.0</td>\n",
              "      <td>14.920767</td>\n",
              "      <td>4.558659</td>\n",
              "      <td>1.616667</td>\n",
              "    </tr>\n",
              "    <tr>\n",
              "      <th>3944</th>\n",
              "      <td>3944.0</td>\n",
              "      <td>2.0</td>\n",
              "      <td>5.2</td>\n",
              "      <td>2.0</td>\n",
              "      <td>1.0</td>\n",
              "      <td>1.0</td>\n",
              "      <td>182.0</td>\n",
              "      <td>125.0</td>\n",
              "      <td>-37.76290</td>\n",
              "      <td>144.96800</td>\n",
              "      <td>11918.0</td>\n",
              "      <td>13.885969</td>\n",
              "      <td>21.551913</td>\n",
              "      <td>1.733333</td>\n",
              "    </tr>\n",
              "    <tr>\n",
              "      <th>3130</th>\n",
              "      <td>3130.0</td>\n",
              "      <td>2.0</td>\n",
              "      <td>7.8</td>\n",
              "      <td>2.0</td>\n",
              "      <td>1.0</td>\n",
              "      <td>0.0</td>\n",
              "      <td>1110.0</td>\n",
              "      <td>125.0</td>\n",
              "      <td>-37.76778</td>\n",
              "      <td>145.03312</td>\n",
              "      <td>5549.0</td>\n",
              "      <td>14.690979</td>\n",
              "      <td>2.817282</td>\n",
              "      <td>2.600000</td>\n",
              "    </tr>\n",
              "  </tbody>\n",
              "</table>\n",
              "</div>\n",
              "      <button class=\"colab-df-convert\" onclick=\"convertToInteractive('df-6e40d12a-5b96-4a85-89c5-a67ecd0a3c8a')\"\n",
              "              title=\"Convert this dataframe to an interactive table.\"\n",
              "              style=\"display:none;\">\n",
              "        \n",
              "  <svg xmlns=\"http://www.w3.org/2000/svg\" height=\"24px\"viewBox=\"0 0 24 24\"\n",
              "       width=\"24px\">\n",
              "    <path d=\"M0 0h24v24H0V0z\" fill=\"none\"/>\n",
              "    <path d=\"M18.56 5.44l.94 2.06.94-2.06 2.06-.94-2.06-.94-.94-2.06-.94 2.06-2.06.94zm-11 1L8.5 8.5l.94-2.06 2.06-.94-2.06-.94L8.5 2.5l-.94 2.06-2.06.94zm10 10l.94 2.06.94-2.06 2.06-.94-2.06-.94-.94-2.06-.94 2.06-2.06.94z\"/><path d=\"M17.41 7.96l-1.37-1.37c-.4-.4-.92-.59-1.43-.59-.52 0-1.04.2-1.43.59L10.3 9.45l-7.72 7.72c-.78.78-.78 2.05 0 2.83L4 21.41c.39.39.9.59 1.41.59.51 0 1.02-.2 1.41-.59l7.78-7.78 2.81-2.81c.8-.78.8-2.07 0-2.86zM5.41 20L4 18.59l7.72-7.72 1.47 1.35L5.41 20z\"/>\n",
              "  </svg>\n",
              "      </button>\n",
              "      \n",
              "  <style>\n",
              "    .colab-df-container {\n",
              "      display:flex;\n",
              "      flex-wrap:wrap;\n",
              "      gap: 12px;\n",
              "    }\n",
              "\n",
              "    .colab-df-convert {\n",
              "      background-color: #E8F0FE;\n",
              "      border: none;\n",
              "      border-radius: 50%;\n",
              "      cursor: pointer;\n",
              "      display: none;\n",
              "      fill: #1967D2;\n",
              "      height: 32px;\n",
              "      padding: 0 0 0 0;\n",
              "      width: 32px;\n",
              "    }\n",
              "\n",
              "    .colab-df-convert:hover {\n",
              "      background-color: #E2EBFA;\n",
              "      box-shadow: 0px 1px 2px rgba(60, 64, 67, 0.3), 0px 1px 3px 1px rgba(60, 64, 67, 0.15);\n",
              "      fill: #174EA6;\n",
              "    }\n",
              "\n",
              "    [theme=dark] .colab-df-convert {\n",
              "      background-color: #3B4455;\n",
              "      fill: #D2E3FC;\n",
              "    }\n",
              "\n",
              "    [theme=dark] .colab-df-convert:hover {\n",
              "      background-color: #434B5C;\n",
              "      box-shadow: 0px 1px 3px 1px rgba(0, 0, 0, 0.15);\n",
              "      filter: drop-shadow(0px 1px 2px rgba(0, 0, 0, 0.3));\n",
              "      fill: #FFFFFF;\n",
              "    }\n",
              "  </style>\n",
              "\n",
              "      <script>\n",
              "        const buttonEl =\n",
              "          document.querySelector('#df-6e40d12a-5b96-4a85-89c5-a67ecd0a3c8a button.colab-df-convert');\n",
              "        buttonEl.style.display =\n",
              "          google.colab.kernel.accessAllowed ? 'block' : 'none';\n",
              "\n",
              "        async function convertToInteractive(key) {\n",
              "          const element = document.querySelector('#df-6e40d12a-5b96-4a85-89c5-a67ecd0a3c8a');\n",
              "          const dataTable =\n",
              "            await google.colab.kernel.invokeFunction('convertToInteractive',\n",
              "                                                     [key], {});\n",
              "          if (!dataTable) return;\n",
              "\n",
              "          const docLinkHtml = 'Like what you see? Visit the ' +\n",
              "            '<a target=\"_blank\" href=https://colab.research.google.com/notebooks/data_table.ipynb>data table notebook</a>'\n",
              "            + ' to learn more about interactive tables.';\n",
              "          element.innerHTML = '';\n",
              "          dataTable['output_type'] = 'display_data';\n",
              "          await google.colab.output.renderOutput(dataTable, element);\n",
              "          const docLink = document.createElement('div');\n",
              "          docLink.innerHTML = docLinkHtml;\n",
              "          element.appendChild(docLink);\n",
              "        }\n",
              "      </script>\n",
              "    </div>\n",
              "  </div>\n",
              "  "
            ],
            "text/plain": [
              "       index  Rooms  Distance  Bedroom2  Bathroom  Car  Landsize  \\\n",
              "2687  2687.0    3.0      13.9       3.0       1.0  2.0     697.0   \n",
              "4703  4703.0    3.0       6.5       3.0       2.0  3.0     297.0   \n",
              "3264  3264.0    5.0       9.7       5.0       3.0  2.0     715.0   \n",
              "3944  3944.0    2.0       5.2       2.0       1.0  1.0     182.0   \n",
              "3130  3130.0    2.0       7.8       2.0       1.0  0.0    1110.0   \n",
              "\n",
              "      BuildingArea  Lattitude  Longtitude  Propertycount  Price_log  \\\n",
              "2687         125.0  -37.78410   144.81690         2185.0  13.458836   \n",
              "4703         234.0  -37.76170   145.01170         8870.0  14.038654   \n",
              "3264         420.0  -37.80280   145.07680         5682.0  14.920767   \n",
              "3944         125.0  -37.76290   144.96800        11918.0  13.885969   \n",
              "3130         125.0  -37.76778   145.03312         5549.0  14.690979   \n",
              "\n",
              "      rooms_per_building_area  bedrooms_per_room  \n",
              "2687                 3.849570           3.475000  \n",
              "4703                15.781879           1.625000  \n",
              "3264                 4.558659           1.616667  \n",
              "3944                21.551913           1.733333  \n",
              "3130                 2.817282           2.600000  "
            ]
          },
          "metadata": {},
          "execution_count": 76
        }
      ],
      "source": [
        "housing_extra_attribs = pd.DataFrame(\n",
        "    housing_extra_attribs,\n",
        "    columns=list(housing_num.columns)+[\"rooms_per_building_area\", \"bedrooms_per_room\"],\n",
        "    index=housing.index)\n",
        "housing_extra_attribs.head()"
      ]
    },
    {
      "cell_type": "markdown",
      "metadata": {
        "id": "dnuIucF8Mc_m"
      },
      "source": [
        "Now let's build a pipeline for preprocessing the numerical attributes:"
      ]
    },
    {
      "cell_type": "code",
      "execution_count": null,
      "metadata": {
        "colab": {
          "base_uri": "https://localhost:8080/"
        },
        "id": "EXZgjw8ZMc_m",
        "outputId": "48724298-497a-4195-de8c-0dea4bb4795d"
      },
      "outputs": [
        {
          "output_type": "stream",
          "name": "stderr",
          "text": [
            "/usr/local/lib/python3.7/dist-packages/ipykernel_launcher.py:8: SettingWithCopyWarning: \n",
            "A value is trying to be set on a copy of a slice from a DataFrame.\n",
            "Try using .loc[row_indexer,col_indexer] = value instead\n",
            "\n",
            "See the caveats in the documentation: https://pandas.pydata.org/pandas-docs/stable/user_guide/indexing.html#returning-a-view-versus-a-copy\n",
            "  \n",
            "/usr/local/lib/python3.7/dist-packages/pandas/core/frame.py:3718: SettingWithCopyWarning: \n",
            "A value is trying to be set on a copy of a slice from a DataFrame\n",
            "\n",
            "See the caveats in the documentation: https://pandas.pydata.org/pandas-docs/stable/user_guide/indexing.html#returning-a-view-versus-a-copy\n",
            "  self._where(-key, value, inplace=True)\n"
          ]
        },
        {
          "output_type": "display_data",
          "data": {
            "image/png": "[encoded data removed]",
            "text/plain": [
              "<Figure size 864x360 with 1 Axes>"
            ]
          },
          "metadata": {}
        }
      ],
      "source": [
        "from sklearn.pipeline import Pipeline\n",
        "from sklearn.preprocessing import StandardScaler\n",
        "from sklearn.preprocessing import FunctionTransformer\n",
        "\n",
        "\n",
        "## create a function to replace 0 by NaN\n",
        "def replace_0_2_NaN(data):\n",
        "    data[data == 0] = np.nan\n",
        "    return data\n",
        "\n",
        "\n",
        "num0_pipeline = Pipeline([\n",
        "        ('zeros2NaN',FunctionTransformer(func = replace_0_2_NaN,validate=False)),\n",
        "        ('imputer', SimpleImputer(strategy=\"median\")),\n",
        "        ('log',FunctionTransformer(np.log1p, validate=True)),\n",
        "        ('std_scaler', StandardScaler()),\n",
        "    ])\n",
        "\n",
        "housing_num_tr = num0_pipeline.fit_transform(housing[['BuildingArea','Landsize']])\n",
        "plt.hist(housing_num_tr,bins=20)\n",
        "plt.show()"
      ]
    },
    {
      "cell_type": "code",
      "execution_count": null,
      "metadata": {
        "id": "ajmwMlceMc_m"
      },
      "outputs": [],
      "source": [
        "num_pipeline = Pipeline([\n",
        "        ('imputer', SimpleImputer(strategy=\"median\")),\n",
        "        ('attribs_adder', CombinedAttributesAdder()),\n",
        "        ('std_scaler', StandardScaler()),\n",
        "    ])\n",
        "\n",
        "housing_num_tr = num_pipeline.fit_transform(housing_num)"
      ]
    },
    {
      "cell_type": "code",
      "execution_count": null,
      "metadata": {
        "colab": {
          "base_uri": "https://localhost:8080/"
        },
        "id": "Rcwvp6M7Mc_m",
        "outputId": "b8f64217-bf52-4f87-89ac-f879971d1e1a"
      },
      "outputs": [
        {
          "output_type": "execute_result",
          "data": {
            "text/plain": [
              "array([[-0.00727295,  0.07291368,  0.61357574, ..., -0.53991973,\n",
              "        -0.34330027,  0.54844326],\n",
              "       [ 1.27145579,  0.07291368, -0.61469121, ...,  0.55084612,\n",
              "        -0.33224969, -0.68790729],\n",
              "       [ 0.35871241,  2.15718973, -0.08354874, ...,  2.21029481,\n",
              "        -0.34264358, -0.69347644],\n",
              "       ...,\n",
              "       [-0.17155407,  0.07291368,  0.19862069, ...,  0.79072666,\n",
              "        -0.34281387,  0.13075726],\n",
              "       [ 1.31331893,  0.07291368,  0.43099552, ...,  0.00462971,\n",
              "        -0.34020384,  0.36466142],\n",
              "       [ 1.07355729, -0.96922434, -0.93005704, ..., -1.17289786,\n",
              "         3.7196638 , -0.7491679 ]])"
            ]
          },
          "metadata": {},
          "execution_count": 79
        }
      ],
      "source": [
        "housing_num_tr"
      ]
    },
    {
      "cell_type": "code",
      "execution_count": null,
      "metadata": {
        "id": "RTbhpfUFMc_m"
      },
      "outputs": [],
      "source": [
        "cat_pipeline = Pipeline([\n",
        "        ('imputer', SimpleImputer(strategy=\"constant\",fill_value='Unknown')),\n",
        "        ('one_hot_encoder', OneHotEncoder(handle_unknown='ignore')),\n",
        "    ])"
      ]
    },
    {
      "cell_type": "code",
      "execution_count": null,
      "metadata": {
        "scrolled": false,
        "colab": {
          "base_uri": "https://localhost:8080/"
        },
        "id": "GR2QeXqAMc_m",
        "outputId": "0e1f7781-fca9-4829-dcc6-c236c5fef31f"
      },
      "outputs": [
        {
          "output_type": "execute_result",
          "data": {
            "text/plain": [
              "<4345x523 sparse matrix of type '<class 'numpy.float64'>'\n",
              "\twith 86900 stored elements in Compressed Sparse Row format>"
            ]
          },
          "metadata": {},
          "execution_count": 81
        }
      ],
      "source": [
        "from sklearn.compose import ColumnTransformer\n",
        "\n",
        "num_attribs0 = ['Landsize','BuildingArea']\n",
        "num_attribs1 = list(housing_num)\n",
        "cat_attribs = [\"CouncilArea\",'Type','Suburb','Postcode']\n",
        "\n",
        "\n",
        "full_pipeline = ColumnTransformer([\n",
        "        (\"num0\", num0_pipeline, num_attribs0),\n",
        "        (\"num1\", num_pipeline, num_attribs1),\n",
        "        (\"cat\", cat_pipeline, cat_attribs),\n",
        "    ])\n",
        "\n",
        "housing_prepared = full_pipeline.fit_transform(housing)\n",
        "\n",
        "housing_prepared"
      ]
    },
    {
      "cell_type": "markdown",
      "metadata": {
        "id": "62xbaZslMc_m"
      },
      "source": [
        "## Select and train a model\n",
        "\n",
        "### Linear Regression"
      ]
    },
    {
      "cell_type": "code",
      "execution_count": null,
      "metadata": {
        "colab": {
          "base_uri": "https://localhost:8080/"
        },
        "id": "-mE1QvyGMc_m",
        "outputId": "e98b1ccc-a108-402f-b534-a5c89f6657f2"
      },
      "outputs": [
        {
          "output_type": "execute_result",
          "data": {
            "text/plain": [
              "LinearRegression()"
            ]
          },
          "metadata": {},
          "execution_count": 82
        }
      ],
      "source": [
        "from sklearn.linear_model import LinearRegression\n",
        "\n",
        "lin_reg = LinearRegression()\n",
        "lin_reg.fit(housing_prepared, housing_labels)"
      ]
    },
    {
      "cell_type": "code",
      "execution_count": null,
      "metadata": {
        "colab": {
          "base_uri": "https://localhost:8080/"
        },
        "id": "kSO09CRyMc_n",
        "outputId": "8c331ed9-16a9-46cb-b594-211882cf1602"
      },
      "outputs": [
        {
          "output_type": "stream",
          "name": "stdout",
          "text": [
            "Predictions: [13.45883562 14.03865415 14.92076729 13.88596906 14.69097928 13.51440556\n",
            " 13.2533915  13.18627668 13.33480994 14.11561501 13.98946384 13.86905134\n",
            " 13.24987668 13.92167074 13.17305653 13.48978037 13.6529917  13.26905776\n",
            " 13.52782852 14.46783577 14.54835917 13.14216597 13.17685159 13.40754229\n",
            " 14.11561515]\n"
          ]
        }
      ],
      "source": [
        "# let's try the full preprocessing pipeline on a few training instances\n",
        "some_data = housing.iloc[:25]\n",
        "some_labels = housing_labels.iloc[:25]\n",
        "some_data_prepared = full_pipeline.transform(some_data)\n",
        "\n",
        "print(\"Predictions:\", lin_reg.predict(some_data_prepared))"
      ]
    },
    {
      "cell_type": "markdown",
      "metadata": {
        "id": "AwVR5FfkMc_n"
      },
      "source": [
        "Compare against the actual values:"
      ]
    },
    {
      "cell_type": "code",
      "execution_count": null,
      "metadata": {
        "colab": {
          "base_uri": "https://localhost:8080/"
        },
        "id": "fvMxZ-g3Mc_n",
        "outputId": "f9bf4035-48f1-48f4-c9da-dafb9b3657dc"
      },
      "outputs": [
        {
          "output_type": "stream",
          "name": "stdout",
          "text": [
            "Labels: [13.458835614025542, 14.038654109278484, 14.920767389351052, 13.885969021612835, 14.690979295318174, 13.514405465180353, 13.253391639810733, 13.186276703147982, 13.334809919170203, 14.115615150414612, 13.989463865087712, 13.869051324892304, 13.249876697703288, 13.921670753792664, 13.173056491719846, 13.489780417874963, 13.652991628466498, 13.269057756555132, 13.527828485512494, 14.467835744003965, 14.548359105375772, 13.142166004700508, 13.176851562688398, 13.407542319637992, 14.115615150414612]\n"
          ]
        }
      ],
      "source": [
        "print(\"Labels:\", list(some_labels))\n"
      ]
    },
    {
      "cell_type": "code",
      "execution_count": null,
      "metadata": {
        "colab": {
          "base_uri": "https://localhost:8080/",
          "height": 357
        },
        "id": "AoPj8aA_Mc_n",
        "outputId": "148129dd-3456-4f36-c721-fc60c26d9569"
      },
      "outputs": [
        {
          "output_type": "execute_result",
          "data": {
            "text/plain": [
              "<matplotlib.collections.PathCollection at 0x7fa6f1efd650>"
            ]
          },
          "metadata": {},
          "execution_count": 85
        },
        {
          "output_type": "display_data",
          "data": {
            "image/png": "[encoded data removed]",
            "text/plain": [
              "<Figure size 864x360 with 1 Axes>"
            ]
          },
          "metadata": {}
        }
      ],
      "source": [
        "plt.scatter(lin_reg.predict(some_data_prepared),list(some_labels))"
      ]
    },
    {
      "cell_type": "code",
      "execution_count": null,
      "metadata": {
        "colab": {
          "base_uri": "https://localhost:8080/"
        },
        "id": "Eb4OyBYLMc_n",
        "outputId": "3587f836-b806-4ff5-98c0-4c2ef0a9969c"
      },
      "outputs": [
        {
          "output_type": "execute_result",
          "data": {
            "text/plain": [
              "<25x523 sparse matrix of type '<class 'numpy.float64'>'\n",
              "\twith 500 stored elements in Compressed Sparse Row format>"
            ]
          },
          "metadata": {},
          "execution_count": 86
        }
      ],
      "source": [
        "some_data_prepared"
      ]
    },
    {
      "cell_type": "code",
      "execution_count": null,
      "metadata": {
        "colab": {
          "base_uri": "https://localhost:8080/"
        },
        "id": "dCpNgxymMc_n",
        "outputId": "e6b1e0c9-2602-487f-b3e5-0efe60be1e3a"
      },
      "outputs": [
        {
          "output_type": "execute_result",
          "data": {
            "text/plain": [
              "9.25531147718212e-08"
            ]
          },
          "metadata": {},
          "execution_count": 87
        }
      ],
      "source": [
        "from sklearn.metrics import mean_squared_error\n",
        "\n",
        "housing_predictions = lin_reg.predict(housing_prepared)\n",
        "lin_mse = mean_squared_error(housing_labels, housing_predictions)\n",
        "lin_rmse = np.sqrt(lin_mse)\n",
        "lin_rmse"
      ]
    },
    {
      "cell_type": "code",
      "execution_count": null,
      "metadata": {
        "colab": {
          "base_uri": "https://localhost:8080/"
        },
        "id": "82pa8_VIMc_n",
        "outputId": "32268a94-27d2-4e7c-9bf1-05c0b5565660"
      },
      "outputs": [
        {
          "output_type": "execute_result",
          "data": {
            "text/plain": [
              "5.013894591130439e-08"
            ]
          },
          "metadata": {},
          "execution_count": 88
        }
      ],
      "source": [
        "from sklearn.metrics import mean_absolute_error\n",
        "\n",
        "lin_mae = mean_absolute_error(housing_labels, housing_predictions)\n",
        "lin_mae"
      ]
    },
    {
      "cell_type": "markdown",
      "metadata": {
        "id": "K-gZ06u_Mc_n"
      },
      "source": [
        "### K-Nearest Neighbour"
      ]
    },
    {
      "cell_type": "code",
      "execution_count": null,
      "metadata": {
        "colab": {
          "base_uri": "https://localhost:8080/"
        },
        "id": "5OV9oI_lMc_n",
        "outputId": "eeb487f9-972b-43e4-9d94-6397a354ad0f"
      },
      "outputs": [
        {
          "output_type": "execute_result",
          "data": {
            "text/plain": [
              "KNeighborsRegressor(n_neighbors=3)"
            ]
          },
          "metadata": {},
          "execution_count": 89
        }
      ],
      "source": [
        "from sklearn import neighbors\n",
        "\n",
        "n_neighbors = 3\n",
        "knn_reg = neighbors.KNeighborsRegressor(n_neighbors)\n",
        "knn_reg.fit(housing_prepared, housing_labels)"
      ]
    },
    {
      "cell_type": "code",
      "execution_count": null,
      "metadata": {
        "colab": {
          "base_uri": "https://localhost:8080/"
        },
        "id": "6yG4O644Mc_n",
        "outputId": "f9be5924-b6ef-47b6-d3e9-a9c42d3c36b5"
      },
      "outputs": [
        {
          "output_type": "execute_result",
          "data": {
            "text/plain": [
              "0.14462651648218644"
            ]
          },
          "metadata": {},
          "execution_count": 90
        }
      ],
      "source": [
        "housing_predictions = knn_reg.predict(housing_prepared)\n",
        "knn_mse = mean_squared_error(housing_labels, housing_predictions)\n",
        "knn_rmse = np.sqrt(knn_mse)\n",
        "knn_rmse\n"
      ]
    },
    {
      "cell_type": "markdown",
      "metadata": {
        "id": "ljUNEbLDMc_n"
      },
      "source": [
        "### Decision Tree"
      ]
    },
    {
      "cell_type": "code",
      "execution_count": null,
      "metadata": {
        "colab": {
          "base_uri": "https://localhost:8080/"
        },
        "id": "oonP8S4DMc_n",
        "outputId": "ad9ea9c7-077c-4926-ed8e-9f1922b75922"
      },
      "outputs": [
        {
          "output_type": "execute_result",
          "data": {
            "text/plain": [
              "DecisionTreeRegressor(random_state=42)"
            ]
          },
          "metadata": {},
          "execution_count": 91
        }
      ],
      "source": [
        "from sklearn.tree import DecisionTreeRegressor\n",
        "\n",
        "tree_reg = DecisionTreeRegressor(random_state=42)\n",
        "tree_reg.fit(housing_prepared, housing_labels)"
      ]
    },
    {
      "cell_type": "code",
      "execution_count": null,
      "metadata": {
        "colab": {
          "base_uri": "https://localhost:8080/"
        },
        "id": "LP_5CQiHMc_o",
        "outputId": "2ca18fae-51bc-4939-a8d9-665742430e3a"
      },
      "outputs": [
        {
          "output_type": "execute_result",
          "data": {
            "text/plain": [
              "2.010332558707222e-15"
            ]
          },
          "metadata": {},
          "execution_count": 92
        }
      ],
      "source": [
        "housing_predictions = tree_reg.predict(housing_prepared)\n",
        "tree_mse = mean_squared_error(housing_labels, housing_predictions)\n",
        "tree_rmse = np.sqrt(tree_mse)\n",
        "tree_rmse"
      ]
    },
    {
      "cell_type": "markdown",
      "metadata": {
        "id": "4Ur581BCMc_o"
      },
      "source": [
        "## Fine-tune your model\n",
        "\n",
        "Find the best parameters for your model. In order to do so, we will use the 10-fold cross-validation"
      ]
    },
    {
      "cell_type": "code",
      "execution_count": null,
      "metadata": {
        "id": "1P6wZWG8Mc_o"
      },
      "outputs": [],
      "source": [
        "from sklearn.model_selection import cross_val_score\n",
        "\n",
        "scores = cross_val_score(tree_reg, housing_prepared, housing_labels,\n",
        "                         scoring=\"neg_root_mean_squared_error\", cv=10)\n"
      ]
    },
    {
      "cell_type": "code",
      "execution_count": null,
      "metadata": {
        "colab": {
          "base_uri": "https://localhost:8080/"
        },
        "id": "Qj_ltwyLMc_o",
        "outputId": "afb61ce5-0bfa-47f9-f804-c9de72077903"
      },
      "outputs": [
        {
          "output_type": "stream",
          "name": "stdout",
          "text": [
            "---- Decision Tree ----\n",
            "Mean: 0.005933173103229464\n",
            "Standard deviation: 0.004671038912697486\n"
          ]
        }
      ],
      "source": [
        "def display_scores(scores,model_name = None):\n",
        "    if(model_name):\n",
        "        print(\"----\",model_name,\"----\")\n",
        "    print(\"Mean:\", scores.mean())\n",
        "    print(\"Standard deviation:\", scores.std())\n",
        "\n",
        "display_scores(-scores,'Decision Tree')"
      ]
    },
    {
      "cell_type": "code",
      "execution_count": null,
      "metadata": {
        "colab": {
          "base_uri": "https://localhost:8080/"
        },
        "id": "3mAKrwMZMc_o",
        "outputId": "3070ba54-f14e-4763-8b04-eca5c95e53c1"
      },
      "outputs": [
        {
          "output_type": "stream",
          "name": "stdout",
          "text": [
            "---- Linear Regression ----\n",
            "Mean: 1.9815010745611557e-07\n",
            "Standard deviation: 1.16746521215259e-07\n"
          ]
        }
      ],
      "source": [
        "lin_scores = cross_val_score(lin_reg, housing_prepared, housing_labels,\n",
        "                             scoring=\"neg_root_mean_squared_error\", cv=10)\n",
        "display_scores(-lin_scores,'Linear Regression')"
      ]
    },
    {
      "cell_type": "code",
      "execution_count": null,
      "metadata": {
        "colab": {
          "base_uri": "https://localhost:8080/"
        },
        "id": "vspNma3sMc_o",
        "outputId": "d82caf61-4da3-42a3-97b9-c0ab4ab71549"
      },
      "outputs": [
        {
          "output_type": "stream",
          "name": "stdout",
          "text": [
            "---- Knn Regression ----\n",
            "Mean: 0.20619981306951501\n",
            "Standard deviation: 0.009204260272628792\n"
          ]
        }
      ],
      "source": [
        "knn_scores = cross_val_score(knn_reg, housing_prepared, housing_labels,\n",
        "                             scoring=\"neg_root_mean_squared_error\", cv=10)\n",
        "display_scores(-knn_scores,'Knn Regression')"
      ]
    },
    {
      "cell_type": "code",
      "execution_count": null,
      "metadata": {
        "colab": {
          "base_uri": "https://localhost:8080/"
        },
        "id": "h1G3ou15Mc_o",
        "outputId": "ffc3e5c3-1860-4e0d-ea9d-cd924ec09e26"
      },
      "outputs": [
        {
          "output_type": "stream",
          "name": "stdout",
          "text": [
            "---- SVM ----\n",
            "Mean: 0.0358315439066701\n",
            "Standard deviation: 0.001362937277252297\n"
          ]
        }
      ],
      "source": [
        "## Let's try another model: SVM\n",
        "from sklearn.svm import SVR\n",
        "svm_reg = SVR(kernel=\"linear\")\n",
        "\n",
        "svm_scores = cross_val_score(svm_reg, housing_prepared, housing_labels,\n",
        "                                scoring=\"neg_root_mean_squared_error\", cv=10)\n",
        "display_scores(-svm_scores, 'SVM')"
      ]
    },
    {
      "cell_type": "code",
      "execution_count": null,
      "metadata": {
        "id": "t6wYaiw3Mc_o"
      },
      "outputs": [],
      "source": [
        "## Let's try another model: Random Forest\n",
        "from sklearn.ensemble import RandomForestRegressor\n",
        "\n",
        "forest_reg = RandomForestRegressor(n_estimators=20, random_state=42)"
      ]
    },
    {
      "cell_type": "code",
      "execution_count": null,
      "metadata": {
        "colab": {
          "base_uri": "https://localhost:8080/"
        },
        "id": "Dw_HGtgQMc_o",
        "outputId": "ee804203-fca8-4d71-fb0d-a912dae956b9"
      },
      "outputs": [
        {
          "output_type": "execute_result",
          "data": {
            "text/plain": [
              "0.003521138903682242"
            ]
          },
          "metadata": {},
          "execution_count": 99
        }
      ],
      "source": [
        "forest_reg.fit(housing_prepared, housing_labels)\n",
        "housing_predictions = forest_reg.predict(housing_prepared)\n",
        "forest_mse = mean_squared_error(housing_labels, housing_predictions)\n",
        "forest_rmse = np.sqrt(forest_mse)\n",
        "forest_rmse"
      ]
    },
    {
      "cell_type": "code",
      "execution_count": null,
      "metadata": {
        "colab": {
          "base_uri": "https://localhost:8080/"
        },
        "id": "0jN8O9ZBMc_o",
        "outputId": "7dd803be-ea24-4fc1-a8b8-d275d7ede3a5"
      },
      "outputs": [
        {
          "output_type": "stream",
          "name": "stdout",
          "text": [
            "---- Random Forest ----\n",
            "Mean: 0.00655374944694589\n",
            "Standard deviation: 0.004709679221462577\n"
          ]
        }
      ],
      "source": [
        "forest_scores = cross_val_score(forest_reg, housing_prepared, housing_labels,\n",
        "                                scoring=\"neg_root_mean_squared_error\", cv=10)\n",
        "display_scores(-forest_scores, 'Random Forest')"
      ]
    },
    {
      "cell_type": "code",
      "execution_count": null,
      "metadata": {
        "id": "CEmSPNL1Mc_o"
      },
      "outputs": [],
      "source": [
        "results = pd.Series(-forest_scores)"
      ]
    },
    {
      "cell_type": "code",
      "execution_count": null,
      "metadata": {
        "colab": {
          "base_uri": "https://localhost:8080/"
        },
        "id": "H-0D3IOcMc_p",
        "outputId": "b367eb9c-d36c-45ee-de30-2be10a685d21"
      },
      "outputs": [
        {
          "output_type": "execute_result",
          "data": {
            "text/plain": [
              "count    10.000000\n",
              "mean      0.006554\n",
              "std       0.004964\n",
              "min       0.002031\n",
              "25%       0.003197\n",
              "50%       0.005771\n",
              "75%       0.007029\n",
              "max       0.018749\n",
              "dtype: float64"
            ]
          },
          "metadata": {},
          "execution_count": 102
        }
      ],
      "source": [
        "results.describe()"
      ]
    },
    {
      "cell_type": "code",
      "execution_count": null,
      "metadata": {
        "colab": {
          "base_uri": "https://localhost:8080/",
          "height": 336
        },
        "id": "sX_lNejzMc_p",
        "outputId": "026a910c-dc4c-4a24-aa05-36f5ddc867f1"
      },
      "outputs": [
        {
          "output_type": "display_data",
          "data": {
            "image/png": "[encoded data removed]",
            "text/plain": [
              "<Figure size 864x360 with 1 Axes>"
            ]
          },
          "metadata": {}
        }
      ],
      "source": [
        "plt.boxplot(results)\n",
        "plt.show()"
      ]
    },
    {
      "cell_type": "code",
      "execution_count": null,
      "metadata": {
        "colab": {
          "base_uri": "https://localhost:8080/"
        },
        "id": "ix31RAx3Mc_p",
        "outputId": "5775b103-1856-4331-e39e-d7c6571da7b8"
      },
      "outputs": [
        {
          "output_type": "stream",
          "name": "stdout",
          "text": [
            "---- lin_reg ----\n",
            "Mean: 1.9815010745611557e-07\n",
            "Standard deviation: 1.16746521215259e-07\n",
            "---- Decision Tree ----\n",
            "Mean: 0.005933173103229464\n",
            "Standard deviation: 0.004671038912697486\n",
            "---- KNN-Regressor ----\n",
            "Mean: 0.20619981306951501\n",
            "Standard deviation: 0.009204260272628792\n"
          ]
        }
      ],
      "source": [
        "## lets comare all of them \n",
        "models = [(lin_reg,\"lin_reg\"),\n",
        "          (tree_reg,\"Decision Tree\"),\n",
        "          (knn_reg,\"KNN-Regressor\"),\n",
        "          (forest_reg,'Random Forest'),\n",
        "          (svm_reg,'SVM Regressor')]\n",
        "for model in models:\n",
        "    scores = cross_val_score(model[0], housing_prepared, housing_labels, scoring=\"neg_root_mean_squared_error\", cv=10)\n",
        "    display_scores(-scores, model[1])"
      ]
    },
    {
      "cell_type": "code",
      "execution_count": null,
      "metadata": {
        "id": "GTRcjYbhMc_p",
        "outputId": "181ac1ee-ce07-492c-f8ac-c833b06bb224",
        "colab": {
          "base_uri": "https://localhost:8080/"
        }
      },
      "outputs": [
        {
          "data": {
            "text/plain": [
              "GridSearchCV(cv=5, estimator=RandomForestRegressor(random_state=42),\n",
              "             param_grid=[{'max_depth': [3, 5, 7, 10],\n",
              "                          'max_features': [2, 4, 6, 8],\n",
              "                          'n_estimators': [3, 10, 30]},\n",
              "                         {'bootstrap': [False], 'max_features': [2, 3, 4],\n",
              "                          'n_estimators': [3, 10]}],\n",
              "             return_train_score=True, scoring='neg_root_mean_squared_error')"
            ]
          },
          "execution_count": null,
          "metadata": {},
          "output_type": "execute_result"
        }
      ],
      "source": [
        "from sklearn.model_selection import GridSearchCV\n",
        "\n",
        "param_grid = [\n",
        "    # try 12 (3×4) combinations of hyperparameters\n",
        "    {'n_estimators': [3, 10, 30], 'max_features': [2, 4, 6, 8], 'max_depth':[3,5,7,10]},\n",
        "    # then try 6 (2×3) combinations with bootstrap set as False\n",
        "    {'bootstrap': [False], 'n_estimators': [3, 10], 'max_features': [2, 3, 4]},\n",
        "  ]\n",
        "\n",
        "forest_reg = RandomForestRegressor(random_state=42)\n",
        "# train across 5 folds, that's a total of (12+6)*5=90 rounds of training \n",
        "grid_search = GridSearchCV(forest_reg, param_grid, cv=5,\n",
        "                           scoring='neg_root_mean_squared_error',\n",
        "                           return_train_score=True)\n",
        "grid_search.fit(housing_prepared, housing_labels)"
      ]
    },
    {
      "cell_type": "code",
      "execution_count": null,
      "metadata": {
        "id": "mJ5co8eNMc_p",
        "outputId": "2eab710d-8c5c-4873-9605-3e44f3cecc42",
        "colab": {
          "base_uri": "https://localhost:8080/"
        }
      },
      "outputs": [
        {
          "metadata": {
            "tags": null
          },
          "name": "stdout",
          "output_type": "stream",
          "text": [
            "the best parameters are:\n",
            "{'bootstrap': False, 'max_features': 4, 'n_estimators': 10}\n"
          ]
        }
      ],
      "source": [
        "print(\"the best parameters are:\")\n",
        "print(grid_search.best_params_)"
      ]
    },
    {
      "cell_type": "code",
      "execution_count": null,
      "metadata": {
        "id": "L_3Yhg_YMc_p",
        "outputId": "5eaeba2e-170d-4ce5-884a-ba2ebc3ca899",
        "colab": {
          "base_uri": "https://localhost:8080/"
        }
      },
      "outputs": [
        {
          "metadata": {
            "tags": null
          },
          "name": "stdout",
          "output_type": "stream",
          "text": [
            "Best Score\n"
          ]
        },
        {
          "data": {
            "text/plain": [
              "0.4355227150529172"
            ]
          },
          "execution_count": null,
          "metadata": {},
          "output_type": "execute_result"
        }
      ],
      "source": [
        "print(\"Best Score\")\n",
        "np.sqrt(-grid_search.best_score_)"
      ]
    },
    {
      "cell_type": "code",
      "execution_count": null,
      "metadata": {
        "id": "iC0XOfqaMc_p",
        "outputId": "c9b89522-7917-4566-8b1e-e5b77e021537",
        "colab": {
          "base_uri": "https://localhost:8080/"
        }
      },
      "outputs": [
        {
          "metadata": {
            "tags": null
          },
          "name": "stdout",
          "output_type": "stream",
          "text": [
            "the best trained model:\n"
          ]
        },
        {
          "data": {
            "text/plain": [
              "RandomForestRegressor(bootstrap=False, max_features=4, n_estimators=10,\n",
              "                      random_state=42)"
            ]
          },
          "execution_count": null,
          "metadata": {},
          "output_type": "execute_result"
        }
      ],
      "source": [
        "print(\"the best trained model:\")\n",
        "grid_search.best_estimator_"
      ]
    },
    {
      "cell_type": "markdown",
      "metadata": {
        "id": "0-bv-q_HMc_p"
      },
      "source": [
        "Let's look at the score of each hyperparameter combination tested during the grid search:"
      ]
    },
    {
      "cell_type": "code",
      "execution_count": null,
      "metadata": {
        "id": "cRa2F3afMc_p",
        "outputId": "08b72eb0-9c65-4557-f218-1fe446194f01",
        "colab": {
          "base_uri": "https://localhost:8080/"
        }
      },
      "outputs": [
        {
          "metadata": {
            "tags": null
          },
          "name": "stdout",
          "output_type": "stream",
          "text": [
            "0.5273331134556808 {'max_depth': 3, 'max_features': 2, 'n_estimators': 3}\n",
            "0.5201359928524278 {'max_depth': 3, 'max_features': 2, 'n_estimators': 10}\n",
            "0.5191999260137568 {'max_depth': 3, 'max_features': 2, 'n_estimators': 30}\n",
            "0.47228559430868833 {'max_depth': 3, 'max_features': 4, 'n_estimators': 3}\n",
            "0.4992895763199465 {'max_depth': 3, 'max_features': 4, 'n_estimators': 10}\n",
            "0.4938077438261561 {'max_depth': 3, 'max_features': 4, 'n_estimators': 30}\n",
            "0.5225558691905141 {'max_depth': 3, 'max_features': 6, 'n_estimators': 3}\n",
            "0.4860997346565054 {'max_depth': 3, 'max_features': 6, 'n_estimators': 10}\n",
            "0.4702224894211531 {'max_depth': 3, 'max_features': 6, 'n_estimators': 30}\n",
            "0.5170675648263734 {'max_depth': 3, 'max_features': 8, 'n_estimators': 3}\n",
            "0.48996192855370363 {'max_depth': 3, 'max_features': 8, 'n_estimators': 10}\n",
            "0.4658379568811818 {'max_depth': 3, 'max_features': 8, 'n_estimators': 30}\n",
            "0.5242616255899673 {'max_depth': 5, 'max_features': 2, 'n_estimators': 3}\n",
            "0.5061525511094834 {'max_depth': 5, 'max_features': 2, 'n_estimators': 10}\n",
            "0.5047081927255872 {'max_depth': 5, 'max_features': 2, 'n_estimators': 30}\n",
            "0.46566252481936815 {'max_depth': 5, 'max_features': 4, 'n_estimators': 3}\n",
            "0.477678422020362 {'max_depth': 5, 'max_features': 4, 'n_estimators': 10}\n",
            "0.4672662668826941 {'max_depth': 5, 'max_features': 4, 'n_estimators': 30}\n",
            "0.4180304415636383 {'max_depth': 5, 'max_features': 6, 'n_estimators': 3}\n",
            "0.4331642321837023 {'max_depth': 5, 'max_features': 6, 'n_estimators': 10}\n",
            "0.43816858884927984 {'max_depth': 5, 'max_features': 6, 'n_estimators': 30}\n",
            "0.49653729938983665 {'max_depth': 5, 'max_features': 8, 'n_estimators': 3}\n",
            "0.4602795761674526 {'max_depth': 5, 'max_features': 8, 'n_estimators': 10}\n",
            "0.4311108865643517 {'max_depth': 5, 'max_features': 8, 'n_estimators': 30}\n",
            "0.5018922793657238 {'max_depth': 7, 'max_features': 2, 'n_estimators': 3}\n",
            "0.49480742329465865 {'max_depth': 7, 'max_features': 2, 'n_estimators': 10}\n",
            "0.47658120168097556 {'max_depth': 7, 'max_features': 2, 'n_estimators': 30}\n",
            "0.4623237389041349 {'max_depth': 7, 'max_features': 4, 'n_estimators': 3}\n",
            "0.46495100678491647 {'max_depth': 7, 'max_features': 4, 'n_estimators': 10}\n",
            "0.4490206510822494 {'max_depth': 7, 'max_features': 4, 'n_estimators': 30}\n",
            "0.39978925677061955 {'max_depth': 7, 'max_features': 6, 'n_estimators': 3}\n",
            "0.377109876889666 {'max_depth': 7, 'max_features': 6, 'n_estimators': 10}\n",
            "0.39390520488384384 {'max_depth': 7, 'max_features': 6, 'n_estimators': 30}\n",
            "0.44793269910628875 {'max_depth': 7, 'max_features': 8, 'n_estimators': 3}\n",
            "0.42745434431275164 {'max_depth': 7, 'max_features': 8, 'n_estimators': 10}\n",
            "0.40069071934563116 {'max_depth': 7, 'max_features': 8, 'n_estimators': 30}\n",
            "0.49350605355713373 {'max_depth': 10, 'max_features': 2, 'n_estimators': 3}\n",
            "0.48418790870993034 {'max_depth': 10, 'max_features': 2, 'n_estimators': 10}\n",
            "0.4560102611473032 {'max_depth': 10, 'max_features': 2, 'n_estimators': 30}\n",
            "0.4565806621722183 {'max_depth': 10, 'max_features': 4, 'n_estimators': 3}\n",
            "0.4410644898277554 {'max_depth': 10, 'max_features': 4, 'n_estimators': 10}\n",
            "0.42501877876237365 {'max_depth': 10, 'max_features': 4, 'n_estimators': 30}\n",
            "0.35206354371086335 {'max_depth': 10, 'max_features': 6, 'n_estimators': 3}\n",
            "0.33039988144164834 {'max_depth': 10, 'max_features': 6, 'n_estimators': 10}\n",
            "0.3564047560989786 {'max_depth': 10, 'max_features': 6, 'n_estimators': 30}\n",
            "0.37531411771708223 {'max_depth': 10, 'max_features': 8, 'n_estimators': 3}\n",
            "0.360757271660842 {'max_depth': 10, 'max_features': 8, 'n_estimators': 10}\n",
            "0.3508597009223998 {'max_depth': 10, 'max_features': 8, 'n_estimators': 30}\n",
            "0.25823453550399045 {'bootstrap': False, 'max_features': 2, 'n_estimators': 3}\n",
            "0.21077450152971194 {'bootstrap': False, 'max_features': 2, 'n_estimators': 10}\n",
            "0.2362008717416681 {'bootstrap': False, 'max_features': 3, 'n_estimators': 3}\n",
            "0.19729636779998 {'bootstrap': False, 'max_features': 3, 'n_estimators': 10}\n",
            "0.2257152616665453 {'bootstrap': False, 'max_features': 4, 'n_estimators': 3}\n",
            "0.1896800353270645 {'bootstrap': False, 'max_features': 4, 'n_estimators': 10}\n"
          ]
        }
      ],
      "source": [
        "cvres = grid_search.cv_results_\n",
        "for mean_score, params in zip(cvres[\"mean_test_score\"], cvres[\"params\"]):\n",
        "    print(-mean_score, params)"
      ]
    },
    {
      "cell_type": "code",
      "execution_count": null,
      "metadata": {
        "id": "Ju4HcOd7Mc_p",
        "outputId": "2eeaeb26-112a-4eaf-b26a-f92fd20c275e",
        "colab": {
          "base_uri": "https://localhost:8080/"
        }
      },
      "outputs": [
        {
          "data": {
            "text/html": [
              "\n",
              "  <div id=\"df-1c7355a6-69f6-4686-8dfa-ec6a16014c3c\">\n",
              "    <div class=\"colab-df-container\">\n",
              "      <div>\n",
              "<style scoped>\n",
              "    .dataframe tbody tr th:only-of-type {\n",
              "        vertical-align: middle;\n",
              "    }\n",
              "\n",
              "    .dataframe tbody tr th {\n",
              "        vertical-align: top;\n",
              "    }\n",
              "\n",
              "    .dataframe thead th {\n",
              "        text-align: right;\n",
              "    }\n",
              "</style>\n",
              "<table border=\"1\" class=\"dataframe\">\n",
              "  <thead>\n",
              "    <tr style=\"text-align: right;\">\n",
              "      <th></th>\n",
              "      <th>mean_fit_time</th>\n",
              "      <th>std_fit_time</th>\n",
              "      <th>mean_score_time</th>\n",
              "      <th>std_score_time</th>\n",
              "      <th>param_max_depth</th>\n",
              "      <th>param_max_features</th>\n",
              "      <th>param_n_estimators</th>\n",
              "      <th>param_bootstrap</th>\n",
              "      <th>params</th>\n",
              "      <th>split0_test_score</th>\n",
              "      <th>split1_test_score</th>\n",
              "      <th>split2_test_score</th>\n",
              "      <th>split3_test_score</th>\n",
              "      <th>split4_test_score</th>\n",
              "      <th>mean_test_score</th>\n",
              "      <th>std_test_score</th>\n",
              "      <th>rank_test_score</th>\n",
              "      <th>split0_train_score</th>\n",
              "      <th>split1_train_score</th>\n",
              "      <th>split2_train_score</th>\n",
              "      <th>split3_train_score</th>\n",
              "      <th>split4_train_score</th>\n",
              "      <th>mean_train_score</th>\n",
              "      <th>std_train_score</th>\n",
              "    </tr>\n",
              "  </thead>\n",
              "  <tbody>\n",
              "    <tr>\n",
              "      <th>0</th>\n",
              "      <td>0.009866</td>\n",
              "      <td>0.002008</td>\n",
              "      <td>0.001571</td>\n",
              "      <td>0.000183</td>\n",
              "      <td>3</td>\n",
              "      <td>2</td>\n",
              "      <td>3</td>\n",
              "      <td>NaN</td>\n",
              "      <td>{'max_depth': 3, 'max_features': 2, 'n_estimat...</td>\n",
              "      <td>-0.523810</td>\n",
              "      <td>-0.534203</td>\n",
              "      <td>-0.523382</td>\n",
              "      <td>-0.537473</td>\n",
              "      <td>-0.517798</td>\n",
              "      <td>-0.527333</td>\n",
              "      <td>0.007334</td>\n",
              "      <td>54</td>\n",
              "      <td>-5.272684e-01</td>\n",
              "      <td>-5.250165e-01</td>\n",
              "      <td>-5.273541e-01</td>\n",
              "      <td>-5.243560e-01</td>\n",
              "      <td>-5.287144e-01</td>\n",
              "      <td>-5.265419e-01</td>\n",
              "      <td>1.613197e-03</td>\n",
              "    </tr>\n",
              "    <tr>\n",
              "      <th>1</th>\n",
              "      <td>0.019540</td>\n",
              "      <td>0.001525</td>\n",
              "      <td>0.002440</td>\n",
              "      <td>0.000104</td>\n",
              "      <td>3</td>\n",
              "      <td>2</td>\n",
              "      <td>10</td>\n",
              "      <td>NaN</td>\n",
              "      <td>{'max_depth': 3, 'max_features': 2, 'n_estimat...</td>\n",
              "      <td>-0.517208</td>\n",
              "      <td>-0.525491</td>\n",
              "      <td>-0.515919</td>\n",
              "      <td>-0.530887</td>\n",
              "      <td>-0.511175</td>\n",
              "      <td>-0.520136</td>\n",
              "      <td>0.007084</td>\n",
              "      <td>51</td>\n",
              "      <td>-5.203226e-01</td>\n",
              "      <td>-5.185290e-01</td>\n",
              "      <td>-5.204146e-01</td>\n",
              "      <td>-5.171388e-01</td>\n",
              "      <td>-5.196507e-01</td>\n",
              "      <td>-5.192111e-01</td>\n",
              "      <td>1.235880e-03</td>\n",
              "    </tr>\n",
              "    <tr>\n",
              "      <th>2</th>\n",
              "      <td>0.048945</td>\n",
              "      <td>0.002200</td>\n",
              "      <td>0.004892</td>\n",
              "      <td>0.000315</td>\n",
              "      <td>3</td>\n",
              "      <td>2</td>\n",
              "      <td>30</td>\n",
              "      <td>NaN</td>\n",
              "      <td>{'max_depth': 3, 'max_features': 2, 'n_estimat...</td>\n",
              "      <td>-0.514354</td>\n",
              "      <td>-0.523879</td>\n",
              "      <td>-0.513653</td>\n",
              "      <td>-0.531615</td>\n",
              "      <td>-0.512498</td>\n",
              "      <td>-0.519200</td>\n",
              "      <td>0.007419</td>\n",
              "      <td>50</td>\n",
              "      <td>-5.172577e-01</td>\n",
              "      <td>-5.152280e-01</td>\n",
              "      <td>-5.177584e-01</td>\n",
              "      <td>-5.178046e-01</td>\n",
              "      <td>-5.222319e-01</td>\n",
              "      <td>-5.180561e-01</td>\n",
              "      <td>2.290187e-03</td>\n",
              "    </tr>\n",
              "    <tr>\n",
              "      <th>3</th>\n",
              "      <td>0.010386</td>\n",
              "      <td>0.001436</td>\n",
              "      <td>0.001569</td>\n",
              "      <td>0.000105</td>\n",
              "      <td>3</td>\n",
              "      <td>4</td>\n",
              "      <td>3</td>\n",
              "      <td>NaN</td>\n",
              "      <td>{'max_depth': 3, 'max_features': 4, 'n_estimat...</td>\n",
              "      <td>-0.502741</td>\n",
              "      <td>-0.511303</td>\n",
              "      <td>-0.501461</td>\n",
              "      <td>-0.432599</td>\n",
              "      <td>-0.413324</td>\n",
              "      <td>-0.472286</td>\n",
              "      <td>0.040872</td>\n",
              "      <td>35</td>\n",
              "      <td>-5.058405e-01</td>\n",
              "      <td>-5.039799e-01</td>\n",
              "      <td>-5.060758e-01</td>\n",
              "      <td>-4.180246e-01</td>\n",
              "      <td>-4.222975e-01</td>\n",
              "      <td>-4.712437e-01</td>\n",
              "      <td>4.173698e-02</td>\n",
              "    </tr>\n",
              "    <tr>\n",
              "      <th>4</th>\n",
              "      <td>0.020287</td>\n",
              "      <td>0.000986</td>\n",
              "      <td>0.002735</td>\n",
              "      <td>0.000627</td>\n",
              "      <td>3</td>\n",
              "      <td>4</td>\n",
              "      <td>10</td>\n",
              "      <td>NaN</td>\n",
              "      <td>{'max_depth': 3, 'max_features': 4, 'n_estimat...</td>\n",
              "      <td>-0.508258</td>\n",
              "      <td>-0.515598</td>\n",
              "      <td>-0.506028</td>\n",
              "      <td>-0.493753</td>\n",
              "      <td>-0.472811</td>\n",
              "      <td>-0.499290</td>\n",
              "      <td>0.014991</td>\n",
              "      <td>45</td>\n",
              "      <td>-5.096946e-01</td>\n",
              "      <td>-5.082517e-01</td>\n",
              "      <td>-5.101133e-01</td>\n",
              "      <td>-4.805228e-01</td>\n",
              "      <td>-4.833547e-01</td>\n",
              "      <td>-4.983874e-01</td>\n",
              "      <td>1.347426e-02</td>\n",
              "    </tr>\n",
              "    <tr>\n",
              "      <th>...</th>\n",
              "      <td>...</td>\n",
              "      <td>...</td>\n",
              "      <td>...</td>\n",
              "      <td>...</td>\n",
              "      <td>...</td>\n",
              "      <td>...</td>\n",
              "      <td>...</td>\n",
              "      <td>...</td>\n",
              "      <td>...</td>\n",
              "      <td>...</td>\n",
              "      <td>...</td>\n",
              "      <td>...</td>\n",
              "      <td>...</td>\n",
              "      <td>...</td>\n",
              "      <td>...</td>\n",
              "      <td>...</td>\n",
              "      <td>...</td>\n",
              "      <td>...</td>\n",
              "      <td>...</td>\n",
              "      <td>...</td>\n",
              "      <td>...</td>\n",
              "      <td>...</td>\n",
              "      <td>...</td>\n",
              "      <td>...</td>\n",
              "    </tr>\n",
              "    <tr>\n",
              "      <th>49</th>\n",
              "      <td>0.351695</td>\n",
              "      <td>0.002177</td>\n",
              "      <td>0.006911</td>\n",
              "      <td>0.000157</td>\n",
              "      <td>NaN</td>\n",
              "      <td>2</td>\n",
              "      <td>10</td>\n",
              "      <td>False</td>\n",
              "      <td>{'bootstrap': False, 'max_features': 2, 'n_est...</td>\n",
              "      <td>-0.210034</td>\n",
              "      <td>-0.214481</td>\n",
              "      <td>-0.203971</td>\n",
              "      <td>-0.219065</td>\n",
              "      <td>-0.206323</td>\n",
              "      <td>-0.210775</td>\n",
              "      <td>0.005461</td>\n",
              "      <td>3</td>\n",
              "      <td>-1.774056e-15</td>\n",
              "      <td>-1.764307e-15</td>\n",
              "      <td>-1.765078e-15</td>\n",
              "      <td>-1.763020e-15</td>\n",
              "      <td>-1.753727e-15</td>\n",
              "      <td>-1.764038e-15</td>\n",
              "      <td>6.463101e-18</td>\n",
              "    </tr>\n",
              "    <tr>\n",
              "      <th>50</th>\n",
              "      <td>0.108045</td>\n",
              "      <td>0.003383</td>\n",
              "      <td>0.003088</td>\n",
              "      <td>0.000104</td>\n",
              "      <td>NaN</td>\n",
              "      <td>3</td>\n",
              "      <td>3</td>\n",
              "      <td>False</td>\n",
              "      <td>{'bootstrap': False, 'max_features': 3, 'n_est...</td>\n",
              "      <td>-0.232059</td>\n",
              "      <td>-0.247637</td>\n",
              "      <td>-0.221522</td>\n",
              "      <td>-0.244522</td>\n",
              "      <td>-0.235264</td>\n",
              "      <td>-0.236201</td>\n",
              "      <td>0.009312</td>\n",
              "      <td>5</td>\n",
              "      <td>-8.758277e-16</td>\n",
              "      <td>-8.590839e-16</td>\n",
              "      <td>-8.674962e-16</td>\n",
              "      <td>-8.716719e-16</td>\n",
              "      <td>-8.753093e-16</td>\n",
              "      <td>-8.698778e-16</td>\n",
              "      <td>6.169295e-18</td>\n",
              "    </tr>\n",
              "    <tr>\n",
              "      <th>51</th>\n",
              "      <td>0.347477</td>\n",
              "      <td>0.000905</td>\n",
              "      <td>0.006635</td>\n",
              "      <td>0.000206</td>\n",
              "      <td>NaN</td>\n",
              "      <td>3</td>\n",
              "      <td>10</td>\n",
              "      <td>False</td>\n",
              "      <td>{'bootstrap': False, 'max_features': 3, 'n_est...</td>\n",
              "      <td>-0.207752</td>\n",
              "      <td>-0.194999</td>\n",
              "      <td>-0.192944</td>\n",
              "      <td>-0.189728</td>\n",
              "      <td>-0.201058</td>\n",
              "      <td>-0.197296</td>\n",
              "      <td>0.006403</td>\n",
              "      <td>2</td>\n",
              "      <td>-1.774056e-15</td>\n",
              "      <td>-1.764307e-15</td>\n",
              "      <td>-1.765078e-15</td>\n",
              "      <td>-1.763020e-15</td>\n",
              "      <td>-1.753727e-15</td>\n",
              "      <td>-1.764038e-15</td>\n",
              "      <td>6.463101e-18</td>\n",
              "    </tr>\n",
              "    <tr>\n",
              "      <th>52</th>\n",
              "      <td>0.108144</td>\n",
              "      <td>0.003609</td>\n",
              "      <td>0.003230</td>\n",
              "      <td>0.000599</td>\n",
              "      <td>NaN</td>\n",
              "      <td>4</td>\n",
              "      <td>3</td>\n",
              "      <td>False</td>\n",
              "      <td>{'bootstrap': False, 'max_features': 4, 'n_est...</td>\n",
              "      <td>-0.239722</td>\n",
              "      <td>-0.220230</td>\n",
              "      <td>-0.229579</td>\n",
              "      <td>-0.223556</td>\n",
              "      <td>-0.215489</td>\n",
              "      <td>-0.225715</td>\n",
              "      <td>0.008372</td>\n",
              "      <td>4</td>\n",
              "      <td>-8.758277e-16</td>\n",
              "      <td>-8.590839e-16</td>\n",
              "      <td>-8.674962e-16</td>\n",
              "      <td>-8.716719e-16</td>\n",
              "      <td>-8.753093e-16</td>\n",
              "      <td>-8.698778e-16</td>\n",
              "      <td>6.169295e-18</td>\n",
              "    </tr>\n",
              "    <tr>\n",
              "      <th>53</th>\n",
              "      <td>0.348536</td>\n",
              "      <td>0.002240</td>\n",
              "      <td>0.006868</td>\n",
              "      <td>0.000868</td>\n",
              "      <td>NaN</td>\n",
              "      <td>4</td>\n",
              "      <td>10</td>\n",
              "      <td>False</td>\n",
              "      <td>{'bootstrap': False, 'max_features': 4, 'n_est...</td>\n",
              "      <td>-0.192918</td>\n",
              "      <td>-0.181825</td>\n",
              "      <td>-0.190598</td>\n",
              "      <td>-0.194283</td>\n",
              "      <td>-0.188777</td>\n",
              "      <td>-0.189680</td>\n",
              "      <td>0.004360</td>\n",
              "      <td>1</td>\n",
              "      <td>-1.774056e-15</td>\n",
              "      <td>-1.764307e-15</td>\n",
              "      <td>-1.765078e-15</td>\n",
              "      <td>-1.763020e-15</td>\n",
              "      <td>-1.753727e-15</td>\n",
              "      <td>-1.764038e-15</td>\n",
              "      <td>6.463101e-18</td>\n",
              "    </tr>\n",
              "  </tbody>\n",
              "</table>\n",
              "<p>54 rows × 24 columns</p>\n",
              "</div>\n",
              "      <button class=\"colab-df-convert\" onclick=\"convertToInteractive('df-1c7355a6-69f6-4686-8dfa-ec6a16014c3c')\"\n",
              "              title=\"Convert this dataframe to an interactive table.\"\n",
              "              style=\"display:none;\">\n",
              "        \n",
              "  <svg xmlns=\"http://www.w3.org/2000/svg\" height=\"24px\"viewBox=\"0 0 24 24\"\n",
              "       width=\"24px\">\n",
              "    <path d=\"M0 0h24v24H0V0z\" fill=\"none\"/>\n",
              "    <path d=\"M18.56 5.44l.94 2.06.94-2.06 2.06-.94-2.06-.94-.94-2.06-.94 2.06-2.06.94zm-11 1L8.5 8.5l.94-2.06 2.06-.94-2.06-.94L8.5 2.5l-.94 2.06-2.06.94zm10 10l.94 2.06.94-2.06 2.06-.94-2.06-.94-.94-2.06-.94 2.06-2.06.94z\"/><path d=\"M17.41 7.96l-1.37-1.37c-.4-.4-.92-.59-1.43-.59-.52 0-1.04.2-1.43.59L10.3 9.45l-7.72 7.72c-.78.78-.78 2.05 0 2.83L4 21.41c.39.39.9.59 1.41.59.51 0 1.02-.2 1.41-.59l7.78-7.78 2.81-2.81c.8-.78.8-2.07 0-2.86zM5.41 20L4 18.59l7.72-7.72 1.47 1.35L5.41 20z\"/>\n",
              "  </svg>\n",
              "      </button>\n",
              "      \n",
              "  <style>\n",
              "    .colab-df-container {\n",
              "      display:flex;\n",
              "      flex-wrap:wrap;\n",
              "      gap: 12px;\n",
              "    }\n",
              "\n",
              "    .colab-df-convert {\n",
              "      background-color: #E8F0FE;\n",
              "      border: none;\n",
              "      border-radius: 50%;\n",
              "      cursor: pointer;\n",
              "      display: none;\n",
              "      fill: #1967D2;\n",
              "      height: 32px;\n",
              "      padding: 0 0 0 0;\n",
              "      width: 32px;\n",
              "    }\n",
              "\n",
              "    .colab-df-convert:hover {\n",
              "      background-color: #E2EBFA;\n",
              "      box-shadow: 0px 1px 2px rgba(60, 64, 67, 0.3), 0px 1px 3px 1px rgba(60, 64, 67, 0.15);\n",
              "      fill: #174EA6;\n",
              "    }\n",
              "\n",
              "    [theme=dark] .colab-df-convert {\n",
              "      background-color: #3B4455;\n",
              "      fill: #D2E3FC;\n",
              "    }\n",
              "\n",
              "    [theme=dark] .colab-df-convert:hover {\n",
              "      background-color: #434B5C;\n",
              "      box-shadow: 0px 1px 3px 1px rgba(0, 0, 0, 0.15);\n",
              "      filter: drop-shadow(0px 1px 2px rgba(0, 0, 0, 0.3));\n",
              "      fill: #FFFFFF;\n",
              "    }\n",
              "  </style>\n",
              "\n",
              "      <script>\n",
              "        const buttonEl =\n",
              "          document.querySelector('#df-1c7355a6-69f6-4686-8dfa-ec6a16014c3c button.colab-df-convert');\n",
              "        buttonEl.style.display =\n",
              "          google.colab.kernel.accessAllowed ? 'block' : 'none';\n",
              "\n",
              "        async function convertToInteractive(key) {\n",
              "          const element = document.querySelector('#df-1c7355a6-69f6-4686-8dfa-ec6a16014c3c');\n",
              "          const dataTable =\n",
              "            await google.colab.kernel.invokeFunction('convertToInteractive',\n",
              "                                                     [key], {});\n",
              "          if (!dataTable) return;\n",
              "\n",
              "          const docLinkHtml = 'Like what you see? Visit the ' +\n",
              "            '<a target=\"_blank\" href=https://colab.research.google.com/notebooks/data_table.ipynb>data table notebook</a>'\n",
              "            + ' to learn more about interactive tables.';\n",
              "          element.innerHTML = '';\n",
              "          dataTable['output_type'] = 'display_data';\n",
              "          await google.colab.output.renderOutput(dataTable, element);\n",
              "          const docLink = document.createElement('div');\n",
              "          docLink.innerHTML = docLinkHtml;\n",
              "          element.appendChild(docLink);\n",
              "        }\n",
              "      </script>\n",
              "    </div>\n",
              "  </div>\n",
              "  "
            ],
            "text/plain": [
              "    mean_fit_time  std_fit_time  mean_score_time  std_score_time  \\\n",
              "0        0.009866      0.002008         0.001571        0.000183   \n",
              "1        0.019540      0.001525         0.002440        0.000104   \n",
              "2        0.048945      0.002200         0.004892        0.000315   \n",
              "3        0.010386      0.001436         0.001569        0.000105   \n",
              "4        0.020287      0.000986         0.002735        0.000627   \n",
              "..            ...           ...              ...             ...   \n",
              "49       0.351695      0.002177         0.006911        0.000157   \n",
              "50       0.108045      0.003383         0.003088        0.000104   \n",
              "51       0.347477      0.000905         0.006635        0.000206   \n",
              "52       0.108144      0.003609         0.003230        0.000599   \n",
              "53       0.348536      0.002240         0.006868        0.000868   \n",
              "\n",
              "   param_max_depth param_max_features param_n_estimators param_bootstrap  \\\n",
              "0                3                  2                  3             NaN   \n",
              "1                3                  2                 10             NaN   \n",
              "2                3                  2                 30             NaN   \n",
              "3                3                  4                  3             NaN   \n",
              "4                3                  4                 10             NaN   \n",
              "..             ...                ...                ...             ...   \n",
              "49             NaN                  2                 10           False   \n",
              "50             NaN                  3                  3           False   \n",
              "51             NaN                  3                 10           False   \n",
              "52             NaN                  4                  3           False   \n",
              "53             NaN                  4                 10           False   \n",
              "\n",
              "                                               params  split0_test_score  \\\n",
              "0   {'max_depth': 3, 'max_features': 2, 'n_estimat...          -0.523810   \n",
              "1   {'max_depth': 3, 'max_features': 2, 'n_estimat...          -0.517208   \n",
              "2   {'max_depth': 3, 'max_features': 2, 'n_estimat...          -0.514354   \n",
              "3   {'max_depth': 3, 'max_features': 4, 'n_estimat...          -0.502741   \n",
              "4   {'max_depth': 3, 'max_features': 4, 'n_estimat...          -0.508258   \n",
              "..                                                ...                ...   \n",
              "49  {'bootstrap': False, 'max_features': 2, 'n_est...          -0.210034   \n",
              "50  {'bootstrap': False, 'max_features': 3, 'n_est...          -0.232059   \n",
              "51  {'bootstrap': False, 'max_features': 3, 'n_est...          -0.207752   \n",
              "52  {'bootstrap': False, 'max_features': 4, 'n_est...          -0.239722   \n",
              "53  {'bootstrap': False, 'max_features': 4, 'n_est...          -0.192918   \n",
              "\n",
              "    split1_test_score  split2_test_score  split3_test_score  \\\n",
              "0           -0.534203          -0.523382          -0.537473   \n",
              "1           -0.525491          -0.515919          -0.530887   \n",
              "2           -0.523879          -0.513653          -0.531615   \n",
              "3           -0.511303          -0.501461          -0.432599   \n",
              "4           -0.515598          -0.506028          -0.493753   \n",
              "..                ...                ...                ...   \n",
              "49          -0.214481          -0.203971          -0.219065   \n",
              "50          -0.247637          -0.221522          -0.244522   \n",
              "51          -0.194999          -0.192944          -0.189728   \n",
              "52          -0.220230          -0.229579          -0.223556   \n",
              "53          -0.181825          -0.190598          -0.194283   \n",
              "\n",
              "    split4_test_score  mean_test_score  std_test_score  rank_test_score  \\\n",
              "0           -0.517798        -0.527333        0.007334               54   \n",
              "1           -0.511175        -0.520136        0.007084               51   \n",
              "2           -0.512498        -0.519200        0.007419               50   \n",
              "3           -0.413324        -0.472286        0.040872               35   \n",
              "4           -0.472811        -0.499290        0.014991               45   \n",
              "..                ...              ...             ...              ...   \n",
              "49          -0.206323        -0.210775        0.005461                3   \n",
              "50          -0.235264        -0.236201        0.009312                5   \n",
              "51          -0.201058        -0.197296        0.006403                2   \n",
              "52          -0.215489        -0.225715        0.008372                4   \n",
              "53          -0.188777        -0.189680        0.004360                1   \n",
              "\n",
              "    split0_train_score  split1_train_score  split2_train_score  \\\n",
              "0        -5.272684e-01       -5.250165e-01       -5.273541e-01   \n",
              "1        -5.203226e-01       -5.185290e-01       -5.204146e-01   \n",
              "2        -5.172577e-01       -5.152280e-01       -5.177584e-01   \n",
              "3        -5.058405e-01       -5.039799e-01       -5.060758e-01   \n",
              "4        -5.096946e-01       -5.082517e-01       -5.101133e-01   \n",
              "..                 ...                 ...                 ...   \n",
              "49       -1.774056e-15       -1.764307e-15       -1.765078e-15   \n",
              "50       -8.758277e-16       -8.590839e-16       -8.674962e-16   \n",
              "51       -1.774056e-15       -1.764307e-15       -1.765078e-15   \n",
              "52       -8.758277e-16       -8.590839e-16       -8.674962e-16   \n",
              "53       -1.774056e-15       -1.764307e-15       -1.765078e-15   \n",
              "\n",
              "    split3_train_score  split4_train_score  mean_train_score  std_train_score  \n",
              "0        -5.243560e-01       -5.287144e-01     -5.265419e-01     1.613197e-03  \n",
              "1        -5.171388e-01       -5.196507e-01     -5.192111e-01     1.235880e-03  \n",
              "2        -5.178046e-01       -5.222319e-01     -5.180561e-01     2.290187e-03  \n",
              "3        -4.180246e-01       -4.222975e-01     -4.712437e-01     4.173698e-02  \n",
              "4        -4.805228e-01       -4.833547e-01     -4.983874e-01     1.347426e-02  \n",
              "..                 ...                 ...               ...              ...  \n",
              "49       -1.763020e-15       -1.753727e-15     -1.764038e-15     6.463101e-18  \n",
              "50       -8.716719e-16       -8.753093e-16     -8.698778e-16     6.169295e-18  \n",
              "51       -1.763020e-15       -1.753727e-15     -1.764038e-15     6.463101e-18  \n",
              "52       -8.716719e-16       -8.753093e-16     -8.698778e-16     6.169295e-18  \n",
              "53       -1.763020e-15       -1.753727e-15     -1.764038e-15     6.463101e-18  \n",
              "\n",
              "[54 rows x 24 columns]"
            ]
          },
          "execution_count": null,
          "metadata": {},
          "output_type": "execute_result"
        }
      ],
      "source": [
        "pd.DataFrame(grid_search.cv_results_)\n"
      ]
    },
    {
      "cell_type": "code",
      "execution_count": null,
      "metadata": {
        "id": "h9EikRgQMc_p"
      },
      "outputs": [],
      "source": [
        "grid_search = GridSearchCV(RandomForestRegressor(random_state=42,n_estimators=5,max_depth=10), # from 42 to 10 estimators\n",
        "                  param_grid={'max_features': range(2, 50, 2)},\n",
        "                  scoring='neg_root_mean_squared_error', return_train_score=True)\n",
        "grid_search.fit(housing_prepared, housing_labels)\n",
        "results = grid_search.cv_results_"
      ]
    },
    {
      "cell_type": "code",
      "execution_count": null,
      "metadata": {
        "id": "rEoE4y9rMc_q"
      },
      "outputs": [],
      "source": [
        "#plot the results\n",
        "plt.figure(figsize=(15, 15))\n",
        "plt.title(\"GridSearchCV\",\n",
        "          fontsize=16)\n",
        "\n",
        "plt.xlabel(\"max_features\")\n",
        "plt.ylabel(\"Score\")\n",
        "\n",
        "ax = plt.gca()\n",
        "ax.set_xlim(0, 50)\n",
        "\n",
        "\n",
        "# Get the regular numpy array from the MaskedArray\n",
        "X_axis = np.array(results['param_max_features'].data, dtype=float)\n",
        "\n",
        "\n",
        "for sample, style in (('train', '--'), ('test', '-')):\n",
        "    sample_score_mean = (-results['mean_%s_score' % (sample)])\n",
        "    sample_score_std = (results['std_%s_score' % (sample)])\n",
        "    ax.fill_between(X_axis, sample_score_mean - sample_score_std,\n",
        "                    sample_score_mean + sample_score_std,\n",
        "                    alpha=0.1 if sample == 'test' else 0)\n",
        "    ax.plot(X_axis, sample_score_mean, style,\n",
        "            alpha=1 if sample == 'test' else 0.7,\n",
        "            label=\"(%s)\" % ( sample))\n",
        "\n",
        "best_index = np.nonzero(results['rank_test_score' ] == 1)[0][0]\n",
        "best_score =  (-results['mean_test_score' ][best_index])\n",
        "\n",
        "# Plot a dotted vertical line at the best score for that scorer marked by x\n",
        "ax.plot([X_axis[best_index], ] * 2, [best_score, best_score],\n",
        "        linestyle='-.',  marker='x', markeredgewidth=3, ms=8)\n",
        "\n",
        "# Annotate the best score for that scorer\n",
        "ax.annotate(\"%0.2f\" % best_score,\n",
        "            (X_axis[best_index], best_score + 0.005))\n",
        "\n",
        "plt.legend(loc=\"best\")\n",
        "plt.grid(False)\n",
        "plt.show()"
      ]
    },
    {
      "cell_type": "code",
      "execution_count": null,
      "metadata": {
        "scrolled": false,
        "id": "KNaP8L3IMc_q"
      },
      "outputs": [],
      "source": [
        "## Best features according to Random Forest\n",
        "feature_importances = grid_search.best_estimator_.feature_importances_\n",
        "feature_importances"
      ]
    },
    {
      "cell_type": "code",
      "execution_count": null,
      "metadata": {
        "id": "PzY7pjG5Mc_q"
      },
      "outputs": [],
      "source": [
        "extra_attribs = [\"rooms_per_building_area\", \"bedrooms_per_room\"]\n",
        "cat_encoder = full_pipeline.named_transformers_[\"cat\"]\n",
        "cat_one_hot_attribs = list(full_pipeline.named_transformers_[\"cat\"]['one_hot_encoder'].categories_[0])\n",
        "attributes = [\"log_\" + t for t in num_attribs0 ] + num_attribs1 + extra_attribs + cat_one_hot_attribs\n",
        "sorted(zip(feature_importances, attributes), reverse=True)"
      ]
    },
    {
      "cell_type": "markdown",
      "metadata": {
        "id": "DsMSMTs1Mc_q"
      },
      "source": [
        " ## Final Model \n",
        " Create Final Model and evaluate it (You shoud do this only once)"
      ]
    },
    {
      "cell_type": "code",
      "execution_count": null,
      "metadata": {
        "scrolled": false,
        "id": "oAj8B3GrMc_q"
      },
      "outputs": [],
      "source": [
        "# housing_test = pd.read_csv(\"/content/train_set.csv\")\n",
        "\n",
        "final_model = grid_search.best_estimator_\n",
        "\n",
        "X_test = strat_test_set.drop(\"Price\", axis=1)\n",
        "y_test = strat_test_set[\"Price\"].copy()\n",
        "\n",
        "X_test_prepared = full_pipeline.transform(X_test)\n",
        "final_predictions = final_model.predict(X_test_prepared)\n",
        "\n",
        "final_mse = mean_squared_error(y_test, final_predictions)\n",
        "final_rmse = np.sqrt(final_mse)"
      ]
    },
    {
      "cell_type": "code",
      "execution_count": null,
      "metadata": {
        "id": "R_xRX00nMc_q",
        "outputId": "bc30c79e-d387-4705-9e6f-e278c8a45ed8",
        "colab": {
          "base_uri": "https://localhost:8080/"
        }
      },
      "outputs": [
        {
          "output_type": "execute_result",
          "data": {
            "text/plain": [
              "0.18170077940847262"
            ]
          },
          "metadata": {},
          "execution_count": 116
        }
      ],
      "source": [
        "final_rmse"
      ]
    },
    {
      "cell_type": "code",
      "source": [
        "# Submission file\n",
        "\n",
        "output = pd.DataFrame({'Index': X_test.index,\n",
        "                       'Price': final_predictions})\n",
        "output.to_csv('submission.csv', index=False)\n",
        "output.head()"
      ],
      "metadata": {
        "id": "fcLooqj8qwSS",
        "outputId": "688014c5-156a-40bd-b052-8f102363c0c1",
        "colab": {
          "base_uri": "https://localhost:8080/",
          "height": 206
        }
      },
      "execution_count": null,
      "outputs": [
        {
          "output_type": "execute_result",
          "data": {
            "text/html": [
              "\n",
              "  <div id=\"df-1ee75064-cada-47b4-870a-925a754fda98\">\n",
              "    <div class=\"colab-df-container\">\n",
              "      <div>\n",
              "<style scoped>\n",
              "    .dataframe tbody tr th:only-of-type {\n",
              "        vertical-align: middle;\n",
              "    }\n",
              "\n",
              "    .dataframe tbody tr th {\n",
              "        vertical-align: top;\n",
              "    }\n",
              "\n",
              "    .dataframe thead th {\n",
              "        text-align: right;\n",
              "    }\n",
              "</style>\n",
              "<table border=\"1\" class=\"dataframe\">\n",
              "  <thead>\n",
              "    <tr style=\"text-align: right;\">\n",
              "      <th></th>\n",
              "      <th>Index</th>\n",
              "      <th>Price</th>\n",
              "    </tr>\n",
              "  </thead>\n",
              "  <tbody>\n",
              "    <tr>\n",
              "      <th>0</th>\n",
              "      <td>971</td>\n",
              "      <td>13.366869</td>\n",
              "    </tr>\n",
              "    <tr>\n",
              "      <th>1</th>\n",
              "      <td>3502</td>\n",
              "      <td>13.266447</td>\n",
              "    </tr>\n",
              "    <tr>\n",
              "      <th>2</th>\n",
              "      <td>3498</td>\n",
              "      <td>13.473130</td>\n",
              "    </tr>\n",
              "    <tr>\n",
              "      <th>3</th>\n",
              "      <td>474</td>\n",
              "      <td>13.257953</td>\n",
              "    </tr>\n",
              "    <tr>\n",
              "      <th>4</th>\n",
              "      <td>2214</td>\n",
              "      <td>13.818807</td>\n",
              "    </tr>\n",
              "  </tbody>\n",
              "</table>\n",
              "</div>\n",
              "      <button class=\"colab-df-convert\" onclick=\"convertToInteractive('df-1ee75064-cada-47b4-870a-925a754fda98')\"\n",
              "              title=\"Convert this dataframe to an interactive table.\"\n",
              "              style=\"display:none;\">\n",
              "        \n",
              "  <svg xmlns=\"http://www.w3.org/2000/svg\" height=\"24px\"viewBox=\"0 0 24 24\"\n",
              "       width=\"24px\">\n",
              "    <path d=\"M0 0h24v24H0V0z\" fill=\"none\"/>\n",
              "    <path d=\"M18.56 5.44l.94 2.06.94-2.06 2.06-.94-2.06-.94-.94-2.06-.94 2.06-2.06.94zm-11 1L8.5 8.5l.94-2.06 2.06-.94-2.06-.94L8.5 2.5l-.94 2.06-2.06.94zm10 10l.94 2.06.94-2.06 2.06-.94-2.06-.94-.94-2.06-.94 2.06-2.06.94z\"/><path d=\"M17.41 7.96l-1.37-1.37c-.4-.4-.92-.59-1.43-.59-.52 0-1.04.2-1.43.59L10.3 9.45l-7.72 7.72c-.78.78-.78 2.05 0 2.83L4 21.41c.39.39.9.59 1.41.59.51 0 1.02-.2 1.41-.59l7.78-7.78 2.81-2.81c.8-.78.8-2.07 0-2.86zM5.41 20L4 18.59l7.72-7.72 1.47 1.35L5.41 20z\"/>\n",
              "  </svg>\n",
              "      </button>\n",
              "      \n",
              "  <style>\n",
              "    .colab-df-container {\n",
              "      display:flex;\n",
              "      flex-wrap:wrap;\n",
              "      gap: 12px;\n",
              "    }\n",
              "\n",
              "    .colab-df-convert {\n",
              "      background-color: #E8F0FE;\n",
              "      border: none;\n",
              "      border-radius: 50%;\n",
              "      cursor: pointer;\n",
              "      display: none;\n",
              "      fill: #1967D2;\n",
              "      height: 32px;\n",
              "      padding: 0 0 0 0;\n",
              "      width: 32px;\n",
              "    }\n",
              "\n",
              "    .colab-df-convert:hover {\n",
              "      background-color: #E2EBFA;\n",
              "      box-shadow: 0px 1px 2px rgba(60, 64, 67, 0.3), 0px 1px 3px 1px rgba(60, 64, 67, 0.15);\n",
              "      fill: #174EA6;\n",
              "    }\n",
              "\n",
              "    [theme=dark] .colab-df-convert {\n",
              "      background-color: #3B4455;\n",
              "      fill: #D2E3FC;\n",
              "    }\n",
              "\n",
              "    [theme=dark] .colab-df-convert:hover {\n",
              "      background-color: #434B5C;\n",
              "      box-shadow: 0px 1px 3px 1px rgba(0, 0, 0, 0.15);\n",
              "      filter: drop-shadow(0px 1px 2px rgba(0, 0, 0, 0.3));\n",
              "      fill: #FFFFFF;\n",
              "    }\n",
              "  </style>\n",
              "\n",
              "      <script>\n",
              "        const buttonEl =\n",
              "          document.querySelector('#df-1ee75064-cada-47b4-870a-925a754fda98 button.colab-df-convert');\n",
              "        buttonEl.style.display =\n",
              "          google.colab.kernel.accessAllowed ? 'block' : 'none';\n",
              "\n",
              "        async function convertToInteractive(key) {\n",
              "          const element = document.querySelector('#df-1ee75064-cada-47b4-870a-925a754fda98');\n",
              "          const dataTable =\n",
              "            await google.colab.kernel.invokeFunction('convertToInteractive',\n",
              "                                                     [key], {});\n",
              "          if (!dataTable) return;\n",
              "\n",
              "          const docLinkHtml = 'Like what you see? Visit the ' +\n",
              "            '<a target=\"_blank\" href=https://colab.research.google.com/notebooks/data_table.ipynb>data table notebook</a>'\n",
              "            + ' to learn more about interactive tables.';\n",
              "          element.innerHTML = '';\n",
              "          dataTable['output_type'] = 'display_data';\n",
              "          await google.colab.output.renderOutput(dataTable, element);\n",
              "          const docLink = document.createElement('div');\n",
              "          docLink.innerHTML = docLinkHtml;\n",
              "          element.appendChild(docLink);\n",
              "        }\n",
              "      </script>\n",
              "    </div>\n",
              "  </div>\n",
              "  "
            ],
            "text/plain": [
              "   Index      Price\n",
              "0    971  13.366869\n",
              "1   3502  13.266447\n",
              "2   3498  13.473130\n",
              "3    474  13.257953\n",
              "4   2214  13.818807"
            ]
          },
          "metadata": {},
          "execution_count": 118
        }
      ]
    },
    {
      "cell_type": "markdown",
      "metadata": {
        "id": "bQMwsmExMc_q"
      },
      "source": [
        "We can compute a 95% confidence interval for the test RMSE:\n"
      ]
    },
    {
      "cell_type": "code",
      "execution_count": null,
      "metadata": {
        "id": "sLJwjgZlMc_q"
      },
      "outputs": [],
      "source": [
        "from scipy import stats\n",
        "confidence = 0.95\n",
        "squared_errors = (final_predictions - y_test) ** 2\n",
        "np.sqrt(stats.t.interval(confidence, len(squared_errors) - 1,\n",
        "                         loc=squared_errors.mean(),\n",
        "                         scale=stats.sem(squared_errors)))"
      ]
    },
    {
      "cell_type": "code",
      "execution_count": null,
      "metadata": {
        "id": "QkhzF1vaMc_q"
      },
      "outputs": [],
      "source": [
        "# create submission file\n",
        "# submission.to_csv(\"housing_prediction.csv\", index=False)"
      ]
    }
  ],
  "metadata": {
    "kernelspec": {
      "display_name": "Python 3",
      "language": "python",
      "name": "python3"
    },
    "language_info": {
      "codemirror_mode": {
        "name": "ipython",
        "version": 3
      },
      "file_extension": ".py",
      "mimetype": "text/x-python",
      "name": "python",
      "nbconvert_exporter": "python",
      "pygments_lexer": "ipython3",
      "version": "3.8.8"
    },
    "colab": {
      "name": "Kaggle Challenge_End-to-end Machine Learning project.ipynb",
      "provenance": [],
      "collapsed_sections": [
        "CsMeVBwIMc_g",
        "SpWsgTlfMc_j",
        "nCqcInDEMc_j",
        "RrsYDZqzMc_l",
        "62xbaZslMc_m",
        "K-gZ06u_Mc_n",
        "ljUNEbLDMc_n",
        "4Ur581BCMc_o",
        "DsMSMTs1Mc_q"
      ]
    }
  },
  "nbformat": 4,
  "nbformat_minor": 0
}